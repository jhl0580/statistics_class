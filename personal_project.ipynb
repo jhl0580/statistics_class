{
  "nbformat": 4,
  "nbformat_minor": 0,
  "metadata": {
    "colab": {
      "name": "personal_project.ipynb",
      "provenance": [],
      "collapsed_sections": [],
      "authorship_tag": "ABX9TyPtwdDVYWzLjxy/TblaWRS+",
      "include_colab_link": true
    },
    "kernelspec": {
      "name": "python3",
      "display_name": "Python 3"
    },
    "language_info": {
      "name": "python"
    }
  },
  "cells": [
    {
      "cell_type": "markdown",
      "metadata": {
        "id": "view-in-github",
        "colab_type": "text"
      },
      "source": [
        "<a href=\"https://colab.research.google.com/github/jhl0580/prac_class/blob/main/personal_project.ipynb\" target=\"_parent\"><img src=\"https://colab.research.google.com/assets/colab-badge.svg\" alt=\"Open In Colab\"/></a>"
      ]
    },
    {
      "cell_type": "code",
      "metadata": {
        "id": "2v_V-O0at3Zi",
        "colab": {
          "base_uri": "https://localhost:8080/"
        },
        "outputId": "01e4ce6e-387f-47f8-cde6-914d7e39512e"
      },
      "source": [
        "pip install bayesian-optimization"
      ],
      "execution_count": 1,
      "outputs": [
        {
          "output_type": "stream",
          "text": [
            "Requirement already satisfied: bayesian-optimization in /usr/local/lib/python3.7/dist-packages (1.2.0)\n",
            "Requirement already satisfied: scikit-learn>=0.18.0 in /usr/local/lib/python3.7/dist-packages (from bayesian-optimization) (0.22.2.post1)\n",
            "Requirement already satisfied: scipy>=0.14.0 in /usr/local/lib/python3.7/dist-packages (from bayesian-optimization) (1.4.1)\n",
            "Requirement already satisfied: numpy>=1.9.0 in /usr/local/lib/python3.7/dist-packages (from bayesian-optimization) (1.19.5)\n",
            "Requirement already satisfied: joblib>=0.11 in /usr/local/lib/python3.7/dist-packages (from scikit-learn>=0.18.0->bayesian-optimization) (1.0.1)\n"
          ],
          "name": "stdout"
        }
      ]
    },
    {
      "cell_type": "code",
      "metadata": {
        "id": "bbcdQfZ02XNt",
        "colab": {
          "base_uri": "https://localhost:8080/"
        },
        "outputId": "c8706253-f25c-4986-d6b0-ec18bc978ef4"
      },
      "source": [
        "pip install pysal"
      ],
      "execution_count": 2,
      "outputs": [
        {
          "output_type": "stream",
          "text": [
            "Requirement already satisfied: pysal in /usr/local/lib/python3.7/dist-packages (2.4.0)\n",
            "Requirement already satisfied: inequality>=1.0.0 in /usr/local/lib/python3.7/dist-packages (from pysal) (1.0.0)\n",
            "Requirement already satisfied: splot>=1.1.3 in /usr/local/lib/python3.7/dist-packages (from pysal) (1.1.3)\n",
            "Requirement already satisfied: pytest in /usr/local/lib/python3.7/dist-packages (from pysal) (3.6.4)\n",
            "Requirement already satisfied: libpysal>=4.4.0 in /usr/local/lib/python3.7/dist-packages (from pysal) (4.4.0)\n",
            "Requirement already satisfied: esda>=2.3.6 in /usr/local/lib/python3.7/dist-packages (from pysal) (2.3.6)\n",
            "Requirement already satisfied: giddy>=2.3.3 in /usr/local/lib/python3.7/dist-packages (from pysal) (2.3.3)\n",
            "Requirement already satisfied: mapclassify>=2.4.2 in /usr/local/lib/python3.7/dist-packages (from pysal) (2.4.2)\n",
            "Requirement already satisfied: spreg>=1.2.2 in /usr/local/lib/python3.7/dist-packages (from pysal) (1.2.2)\n",
            "Requirement already satisfied: tobler>=0.6.0 in /usr/local/lib/python3.7/dist-packages (from pysal) (0.7.0)\n",
            "Requirement already satisfied: spglm>=1.0.8 in /usr/local/lib/python3.7/dist-packages (from pysal) (1.0.8)\n",
            "Requirement already satisfied: spvcm>=0.3.0 in /usr/local/lib/python3.7/dist-packages (from pysal) (0.3.0)\n",
            "Requirement already satisfied: spint>=1.0.7 in /usr/local/lib/python3.7/dist-packages (from pysal) (1.0.7)\n",
            "Requirement already satisfied: mgwr>=2.1.2 in /usr/local/lib/python3.7/dist-packages (from pysal) (2.1.2)\n",
            "Requirement already satisfied: coverage in /usr/local/lib/python3.7/dist-packages (from pysal) (3.7.1)\n",
            "Requirement already satisfied: python-dateutil<=2.8.0 in /usr/local/lib/python3.7/dist-packages (from pysal) (2.8.0)\n",
            "Requirement already satisfied: urllib3>=1.26 in /usr/local/lib/python3.7/dist-packages (from pysal) (1.26.4)\n",
            "Requirement already satisfied: spaghetti>=1.5.6 in /usr/local/lib/python3.7/dist-packages (from pysal) (1.5.6)\n",
            "Requirement already satisfied: segregation>=1.5.0 in /usr/local/lib/python3.7/dist-packages (from pysal) (1.5.0)\n",
            "Requirement already satisfied: pytest-cov in /usr/local/lib/python3.7/dist-packages (from pysal) (2.11.1)\n",
            "Requirement already satisfied: spopt>=0.1.1 in /usr/local/lib/python3.7/dist-packages (from pysal) (0.1.1)\n",
            "Requirement already satisfied: access>=1.1.3 in /usr/local/lib/python3.7/dist-packages (from pysal) (1.1.3)\n",
            "Requirement already satisfied: pointpats>=2.2.0 in /usr/local/lib/python3.7/dist-packages (from pysal) (2.2.0)\n",
            "Requirement already satisfied: scipy>=0.11 in /usr/local/lib/python3.7/dist-packages (from inequality>=1.0.0->pysal) (1.4.1)\n",
            "Requirement already satisfied: numpy>=1.3 in /usr/local/lib/python3.7/dist-packages (from inequality>=1.0.0->pysal) (1.19.5)\n",
            "Requirement already satisfied: geopandas>=0.4.0 in /usr/local/lib/python3.7/dist-packages (from splot>=1.1.3->pysal) (0.9.0)\n",
            "Requirement already satisfied: seaborn in /usr/local/lib/python3.7/dist-packages (from splot>=1.1.3->pysal) (0.11.1)\n",
            "Requirement already satisfied: descartes in /usr/local/lib/python3.7/dist-packages (from splot>=1.1.3->pysal) (1.1.0)\n",
            "Requirement already satisfied: matplotlib in /usr/local/lib/python3.7/dist-packages (from splot>=1.1.3->pysal) (3.2.2)\n",
            "Requirement already satisfied: setuptools in /usr/local/lib/python3.7/dist-packages (from pytest->pysal) (54.2.0)\n",
            "Requirement already satisfied: more-itertools>=4.0.0 in /usr/local/lib/python3.7/dist-packages (from pytest->pysal) (8.7.0)\n",
            "Requirement already satisfied: attrs>=17.4.0 in /usr/local/lib/python3.7/dist-packages (from pytest->pysal) (20.3.0)\n",
            "Requirement already satisfied: six>=1.10.0 in /usr/local/lib/python3.7/dist-packages (from pytest->pysal) (1.15.0)\n",
            "Requirement already satisfied: atomicwrites>=1.0 in /usr/local/lib/python3.7/dist-packages (from pytest->pysal) (1.4.0)\n",
            "Requirement already satisfied: pluggy<0.8,>=0.5 in /usr/local/lib/python3.7/dist-packages (from pytest->pysal) (0.7.1)\n",
            "Requirement already satisfied: py>=1.5.0 in /usr/local/lib/python3.7/dist-packages (from pytest->pysal) (1.10.0)\n",
            "Requirement already satisfied: beautifulsoup4 in /usr/local/lib/python3.7/dist-packages (from libpysal>=4.4.0->pysal) (4.6.3)\n",
            "Requirement already satisfied: requests in /usr/local/lib/python3.7/dist-packages (from libpysal>=4.4.0->pysal) (2.23.0)\n",
            "Requirement already satisfied: jinja2 in /usr/local/lib/python3.7/dist-packages (from libpysal>=4.4.0->pysal) (2.11.3)\n",
            "Requirement already satisfied: pandas in /usr/local/lib/python3.7/dist-packages (from libpysal>=4.4.0->pysal) (1.1.5)\n",
            "Requirement already satisfied: scikit-learn in /usr/local/lib/python3.7/dist-packages (from esda>=2.3.6->pysal) (0.22.2.post1)\n",
            "Requirement already satisfied: quantecon>=0.4.7 in /usr/local/lib/python3.7/dist-packages (from giddy>=2.3.3->pysal) (0.5.0)\n",
            "Requirement already satisfied: networkx in /usr/local/lib/python3.7/dist-packages (from mapclassify>=2.4.2->pysal) (2.5.1)\n",
            "Requirement already satisfied: rasterio in /usr/local/lib/python3.7/dist-packages (from tobler>=0.6.0->pysal) (1.2.2)\n",
            "Requirement already satisfied: statsmodels in /usr/local/lib/python3.7/dist-packages (from tobler>=0.6.0->pysal) (0.10.2)\n",
            "Requirement already satisfied: pygeos in /usr/local/lib/python3.7/dist-packages (from tobler>=0.6.0->pysal) (0.9)\n",
            "Requirement already satisfied: tqdm in /usr/local/lib/python3.7/dist-packages (from tobler>=0.6.0->pysal) (4.41.1)\n",
            "Requirement already satisfied: rasterstats in /usr/local/lib/python3.7/dist-packages (from tobler>=0.6.0->pysal) (0.15.0)\n",
            "Requirement already satisfied: joblib in /usr/local/lib/python3.7/dist-packages (from tobler>=0.6.0->pysal) (1.0.1)\n",
            "Requirement already satisfied: rtree in /usr/local/lib/python3.7/dist-packages (from spaghetti>=1.5.6->pysal) (0.9.7)\n",
            "Requirement already satisfied: pulp in /usr/local/lib/python3.7/dist-packages (from spopt>=0.1.1->pysal) (2.4)\n",
            "Requirement already satisfied: opencv-contrib-python>=4.2.0 in /usr/local/lib/python3.7/dist-packages (from pointpats>=2.2.0->pysal) (4.5.1.48)\n",
            "Requirement already satisfied: pyproj>=2.2.0 in /usr/local/lib/python3.7/dist-packages (from geopandas>=0.4.0->splot>=1.1.3->pysal) (3.0.1)\n",
            "Requirement already satisfied: fiona>=1.8 in /usr/local/lib/python3.7/dist-packages (from geopandas>=0.4.0->splot>=1.1.3->pysal) (1.8.19)\n",
            "Requirement already satisfied: shapely>=1.6 in /usr/local/lib/python3.7/dist-packages (from geopandas>=0.4.0->splot>=1.1.3->pysal) (1.7.1)\n",
            "Requirement already satisfied: pyparsing!=2.0.4,!=2.1.2,!=2.1.6,>=2.0.1 in /usr/local/lib/python3.7/dist-packages (from matplotlib->splot>=1.1.3->pysal) (2.4.7)\n",
            "Requirement already satisfied: kiwisolver>=1.0.1 in /usr/local/lib/python3.7/dist-packages (from matplotlib->splot>=1.1.3->pysal) (1.3.1)\n",
            "Requirement already satisfied: cycler>=0.10 in /usr/local/lib/python3.7/dist-packages (from matplotlib->splot>=1.1.3->pysal) (0.10.0)\n",
            "Requirement already satisfied: chardet<4,>=3.0.2 in /usr/local/lib/python3.7/dist-packages (from requests->libpysal>=4.4.0->pysal) (3.0.4)\n",
            "Requirement already satisfied: certifi>=2017.4.17 in /usr/local/lib/python3.7/dist-packages (from requests->libpysal>=4.4.0->pysal) (2020.12.5)\n",
            "Requirement already satisfied: idna<3,>=2.5 in /usr/local/lib/python3.7/dist-packages (from requests->libpysal>=4.4.0->pysal) (2.10)\n",
            "Requirement already satisfied: MarkupSafe>=0.23 in /usr/local/lib/python3.7/dist-packages (from jinja2->libpysal>=4.4.0->pysal) (1.1.1)\n",
            "Requirement already satisfied: pytz>=2017.2 in /usr/local/lib/python3.7/dist-packages (from pandas->libpysal>=4.4.0->pysal) (2018.9)\n",
            "Requirement already satisfied: numba>=0.38 in /usr/local/lib/python3.7/dist-packages (from quantecon>=0.4.7->giddy>=2.3.3->pysal) (0.51.2)\n",
            "Requirement already satisfied: sympy in /usr/local/lib/python3.7/dist-packages (from quantecon>=0.4.7->giddy>=2.3.3->pysal) (1.7.1)\n",
            "Requirement already satisfied: decorator<5,>=4.3 in /usr/local/lib/python3.7/dist-packages (from networkx->mapclassify>=2.4.2->pysal) (4.4.2)\n",
            "Requirement already satisfied: cligj>=0.5 in /usr/local/lib/python3.7/dist-packages (from rasterio->tobler>=0.6.0->pysal) (0.7.1)\n",
            "Requirement already satisfied: affine in /usr/local/lib/python3.7/dist-packages (from rasterio->tobler>=0.6.0->pysal) (2.3.0)\n",
            "Requirement already satisfied: click-plugins in /usr/local/lib/python3.7/dist-packages (from rasterio->tobler>=0.6.0->pysal) (1.1.1)\n",
            "Requirement already satisfied: snuggs>=1.4.1 in /usr/local/lib/python3.7/dist-packages (from rasterio->tobler>=0.6.0->pysal) (1.4.7)\n",
            "Requirement already satisfied: click<8,>=4.0 in /usr/local/lib/python3.7/dist-packages (from rasterio->tobler>=0.6.0->pysal) (7.1.2)\n",
            "Requirement already satisfied: patsy>=0.4.0 in /usr/local/lib/python3.7/dist-packages (from statsmodels->tobler>=0.6.0->pysal) (0.5.1)\n",
            "Requirement already satisfied: simplejson in /usr/local/lib/python3.7/dist-packages (from rasterstats->tobler>=0.6.0->pysal) (3.17.2)\n",
            "Requirement already satisfied: amply>=0.1.2 in /usr/local/lib/python3.7/dist-packages (from pulp->spopt>=0.1.1->pysal) (0.1.4)\n",
            "Requirement already satisfied: munch in /usr/local/lib/python3.7/dist-packages (from fiona>=1.8->geopandas>=0.4.0->splot>=1.1.3->pysal) (2.5.0)\n",
            "Requirement already satisfied: llvmlite<0.35,>=0.34.0.dev0 in /usr/local/lib/python3.7/dist-packages (from numba>=0.38->quantecon>=0.4.7->giddy>=2.3.3->pysal) (0.34.0)\n",
            "Requirement already satisfied: mpmath>=0.19 in /usr/local/lib/python3.7/dist-packages (from sympy->quantecon>=0.4.7->giddy>=2.3.3->pysal) (1.2.1)\n",
            "Requirement already satisfied: docutils>=0.3 in /usr/local/lib/python3.7/dist-packages (from amply>=0.1.2->pulp->spopt>=0.1.1->pysal) (0.17)\n"
          ],
          "name": "stdout"
        }
      ]
    },
    {
      "cell_type": "code",
      "metadata": {
        "id": "1yacJeR1phEM",
        "colab": {
          "base_uri": "https://localhost:8080/"
        },
        "outputId": "7694454d-c8f9-4c82-b7fb-1f9acefeef86"
      },
      "source": [
        "import numpy as np\n",
        "import pandas as pd\n",
        "\n",
        "from scipy.stats import norm, skew\n",
        "import seaborn as sns\n",
        "import matplotlib.pyplot as plt\n",
        "from sklearn.preprocessing import StandardScaler\n",
        "\n",
        "from sklearn.model_selection import train_test_split\n",
        "\n",
        "import time\n",
        "import itertools\n",
        "\n",
        "import statsmodels.api as sm\n",
        "import pysal\n",
        "import libpysal\n",
        "from spreg import OLS\n",
        "from statsmodels.stats.outliers_influence import variance_inflation_factor\n",
        "from sklearn import metrics\n",
        "\n",
        "from bayes_opt import BayesianOptimization\n",
        "from sklearn.ensemble import RandomForestRegressor\n",
        "from lightgbm import LGBMRegressor\n",
        "from sklearn.model_selection import *\n"
      ],
      "execution_count": 3,
      "outputs": [
        {
          "output_type": "stream",
          "text": [
            "/usr/local/lib/python3.7/dist-packages/statsmodels/tools/_testing.py:19: FutureWarning: pandas.util.testing is deprecated. Use the functions in the public API at pandas.testing instead.\n",
            "  import pandas.util.testing as tm\n",
            "/usr/local/lib/python3.7/dist-packages/geopandas/_compat.py:110: UserWarning: The Shapely GEOS version (3.8.0-CAPI-1.13.1 ) is incompatible with the GEOS version PyGEOS was compiled with (3.9.0-CAPI-1.16.2). Conversions between both will be slow.\n",
            "  shapely_geos_version, geos_capi_version_string\n",
            "/usr/local/lib/python3.7/dist-packages/requests/__init__.py:91: RequestsDependencyWarning: urllib3 (1.26.4) or chardet (3.0.4) doesn't match a supported version!\n",
            "  RequestsDependencyWarning)\n"
          ],
          "name": "stderr"
        }
      ]
    },
    {
      "cell_type": "code",
      "metadata": {
        "id": "C5W4V6zHpo9N"
      },
      "source": [
        "train_data = pd.read_csv('/content/FIFA_train.csv')\n",
        "test_data = pd.read_csv('/content/FIFA_test.csv')"
      ],
      "execution_count": 4,
      "outputs": []
    },
    {
      "cell_type": "markdown",
      "metadata": {
        "id": "P32dmInktwBT"
      },
      "source": [
        "# __전처리__"
      ]
    },
    {
      "cell_type": "markdown",
      "metadata": {
        "id": "l7lw1oNJnUIi"
      },
      "source": [
        "__분석과제에서 종속변수는 축구선수들의 이적료이고, 이를 예측하기 위한 다양한 독립변수가 존재한다.  \n",
        "먼저 다양한 예측모형에서 사용할 수 있도록 범주형 독립변수들을 더미변수로 변환한다.__"
      ]
    },
    {
      "cell_type": "code",
      "metadata": {
        "id": "5w4j8vMF36t-"
      },
      "source": [
        "y = train_data.iloc[:,11:12]\n",
        "X = train_data.iloc[:, 2:10]"
      ],
      "execution_count": 5,
      "outputs": []
    },
    {
      "cell_type": "code",
      "metadata": {
        "id": "O6RfzTaT5fTu"
      },
      "source": [
        "#continent변수 dummy변수로 변환\n",
        "\n",
        "def continent_dummy(df):\n",
        "  if df.continent == 'europe':\n",
        "    df.eu = 1\n",
        "  elif df.continent == 'south america':\n",
        "    df.sa = 1\n",
        "  elif df.continent == 'asia':\n",
        "    df.asia = 1\n",
        "  elif df.continent == 'africa':\n",
        "    df.africa = 1\n",
        "  else:\n",
        "    df.oc = 1\n",
        "  return df\n",
        "\n",
        "\n",
        "X['eu'] = 0\n",
        "X['sa'] = 0\n",
        "X['asia'] = 0\n",
        "X['africa'] = 0\n",
        "X['oc'] = 0\n",
        "\n",
        "X = X.apply(continent_dummy, axis=1)\n",
        "\n",
        "del X['continent']"
      ],
      "execution_count": 6,
      "outputs": []
    },
    {
      "cell_type": "code",
      "metadata": {
        "id": "NNbdbopp8D49"
      },
      "source": [
        "#과제 및 데이터가 주어진 2019년을 기준으로 잔여 계약기간을 계산\n",
        "\n",
        "X['contract_remain'] = 0\n",
        "\n",
        "def contract_dummy(df):\n",
        "  if len(df['contract_until']) != 4:\n",
        "    df['contract_until'] = df['contract_until'][-4:]\n",
        "  return df\n",
        "\n",
        "X = X.apply(contract_dummy, axis=1)\n",
        "\n",
        "X['contract_until'] = X['contract_until'].astype(int)\n",
        "\n",
        "X['contract_remain'] = X['contract_until'] - 2019\n",
        "\n",
        "del X['contract_until']"
      ],
      "execution_count": 7,
      "outputs": []
    },
    {
      "cell_type": "code",
      "metadata": {
        "id": "W16c__f3AAQJ"
      },
      "source": [
        "#position변수를 dummy변수로 변환\n",
        "\n",
        "X['MF'] = 0\n",
        "X['DF'] = 0\n",
        "X['ST'] = 0\n",
        "X['GK'] = 0\n",
        "\n",
        "def position_dummy(df):\n",
        "  if df['position'] == 'MF':\n",
        "    df['MF'] = 1\n",
        "  elif df['position'] == 'DF':\n",
        "    df['DF'] = 1\n",
        "  elif df['position'] == 'ST':\n",
        "    df['ST'] = 1\n",
        "  else:\n",
        "    df['GK'] = 1\n",
        "  return df\n",
        "\n",
        "X = X.apply(position_dummy, axis=1)\n",
        "\n",
        "del X['position']"
      ],
      "execution_count": 8,
      "outputs": []
    },
    {
      "cell_type": "code",
      "metadata": {
        "id": "_J6s5zn4Bvb_"
      },
      "source": [
        "#prefer_foot변수를 1-0 encoding\n",
        "\n",
        "def prefer_foot(df):\n",
        "  if df['prefer_foot'] == 'right':\n",
        "    df['prefer_foot'] = 1\n",
        "  else:\n",
        "    df['prefer_foot'] = 0\n",
        "  return df\n",
        "\n",
        "X = X.apply(prefer_foot, axis=1)"
      ],
      "execution_count": 9,
      "outputs": []
    },
    {
      "cell_type": "markdown",
      "metadata": {
        "id": "pvGT9AK4n257"
      },
      "source": [
        "__여기까지 train data의 독립변수에 대한 기본적인 전처리를 진행했다. 이어서 test data의 독립변수에도 같은 전처리를 진행한다.__"
      ]
    },
    {
      "cell_type": "code",
      "metadata": {
        "id": "eb_tnfogpPuN"
      },
      "source": [
        "final_test_x = test_data.iloc[:, 2:10]"
      ],
      "execution_count": 10,
      "outputs": []
    },
    {
      "cell_type": "code",
      "metadata": {
        "id": "NfCMRZKzpiW2"
      },
      "source": [
        "def continent_dummy(df):\n",
        "  if df.continent == 'europe':\n",
        "    df.eu = 1\n",
        "  elif df.continent == 'south america':\n",
        "    df.sa = 1\n",
        "  elif df.continent == 'asia':\n",
        "    df.asia = 1\n",
        "  elif df.continent == 'africa':\n",
        "    df.africa = 1\n",
        "  else:\n",
        "    df.oc = 1\n",
        "  return df\n",
        "\n",
        "\n",
        "final_test_x['eu'] = 0\n",
        "final_test_x['sa'] = 0\n",
        "final_test_x['asia'] = 0\n",
        "final_test_x['africa'] = 0\n",
        "final_test_x['oc'] = 0\n",
        "\n",
        "final_test_x = final_test_x.apply(continent_dummy, axis=1)\n",
        "\n",
        "del final_test_x['continent']"
      ],
      "execution_count": 11,
      "outputs": []
    },
    {
      "cell_type": "code",
      "metadata": {
        "id": "YbftvOq5piXB"
      },
      "source": [
        "final_test_x['contract_remain'] = 0\n",
        "\n",
        "def contract_dummy(df):\n",
        "  if len(df['contract_until']) != 4:\n",
        "    df['contract_until'] = df['contract_until'][-4:]\n",
        "  return df\n",
        "\n",
        "final_test_x = final_test_x.apply(contract_dummy, axis=1)\n",
        "\n",
        "final_test_x['contract_until'] = final_test_x['contract_until'].astype(int)\n",
        "\n",
        "final_test_x['contract_remain'] = final_test_x['contract_until'] - 2019\n",
        "\n",
        "del final_test_x['contract_until']"
      ],
      "execution_count": 12,
      "outputs": []
    },
    {
      "cell_type": "code",
      "metadata": {
        "id": "3ViCUb0GpiXB"
      },
      "source": [
        "final_test_x['MF'] = 0\n",
        "final_test_x['DF'] = 0\n",
        "final_test_x['ST'] = 0\n",
        "final_test_x['GK'] = 0\n",
        "\n",
        "def position_dummy(df):\n",
        "  if df['position'] == 'MF':\n",
        "    df['MF'] = 1\n",
        "  elif df['position'] == 'DF':\n",
        "    df['DF'] = 1\n",
        "  elif df['position'] == 'ST':\n",
        "    df['ST'] = 1\n",
        "  else:\n",
        "    df['GK'] = 1\n",
        "  return df\n",
        "\n",
        "final_test_x = final_test_x.apply(position_dummy, axis=1)\n",
        "\n",
        "del final_test_x['position']"
      ],
      "execution_count": 13,
      "outputs": []
    },
    {
      "cell_type": "code",
      "metadata": {
        "id": "71oJqiydpiXC"
      },
      "source": [
        "def prefer_foot(df):\n",
        "  if df['prefer_foot'] == 'right':\n",
        "    df['prefer_foot'] = 1\n",
        "  else:\n",
        "    df['prefer_foot'] = 0\n",
        "  return df\n",
        "\n",
        "final_test_x = final_test_x.apply(prefer_foot, axis=1)"
      ],
      "execution_count": 14,
      "outputs": []
    },
    {
      "cell_type": "markdown",
      "metadata": {
        "id": "xV15fb_ToKgC"
      },
      "source": [
        "__이어서 몇몇 독립변수들과 종속변수의 편향 정도를 확인한 뒤 필요한 경우 추가적인 전처리를 진행한다.__"
      ]
    },
    {
      "cell_type": "code",
      "metadata": {
        "colab": {
          "base_uri": "https://localhost:8080/",
          "height": 334
        },
        "id": "hm6WBAb3qTSC",
        "outputId": "ae4ce271-5d3e-4076-eb7f-785dec5c2daa"
      },
      "source": [
        "sns.distplot(X['age'], fit = norm)\n",
        "(mu, sigma) = norm.fit(X['age'])\n",
        "skewness = skew(X['age'])\n",
        "plt.legend(['Normal dist\\n$\\mu=$ {:.2f} and $\\sigma=$ {:.2f}\\nskewness= {:.2f}'.format(mu, sigma, skewness)], loc = 'best')\n",
        "plt.show()"
      ],
      "execution_count": 15,
      "outputs": [
        {
          "output_type": "stream",
          "text": [
            "/usr/local/lib/python3.7/dist-packages/seaborn/distributions.py:2557: FutureWarning: `distplot` is a deprecated function and will be removed in a future version. Please adapt your code to use either `displot` (a figure-level function with similar flexibility) or `histplot` (an axes-level function for histograms).\n",
            "  warnings.warn(msg, FutureWarning)\n"
          ],
          "name": "stderr"
        },
        {
          "output_type": "display_data",
          "data": {
            "image/png": "[encoded data removed]",
            "text/plain": [
              "<Figure size 432x288 with 1 Axes>"
            ]
          },
          "metadata": {
            "tags": [],
            "needs_background": "light"
          }
        }
      ]
    },
    {
      "cell_type": "code",
      "metadata": {
        "colab": {
          "base_uri": "https://localhost:8080/",
          "height": 334
        },
        "id": "uEDs6twBsJbI",
        "outputId": "4d3f18f0-072b-493a-e407-a0f8e6c19946"
      },
      "source": [
        "sns.distplot(X['reputation'], fit = norm)\n",
        "(mu, sigma) = norm.fit(X['reputation'])\n",
        "skewness = skew(X['reputation'])\n",
        "plt.legend(['Normal dist\\n$\\mu=$ {:.2f} and $\\sigma=$ {:.2f}\\nskewness= {:.2f}'.format(mu, sigma, skewness)], loc = 'best')\n",
        "plt.show()"
      ],
      "execution_count": 16,
      "outputs": [
        {
          "output_type": "stream",
          "text": [
            "/usr/local/lib/python3.7/dist-packages/seaborn/distributions.py:2557: FutureWarning: `distplot` is a deprecated function and will be removed in a future version. Please adapt your code to use either `displot` (a figure-level function with similar flexibility) or `histplot` (an axes-level function for histograms).\n",
            "  warnings.warn(msg, FutureWarning)\n"
          ],
          "name": "stderr"
        },
        {
          "output_type": "display_data",
          "data": {
            "image/png": "[encoded data removed]",
            "text/plain": [
              "<Figure size 432x288 with 1 Axes>"
            ]
          },
          "metadata": {
            "tags": [],
            "needs_background": "light"
          }
        }
      ]
    },
    {
      "cell_type": "code",
      "metadata": {
        "colab": {
          "base_uri": "https://localhost:8080/",
          "height": 335
        },
        "id": "5wM_KWjfsNLv",
        "outputId": "4b2abccd-bd06-4882-8235-889886348569"
      },
      "source": [
        "sns.distplot(X['stat_overall'], fit = norm)\n",
        "(mu, sigma) = norm.fit(X['stat_overall'])\n",
        "skewness = skew(X['stat_overall'])\n",
        "plt.legend(['Normal dist\\n$\\mu=$ {:.2f} and $\\sigma=$ {:.2f}\\nskewness= {:.2f}'.format(mu, sigma, skewness)], loc = 'best')\n",
        "plt.show()"
      ],
      "execution_count": 17,
      "outputs": [
        {
          "output_type": "stream",
          "text": [
            "/usr/local/lib/python3.7/dist-packages/seaborn/distributions.py:2557: FutureWarning: `distplot` is a deprecated function and will be removed in a future version. Please adapt your code to use either `displot` (a figure-level function with similar flexibility) or `histplot` (an axes-level function for histograms).\n",
            "  warnings.warn(msg, FutureWarning)\n"
          ],
          "name": "stderr"
        },
        {
          "output_type": "display_data",
          "data": {
            "image/png": "[encoded data removed]",
            "text/plain": [
              "<Figure size 432x288 with 1 Axes>"
            ]
          },
          "metadata": {
            "tags": [],
            "needs_background": "light"
          }
        }
      ]
    },
    {
      "cell_type": "code",
      "metadata": {
        "colab": {
          "base_uri": "https://localhost:8080/",
          "height": 335
        },
        "id": "LuFms8GysNX1",
        "outputId": "998236f4-6bff-44f0-ee91-0bfa384f2608"
      },
      "source": [
        "sns.distplot(X['stat_potential'], fit = norm)\n",
        "(mu, sigma) = norm.fit(X['stat_potential'])\n",
        "skewness = skew(X['stat_potential'])\n",
        "plt.legend(['Normal dist\\n$\\mu=$ {:.2f} and $\\sigma=$ {:.2f}\\nskewness= {:.2f}'.format(mu, sigma, skewness)], loc = 'best')\n",
        "plt.show()"
      ],
      "execution_count": 18,
      "outputs": [
        {
          "output_type": "stream",
          "text": [
            "/usr/local/lib/python3.7/dist-packages/seaborn/distributions.py:2557: FutureWarning: `distplot` is a deprecated function and will be removed in a future version. Please adapt your code to use either `displot` (a figure-level function with similar flexibility) or `histplot` (an axes-level function for histograms).\n",
            "  warnings.warn(msg, FutureWarning)\n"
          ],
          "name": "stderr"
        },
        {
          "output_type": "display_data",
          "data": {
            "image/png": "[encoded data removed]",
            "text/plain": [
              "<Figure size 432x288 with 1 Axes>"
            ]
          },
          "metadata": {
            "tags": [],
            "needs_background": "light"
          }
        }
      ]
    },
    {
      "cell_type": "code",
      "metadata": {
        "colab": {
          "base_uri": "https://localhost:8080/",
          "height": 335
        },
        "id": "hllVflMHsNev",
        "outputId": "617206a2-0a3f-432a-f2b7-22cf8e2900a4"
      },
      "source": [
        "sns.distplot(X['contract_remain'], fit = norm)\n",
        "(mu, sigma) = norm.fit(X['contract_remain'])\n",
        "skewness = skew(X['contract_remain'])\n",
        "plt.legend(['Normal dist\\n$\\mu=$ {:.2f} and $\\sigma=$ {:.2f}\\nskewness= {:.2f}'.format(mu, sigma, skewness)], loc = 'best')\n",
        "plt.show()"
      ],
      "execution_count": 19,
      "outputs": [
        {
          "output_type": "stream",
          "text": [
            "/usr/local/lib/python3.7/dist-packages/seaborn/distributions.py:2557: FutureWarning: `distplot` is a deprecated function and will be removed in a future version. Please adapt your code to use either `displot` (a figure-level function with similar flexibility) or `histplot` (an axes-level function for histograms).\n",
            "  warnings.warn(msg, FutureWarning)\n"
          ],
          "name": "stderr"
        },
        {
          "output_type": "display_data",
          "data": {
            "image/png": "[encoded data removed]",
            "text/plain": [
              "<Figure size 432x288 with 1 Axes>"
            ]
          },
          "metadata": {
            "tags": [],
            "needs_background": "light"
          }
        }
      ]
    },
    {
      "cell_type": "code",
      "metadata": {
        "colab": {
          "base_uri": "https://localhost:8080/",
          "height": 346
        },
        "id": "RyjhB7acpSSW",
        "outputId": "b1f3830c-8a94-4211-865b-82a019452060"
      },
      "source": [
        "sns.distplot(y['value'], fit = norm)\n",
        "(mu, sigma) = norm.fit(y['value'])\n",
        "skewness = skew(y['value'])\n",
        "plt.legend(['Normal dist\\n$\\mu=$ {:.2f} and $\\sigma=$ {:.2f}\\nskewness= {:.2f}'.format(mu, sigma, skewness)], loc = 'best')\n",
        "plt.show()"
      ],
      "execution_count": 20,
      "outputs": [
        {
          "output_type": "stream",
          "text": [
            "/usr/local/lib/python3.7/dist-packages/seaborn/distributions.py:2557: FutureWarning: `distplot` is a deprecated function and will be removed in a future version. Please adapt your code to use either `displot` (a figure-level function with similar flexibility) or `histplot` (an axes-level function for histograms).\n",
            "  warnings.warn(msg, FutureWarning)\n"
          ],
          "name": "stderr"
        },
        {
          "output_type": "display_data",
          "data": {
            "image/png": "[encoded data removed]",
            "text/plain": [
              "<Figure size 432x288 with 1 Axes>"
            ]
          },
          "metadata": {
            "tags": [],
            "needs_background": "light"
          }
        }
      ]
    },
    {
      "cell_type": "markdown",
      "metadata": {
        "id": "evcVHUvVvMkY"
      },
      "source": [
        "__종속변수인 value변수와 독립변수 reputation변수에서 심한 편향을 발견했다. 이를 해결하기 위해 두 변수를 로그변환한다.  \n",
        "또한, X변수들을 표준화한다.__"
      ]
    },
    {
      "cell_type": "code",
      "metadata": {
        "id": "kYGK-0betmPi"
      },
      "source": [
        "y = np.log1p(y)"
      ],
      "execution_count": 21,
      "outputs": []
    },
    {
      "cell_type": "code",
      "metadata": {
        "id": "qWltvpIztDkJ"
      },
      "source": [
        "X['reputation'] = np.log1p(X['reputation'])\n",
        "\n",
        "scaler = StandardScaler()\n",
        "\n",
        "X = pd.DataFrame(scaler.fit_transform(X), columns = X.columns)"
      ],
      "execution_count": 22,
      "outputs": []
    },
    {
      "cell_type": "code",
      "metadata": {
        "colab": {
          "base_uri": "https://localhost:8080/",
          "height": 334
        },
        "id": "FEBwXKiMvudc",
        "outputId": "f81abd15-2525-4407-a2b7-d16419aa4522"
      },
      "source": [
        "sns.distplot(X['reputation'], fit = norm)\n",
        "(mu, sigma) = norm.fit(X['reputation'])\n",
        "skewness = skew(X['reputation'])\n",
        "plt.legend(['Normal dist\\n$\\mu=$ {:.2f} and $\\sigma=$ {:.2f}\\nskewness= {:.2f}'.format(mu, sigma, skewness)], loc = 'best')\n",
        "plt.show()"
      ],
      "execution_count": 23,
      "outputs": [
        {
          "output_type": "stream",
          "text": [
            "/usr/local/lib/python3.7/dist-packages/seaborn/distributions.py:2557: FutureWarning: `distplot` is a deprecated function and will be removed in a future version. Please adapt your code to use either `displot` (a figure-level function with similar flexibility) or `histplot` (an axes-level function for histograms).\n",
            "  warnings.warn(msg, FutureWarning)\n"
          ],
          "name": "stderr"
        },
        {
          "output_type": "display_data",
          "data": {
            "image/png": "[encoded data removed]",
            "text/plain": [
              "<Figure size 432x288 with 1 Axes>"
            ]
          },
          "metadata": {
            "tags": [],
            "needs_background": "light"
          }
        }
      ]
    },
    {
      "cell_type": "code",
      "metadata": {
        "colab": {
          "base_uri": "https://localhost:8080/",
          "height": 334
        },
        "id": "HmikO3nTvzQ5",
        "outputId": "5c16a06f-3090-49f6-aac3-71aeb637e564"
      },
      "source": [
        "sns.distplot(y['value'], fit = norm)\n",
        "(mu, sigma) = norm.fit(y['value'])\n",
        "skewness = skew(y['value'])\n",
        "plt.legend(['Normal dist\\n$\\mu=$ {:.2f} and $\\sigma=$ {:.2f}\\nskewness= {:.2f}'.format(mu, sigma, skewness)], loc = 'best')\n",
        "plt.show()"
      ],
      "execution_count": 24,
      "outputs": [
        {
          "output_type": "stream",
          "text": [
            "/usr/local/lib/python3.7/dist-packages/seaborn/distributions.py:2557: FutureWarning: `distplot` is a deprecated function and will be removed in a future version. Please adapt your code to use either `displot` (a figure-level function with similar flexibility) or `histplot` (an axes-level function for histograms).\n",
            "  warnings.warn(msg, FutureWarning)\n"
          ],
          "name": "stderr"
        },
        {
          "output_type": "display_data",
          "data": {
            "image/png": "[encoded data removed]",
            "text/plain": [
              "<Figure size 432x288 with 1 Axes>"
            ]
          },
          "metadata": {
            "tags": [],
            "needs_background": "light"
          }
        }
      ]
    },
    {
      "cell_type": "markdown",
      "metadata": {
        "id": "_Sh_Ejeov3Jc"
      },
      "source": [
        "__로그 변환 결과, reputation변수는 조금은 나아졌지만 여전히 편향이 심해 보인다. 반면, 종속변수는 편향이 더이상 보이지 않는다.__"
      ]
    },
    {
      "cell_type": "code",
      "metadata": {
        "id": "Twwk4eOiqb6b"
      },
      "source": [
        "final_test_x['reputation'] = np.log1p(final_test_x['reputation'])\n",
        "\n",
        "scaler = StandardScaler()\n",
        "\n",
        "final_test_x = pd.DataFrame(scaler.fit_transform(final_test_x), columns = final_test_x.columns)"
      ],
      "execution_count": 25,
      "outputs": []
    },
    {
      "cell_type": "code",
      "metadata": {
        "id": "kch6v0D9oUHz"
      },
      "source": [
        "y_reg = y.copy()\n",
        "X_reg = X.copy()"
      ],
      "execution_count": 26,
      "outputs": []
    },
    {
      "cell_type": "code",
      "metadata": {
        "id": "SchxiYW4JvGa"
      },
      "source": [
        "X_reg = sm.add_constant(X_reg, has_constant='add') #회귀분석을 위해 독립변수에 상수항 추가"
      ],
      "execution_count": 27,
      "outputs": []
    },
    {
      "cell_type": "markdown",
      "metadata": {
        "id": "YIkR952YigbI"
      },
      "source": [
        "# __train, test 나누기__"
      ]
    },
    {
      "cell_type": "code",
      "metadata": {
        "id": "Li4OV2XpgzzF"
      },
      "source": [
        "#회귀분석에서 사용할 데이터\n",
        "train_X_reg, test_X_reg = train_test_split(X_reg, test_size=0.2, random_state=1)\n",
        "train_y_reg, test_y_reg = train_test_split(y_reg, test_size=0.2, random_state=1)"
      ],
      "execution_count": 28,
      "outputs": []
    },
    {
      "cell_type": "code",
      "metadata": {
        "id": "ATOXqM4gifv9"
      },
      "source": [
        "#머신러닝에서 사용할 데이터\n",
        "train_x, test_x = train_test_split(X, test_size=0.2, random_state=1)\n",
        "train_y, test_y = train_test_split(y, test_size=0.2, random_state=1)"
      ],
      "execution_count": 29,
      "outputs": []
    },
    {
      "cell_type": "markdown",
      "metadata": {
        "id": "ac-K7eZEf94q"
      },
      "source": [
        "# __회귀분석__"
      ]
    },
    {
      "cell_type": "markdown",
      "metadata": {
        "id": "e-A50h_-r3v9"
      },
      "source": [
        "## __변수선택법 정의__"
      ]
    },
    {
      "cell_type": "code",
      "metadata": {
        "id": "AtS_h_R5rhsG"
      },
      "source": [
        "def processSubset(X,y,feature_set):\n",
        "    model = sm.OLS(y,X[list(feature_set)]) # Modeling\n",
        "    regr = model.fit() # model fitting\n",
        "    AIC = regr.aic # model's AIC\n",
        "    return {\"model\" : regr, \"AIC\" : AIC}"
      ],
      "execution_count": 30,
      "outputs": []
    },
    {
      "cell_type": "code",
      "metadata": {
        "id": "yQwQ3ylmrhsG"
      },
      "source": [
        "#전진선택법\n",
        "\n",
        "def forward(X,y,predictors):\n",
        "\n",
        "    # predictor - 현재 선택되어있는 변수\n",
        "    # 데이터 변수들이 미리정의된 predictors에 있는지 없는지 확인 및 분류\n",
        "    \n",
        "    remaining_predictors = [p for p in X.columns.difference(['const']) if p not in predictors]\n",
        "    tic = time.time()\n",
        "    results = []\n",
        "    for p in remaining_predictors :\n",
        "        results.append(processSubset(X=X,y=y,feature_set=predictors+[p]+['const']))\n",
        "    \n",
        "    models = pd.DataFrame(results)\n",
        "    \n",
        "    best_model = models.loc[models['AIC'].argmin()] #AIC가 가장 낮은 모델을 선택\n",
        "    toc = time.time()\n",
        "    print(\"Processed \",models.shape[0], \"models on\", len(predictors)+1, \"predictors in\", (toc-tic))\n",
        "    print(\"Selected predictors:\",best_model[\"model\"].model.exog_names,\"AIC: \",best_model[0])\n",
        "    return best_model\n",
        "    \n",
        "#전진선택법 모델\n",
        "\n",
        "def forward_model(X,y):\n",
        "\n",
        "    Fmodels = pd.DataFrame(columns=[\"AIC\",\"model\"])\n",
        "    tic = time.time()\n",
        "     \n",
        "    predictors = []\n",
        "    \n",
        "    for i in range(1,len(X.columns.difference(['const']))+1):\n",
        "        Forward_result = forward(X=X,y=y,predictors=predictors)\n",
        "        if i > 1:\n",
        "            if Forward_result[\"AIC\"] > Fmodel_before:\n",
        "                break\n",
        "        Fmodels.loc[i] = Forward_result\n",
        "        predictors = Fmodels.loc[i][\"model\"].model.exog_names\n",
        "        Fmodel_before = Fmodels.loc[i][\"AIC\"]\n",
        "        predictors = [k for k in predictors if k != 'const']\n",
        "    toc = time.time()\n",
        "    print(\"Total elapsed time:\",(toc-tic), \"seconds.\")\n",
        "    \n",
        "    return (Fmodels['model'][len(Fmodels['model'])])"
      ],
      "execution_count": 31,
      "outputs": []
    },
    {
      "cell_type": "code",
      "metadata": {
        "id": "EH0IrkEOrhsH"
      },
      "source": [
        "#후진제거법\n",
        "\n",
        "def backward(X,y,predictors):\n",
        "    tic= time.time()\n",
        "    results = []\n",
        "    \n",
        "    for combo in itertools.combinations(predictors, len(predictors) - 1):\n",
        "        results.append(processSubset(X=X,y=y,feature_set=list(combo)+['const']))\n",
        "    models = pd.DataFrame(results)\n",
        "    \n",
        "    best_model = models.loc[models['AIC'].argmin()]    # 가장 낮은 AIC를 가진 모델을 선택\n",
        "    toc = time.time()\n",
        "    \n",
        "    print(\"Processed \",models.shape[0], \"models on\", len(predictors) - 1, \"predictors in\",(toc-tic))\n",
        "    print(\"Selected predictors:\",best_model['model'].model.exog_names,' AIC:',best_model[0])\n",
        "    return best_model\n",
        "    \n",
        "#후진제거법 모델\n",
        "\n",
        "def backward_model(X,y) :\n",
        "    Bmodels = pd.DataFrame(columns=[\"AIC\",\"model\"], index = range(1,len(X.columns)))\n",
        "    tic = time.time()\n",
        "    predictors = X.columns.difference(['const'])\n",
        "    Bmodel_before = processSubset(X,y,predictors)['AIC']\n",
        "    while (len(predictors) > 1):\n",
        "        Backward_result = backward(X=X, y= y, predictors=predictors)\n",
        "        if Backward_result['AIC'] > Bmodel_before :\n",
        "            break\n",
        "        Bmodels.loc[len(predictors) -1] = Backward_result\n",
        "        predictors = Bmodels.loc[len(predictors) - 1]['model'].model.exog_names\n",
        "        Bmodel_before = Backward_result[\"AIC\"]\n",
        "        predictors = [k for k in predictors if k != 'const']\n",
        "\n",
        "    toc = time.time()\n",
        "    print(\"Total elapsed time:\",(toc-tic),\"seconds.\")\n",
        "    return Bmodels[\"model\"].dropna().iloc[0]"
      ],
      "execution_count": 32,
      "outputs": []
    },
    {
      "cell_type": "code",
      "metadata": {
        "id": "Kxba2M7wrhsH"
      },
      "source": [
        "#변수선택법\n",
        "\n",
        "def Stepwise_model(X,y):\n",
        "    Stepmodels = pd.DataFrame(columns = [\"AIC\",\"model\"])\n",
        "    tic = time.time()\n",
        "    predictors = []\n",
        "    Smodel_before = processSubset(X,y,predictors + ['const'])['AIC']\n",
        "    \n",
        "    \n",
        "    for i in range(1,len(X.columns.difference(['const']))+1) :\n",
        "        Forward_result = forward(X=X,y=y,predictors = predictors) # constant added\n",
        "        print('forward')\n",
        "        Stepmodels.loc[i] = Forward_result\n",
        "        predictors = Stepmodels.loc[i][\"model\"].model.exog_names\n",
        "        predictors = [k for k in predictors if k != 'const']\n",
        "        Backward_result = backward(X=X,y=y,predictors = predictors)\n",
        "        if Backward_result[\"AIC\"] < Forward_result[\"AIC\"]:\n",
        "            Stepmodels.loc[i] = Backward_result\n",
        "            predictors = Stepmodels.loc[i][\"model\"].model.exog_names\n",
        "            Smodel_before = Stepmodels.loc[i][\"AIC\"]\n",
        "            predictors = [k for k in predictors if k != \"const\"]\n",
        "            print('backward')\n",
        "        if Stepmodels.loc[i][\"AIC\"] > Smodel_before:\n",
        "            break\n",
        "        else :\n",
        "            Smodel_before = Stepmodels.loc[i][\"AIC\"]\n",
        "    toc = time.time()\n",
        "    print(\"Total elapsed time:\",(toc-tic),\"seconds.\")\n",
        "    return (Stepmodels[\"model\"][len(Stepmodels[\"model\"])])"
      ],
      "execution_count": 33,
      "outputs": []
    },
    {
      "cell_type": "markdown",
      "metadata": {
        "id": "MTIUlgHhELJn"
      },
      "source": [
        "## __다중공선성 제거__"
      ]
    },
    {
      "cell_type": "code",
      "metadata": {
        "id": "gvl08zwmEyE_"
      },
      "source": [
        "#더미변수로 변환한 변수의 완전한 선형성을 막기 위해 각각 1개씩의 변수 미리 제거\n",
        "\n",
        "del train_X_reg['oc']\n",
        "del train_X_reg['GK']"
      ],
      "execution_count": 34,
      "outputs": []
    },
    {
      "cell_type": "code",
      "metadata": {
        "colab": {
          "base_uri": "https://localhost:8080/",
          "height": 462
        },
        "id": "rcfcozwjELUo",
        "outputId": "f7795946-ec37-44e1-93b1-93d429738b8e"
      },
      "source": [
        "#전체 독립변수를 대상으로 다중공선성 확인\n",
        "\n",
        "vif_acc_risk = pd.DataFrame()\n",
        "vif_acc_risk['VIF Factor'] = [variance_inflation_factor(train_X_reg.values, i) for i in range(train_X_reg.shape[1])]\n",
        "vif_acc_risk['features'] = train_X_reg.columns\n",
        "vif_acc_risk"
      ],
      "execution_count": 35,
      "outputs": [
        {
          "output_type": "execute_result",
          "data": {
            "text/html": [
              "<div>\n",
              "<style scoped>\n",
              "    .dataframe tbody tr th:only-of-type {\n",
              "        vertical-align: middle;\n",
              "    }\n",
              "\n",
              "    .dataframe tbody tr th {\n",
              "        vertical-align: top;\n",
              "    }\n",
              "\n",
              "    .dataframe thead th {\n",
              "        text-align: right;\n",
              "    }\n",
              "</style>\n",
              "<table border=\"1\" class=\"dataframe\">\n",
              "  <thead>\n",
              "    <tr style=\"text-align: right;\">\n",
              "      <th></th>\n",
              "      <th>VIF Factor</th>\n",
              "      <th>features</th>\n",
              "    </tr>\n",
              "  </thead>\n",
              "  <tbody>\n",
              "    <tr>\n",
              "      <th>0</th>\n",
              "      <td>1.000237</td>\n",
              "      <td>const</td>\n",
              "    </tr>\n",
              "    <tr>\n",
              "      <th>1</th>\n",
              "      <td>4.266243</td>\n",
              "      <td>age</td>\n",
              "    </tr>\n",
              "    <tr>\n",
              "      <th>2</th>\n",
              "      <td>1.033290</td>\n",
              "      <td>prefer_foot</td>\n",
              "    </tr>\n",
              "    <tr>\n",
              "      <th>3</th>\n",
              "      <td>1.448516</td>\n",
              "      <td>reputation</td>\n",
              "    </tr>\n",
              "    <tr>\n",
              "      <th>4</th>\n",
              "      <td>6.966977</td>\n",
              "      <td>stat_overall</td>\n",
              "    </tr>\n",
              "    <tr>\n",
              "      <th>5</th>\n",
              "      <td>5.796476</td>\n",
              "      <td>stat_potential</td>\n",
              "    </tr>\n",
              "    <tr>\n",
              "      <th>6</th>\n",
              "      <td>12.758875</td>\n",
              "      <td>eu</td>\n",
              "    </tr>\n",
              "    <tr>\n",
              "      <th>7</th>\n",
              "      <td>9.660806</td>\n",
              "      <td>sa</td>\n",
              "    </tr>\n",
              "    <tr>\n",
              "      <th>8</th>\n",
              "      <td>5.012569</td>\n",
              "      <td>asia</td>\n",
              "    </tr>\n",
              "    <tr>\n",
              "      <th>9</th>\n",
              "      <td>4.668711</td>\n",
              "      <td>africa</td>\n",
              "    </tr>\n",
              "    <tr>\n",
              "      <th>10</th>\n",
              "      <td>1.120929</td>\n",
              "      <td>contract_remain</td>\n",
              "    </tr>\n",
              "    <tr>\n",
              "      <th>11</th>\n",
              "      <td>2.814371</td>\n",
              "      <td>MF</td>\n",
              "    </tr>\n",
              "    <tr>\n",
              "      <th>12</th>\n",
              "      <td>2.700947</td>\n",
              "      <td>DF</td>\n",
              "    </tr>\n",
              "    <tr>\n",
              "      <th>13</th>\n",
              "      <td>2.238849</td>\n",
              "      <td>ST</td>\n",
              "    </tr>\n",
              "  </tbody>\n",
              "</table>\n",
              "</div>"
            ],
            "text/plain": [
              "    VIF Factor         features\n",
              "0     1.000237            const\n",
              "1     4.266243              age\n",
              "2     1.033290      prefer_foot\n",
              "3     1.448516       reputation\n",
              "4     6.966977     stat_overall\n",
              "5     5.796476   stat_potential\n",
              "6    12.758875               eu\n",
              "7     9.660806               sa\n",
              "8     5.012569             asia\n",
              "9     4.668711           africa\n",
              "10    1.120929  contract_remain\n",
              "11    2.814371               MF\n",
              "12    2.700947               DF\n",
              "13    2.238849               ST"
            ]
          },
          "metadata": {
            "tags": []
          },
          "execution_count": 35
        }
      ]
    },
    {
      "cell_type": "code",
      "metadata": {
        "id": "5-FpPgaFGqoS"
      },
      "source": [
        "#VIF지수가 10보다 큰 'eu'변수 제거\n",
        "\n",
        "del train_X_reg['eu']"
      ],
      "execution_count": 36,
      "outputs": []
    },
    {
      "cell_type": "code",
      "metadata": {
        "colab": {
          "base_uri": "https://localhost:8080/",
          "height": 432
        },
        "id": "KchxF3wUE3p9",
        "outputId": "5baaece1-1463-400c-e937-36042d3fd264"
      },
      "source": [
        "#전체 독립변수를 대상으로 다중공선성 확인\n",
        "\n",
        "vif_acc_risk = pd.DataFrame()\n",
        "vif_acc_risk['VIF Factor'] = [variance_inflation_factor(train_X_reg.values, i) for i in range(train_X_reg.shape[1])]\n",
        "vif_acc_risk['features'] = train_X_reg.columns\n",
        "vif_acc_risk"
      ],
      "execution_count": 37,
      "outputs": [
        {
          "output_type": "execute_result",
          "data": {
            "text/html": [
              "<div>\n",
              "<style scoped>\n",
              "    .dataframe tbody tr th:only-of-type {\n",
              "        vertical-align: middle;\n",
              "    }\n",
              "\n",
              "    .dataframe tbody tr th {\n",
              "        vertical-align: top;\n",
              "    }\n",
              "\n",
              "    .dataframe thead th {\n",
              "        text-align: right;\n",
              "    }\n",
              "</style>\n",
              "<table border=\"1\" class=\"dataframe\">\n",
              "  <thead>\n",
              "    <tr style=\"text-align: right;\">\n",
              "      <th></th>\n",
              "      <th>VIF Factor</th>\n",
              "      <th>features</th>\n",
              "    </tr>\n",
              "  </thead>\n",
              "  <tbody>\n",
              "    <tr>\n",
              "      <th>0</th>\n",
              "      <td>1.000235</td>\n",
              "      <td>const</td>\n",
              "    </tr>\n",
              "    <tr>\n",
              "      <th>1</th>\n",
              "      <td>4.265848</td>\n",
              "      <td>age</td>\n",
              "    </tr>\n",
              "    <tr>\n",
              "      <th>2</th>\n",
              "      <td>1.033240</td>\n",
              "      <td>prefer_foot</td>\n",
              "    </tr>\n",
              "    <tr>\n",
              "      <th>3</th>\n",
              "      <td>1.448458</td>\n",
              "      <td>reputation</td>\n",
              "    </tr>\n",
              "    <tr>\n",
              "      <th>4</th>\n",
              "      <td>6.965760</td>\n",
              "      <td>stat_overall</td>\n",
              "    </tr>\n",
              "    <tr>\n",
              "      <th>5</th>\n",
              "      <td>5.791344</td>\n",
              "      <td>stat_potential</td>\n",
              "    </tr>\n",
              "    <tr>\n",
              "      <th>6</th>\n",
              "      <td>1.113791</td>\n",
              "      <td>sa</td>\n",
              "    </tr>\n",
              "    <tr>\n",
              "      <th>7</th>\n",
              "      <td>1.105114</td>\n",
              "      <td>asia</td>\n",
              "    </tr>\n",
              "    <tr>\n",
              "      <th>8</th>\n",
              "      <td>1.057899</td>\n",
              "      <td>africa</td>\n",
              "    </tr>\n",
              "    <tr>\n",
              "      <th>9</th>\n",
              "      <td>1.120453</td>\n",
              "      <td>contract_remain</td>\n",
              "    </tr>\n",
              "    <tr>\n",
              "      <th>10</th>\n",
              "      <td>2.814262</td>\n",
              "      <td>MF</td>\n",
              "    </tr>\n",
              "    <tr>\n",
              "      <th>11</th>\n",
              "      <td>2.700868</td>\n",
              "      <td>DF</td>\n",
              "    </tr>\n",
              "    <tr>\n",
              "      <th>12</th>\n",
              "      <td>2.238369</td>\n",
              "      <td>ST</td>\n",
              "    </tr>\n",
              "  </tbody>\n",
              "</table>\n",
              "</div>"
            ],
            "text/plain": [
              "    VIF Factor         features\n",
              "0     1.000235            const\n",
              "1     4.265848              age\n",
              "2     1.033240      prefer_foot\n",
              "3     1.448458       reputation\n",
              "4     6.965760     stat_overall\n",
              "5     5.791344   stat_potential\n",
              "6     1.113791               sa\n",
              "7     1.105114             asia\n",
              "8     1.057899           africa\n",
              "9     1.120453  contract_remain\n",
              "10    2.814262               MF\n",
              "11    2.700868               DF\n",
              "12    2.238369               ST"
            ]
          },
          "metadata": {
            "tags": []
          },
          "execution_count": 37
        }
      ]
    },
    {
      "cell_type": "markdown",
      "metadata": {
        "id": "5WjajiSgzDLP"
      },
      "source": [
        "__위의 VIF지수 표에서 남은 독립변수들에 다중공선성이 존재하지 않음을 확인할 수 있다.__"
      ]
    },
    {
      "cell_type": "code",
      "metadata": {
        "id": "HzCHLlO2iv0X"
      },
      "source": [
        "#위에서 제거한 변수들을 test data에서도 제거\n",
        "\n",
        "del test_X_reg['oc']\n",
        "del test_X_reg['eu']\n",
        "del test_X_reg['GK']"
      ],
      "execution_count": 38,
      "outputs": []
    },
    {
      "cell_type": "markdown",
      "metadata": {
        "id": "d2KoPZDWsIWT"
      },
      "source": [
        "## __OLS 모형 적합__"
      ]
    },
    {
      "cell_type": "code",
      "metadata": {
        "id": "ulHKOmDCsKTc"
      },
      "source": [
        "#다중공선성이 제거된 독립변수들을 모두 활용한 OLS모델 fitting\n",
        "\n",
        "model = sm.OLS(train_y_reg, train_X_reg).fit()  "
      ],
      "execution_count": 39,
      "outputs": []
    },
    {
      "cell_type": "code",
      "metadata": {
        "colab": {
          "base_uri": "https://localhost:8080/"
        },
        "id": "a84iIFWKv4uQ",
        "outputId": "ead996a4-a935-41c2-823c-2a464e6becba"
      },
      "source": [
        "print(model.summary())"
      ],
      "execution_count": 40,
      "outputs": [
        {
          "output_type": "stream",
          "text": [
            "                            OLS Regression Results                            \n",
            "==============================================================================\n",
            "Dep. Variable:                  value   R-squared:                       0.969\n",
            "Model:                            OLS   Adj. R-squared:                  0.969\n",
            "Method:                 Least Squares   F-statistic:                 1.845e+04\n",
            "Date:                Mon, 19 Apr 2021   Prob (F-statistic):               0.00\n",
            "Time:                        14:10:34   Log-Likelihood:                -179.07\n",
            "No. Observations:                7145   AIC:                             384.1\n",
            "Df Residuals:                    7132   BIC:                             473.5\n",
            "Df Model:                          12                                         \n",
            "Covariance Type:            nonrobust                                         \n",
            "===================================================================================\n",
            "                      coef    std err          t      P>|t|      [0.025      0.975]\n",
            "-----------------------------------------------------------------------------------\n",
            "const              13.7953      0.003   4695.034      0.000      13.790      13.801\n",
            "age                -0.4733      0.006    -78.097      0.000      -0.485      -0.461\n",
            "prefer_foot         0.0057      0.003      1.899      0.058      -0.000       0.012\n",
            "reputation          0.0021      0.004      0.607      0.544      -0.005       0.009\n",
            "stat_overall        1.5554      0.008    201.204      0.000       1.540       1.571\n",
            "stat_potential     -0.0427      0.007     -6.054      0.000      -0.057      -0.029\n",
            "sa                  0.0064      0.003      2.090      0.037       0.000       0.012\n",
            "asia                0.0106      0.003      3.419      0.001       0.005       0.017\n",
            "africa              0.0043      0.003      1.394      0.163      -0.002       0.010\n",
            "contract_remain     0.0012      0.003      0.376      0.707      -0.005       0.007\n",
            "MF                  0.1327      0.005     26.954      0.000       0.123       0.142\n",
            "DF                  0.0586      0.005     12.120      0.000       0.049       0.068\n",
            "ST                  0.1287      0.004     29.145      0.000       0.120       0.137\n",
            "==============================================================================\n",
            "Omnibus:                     1746.141   Durbin-Watson:                   2.022\n",
            "Prob(Omnibus):                  0.000   Jarque-Bera (JB):             9074.841\n",
            "Skew:                          -1.077   Prob(JB):                         0.00\n",
            "Kurtosis:                       8.083   Cond. No.                         5.92\n",
            "==============================================================================\n",
            "\n",
            "Warnings:\n",
            "[1] Standard Errors assume that the covariance matrix of the errors is correctly specified.\n"
          ],
          "name": "stdout"
        }
      ]
    },
    {
      "cell_type": "code",
      "metadata": {
        "id": "HFdkM-8Ph41H"
      },
      "source": [
        "#OLS모델을 사용하여 train data의 적합값과 test data의 적합값 계산\n",
        "#모델을 적합할 때 종속변수인 'value'를 로그변환 했으므로 exp함수를 통해 원래의 'value'값 예측\n",
        "\n",
        "pred_train_reg = np.expm1(model.predict(train_X_reg))\n",
        "pred_test_reg = np.expm1(model.predict(test_X_reg))"
      ],
      "execution_count": 41,
      "outputs": []
    },
    {
      "cell_type": "code",
      "metadata": {
        "colab": {
          "base_uri": "https://localhost:8080/"
        },
        "id": "tPFXxf6Af4ls",
        "outputId": "c15b16f2-267e-478b-a11b-d498be9cc526"
      },
      "source": [
        "#train RMSE, test RMSE 계산\n",
        "\n",
        "np.sqrt(metrics.mean_squared_error(np.expm1(train_y_reg), pred_train_reg)), np.sqrt(metrics.mean_squared_error(np.expm1(test_y_reg), pred_test_reg))  #로그변환 했던 y값을 다시 원래 값으로 변환한 후 RMSE 계산"
      ],
      "execution_count": 42,
      "outputs": [
        {
          "output_type": "execute_result",
          "data": {
            "text/plain": [
              "(2642149.0794697683, 2080755.101302748)"
            ]
          },
          "metadata": {
            "tags": []
          },
          "execution_count": 42
        }
      ]
    },
    {
      "cell_type": "markdown",
      "metadata": {
        "id": "QC0N47fizqXm"
      },
      "source": [
        "__train RMSE: 2642149, test RMSE: 2080755로 값이 매우 크고, 예측 성능이 좋지 않음을 확인할 수 있다.  \n",
        "따라서 단계적 변수선택법을 통한 최적 모델을 도출한다.__"
      ]
    },
    {
      "cell_type": "code",
      "metadata": {
        "id": "apxjRqwwJCaX",
        "colab": {
          "base_uri": "https://localhost:8080/"
        },
        "outputId": "464eece6-c06f-4438-9566-42e471a7d75c"
      },
      "source": [
        "step_best_model = Stepwise_model(train_X_reg, train_y_reg)"
      ],
      "execution_count": 43,
      "outputs": [
        {
          "output_type": "stream",
          "text": [
            "Processed  12 models on 1 predictors in 0.03072047233581543\n",
            "Selected predictors: ['stat_overall', 'const'] AIC:  <statsmodels.regression.linear_model.RegressionResultsWrapper object at 0x7f48a31ab610>\n",
            "forward\n",
            "Processed  1 models on 0 predictors in 0.003507375717163086\n",
            "Selected predictors: ['const']  AIC: <statsmodels.regression.linear_model.RegressionResultsWrapper object at 0x7f48a3444d90>\n",
            "Processed  11 models on 2 predictors in 0.03135848045349121\n",
            "Selected predictors: ['stat_overall', 'age', 'const'] AIC:  <statsmodels.regression.linear_model.RegressionResultsWrapper object at 0x7f48a4016790>\n",
            "forward\n",
            "Processed  2 models on 1 predictors in 0.006001949310302734\n",
            "Selected predictors: ['stat_overall', 'const']  AIC: <statsmodels.regression.linear_model.RegressionResultsWrapper object at 0x7f48a35c7b90>\n",
            "Processed  10 models on 3 predictors in 0.03840279579162598\n",
            "Selected predictors: ['stat_overall', 'age', 'ST', 'const'] AIC:  <statsmodels.regression.linear_model.RegressionResultsWrapper object at 0x7f48a4016b50>\n",
            "forward\n",
            "Processed  3 models on 2 predictors in 0.011539697647094727\n",
            "Selected predictors: ['stat_overall', 'age', 'const']  AIC: <statsmodels.regression.linear_model.RegressionResultsWrapper object at 0x7f48a3444c10>\n",
            "Processed  9 models on 4 predictors in 0.03218507766723633\n",
            "Selected predictors: ['stat_overall', 'age', 'ST', 'MF', 'const'] AIC:  <statsmodels.regression.linear_model.RegressionResultsWrapper object at 0x7f48a40168d0>\n",
            "forward\n",
            "Processed  4 models on 3 predictors in 0.012935876846313477\n",
            "Selected predictors: ['stat_overall', 'age', 'ST', 'const']  AIC: <statsmodels.regression.linear_model.RegressionResultsWrapper object at 0x7f48a35c7b10>\n",
            "Processed  8 models on 5 predictors in 0.03585195541381836\n",
            "Selected predictors: ['stat_overall', 'age', 'ST', 'MF', 'DF', 'const'] AIC:  <statsmodels.regression.linear_model.RegressionResultsWrapper object at 0x7f48a396f050>\n",
            "forward\n",
            "Processed  5 models on 4 predictors in 0.021627187728881836\n",
            "Selected predictors: ['stat_overall', 'age', 'ST', 'MF', 'const']  AIC: <statsmodels.regression.linear_model.RegressionResultsWrapper object at 0x7f48a3444b10>\n",
            "Processed  7 models on 6 predictors in 0.061037540435791016\n",
            "Selected predictors: ['stat_overall', 'age', 'ST', 'MF', 'DF', 'stat_potential', 'const'] AIC:  <statsmodels.regression.linear_model.RegressionResultsWrapper object at 0x7f48a3444a50>\n",
            "forward\n",
            "Processed  6 models on 5 predictors in 0.028737545013427734\n",
            "Selected predictors: ['stat_overall', 'age', 'ST', 'MF', 'DF', 'const']  AIC: <statsmodels.regression.linear_model.RegressionResultsWrapper object at 0x7f48a3444290>\n",
            "Processed  6 models on 7 predictors in 0.03391432762145996\n",
            "Selected predictors: ['stat_overall', 'age', 'ST', 'MF', 'DF', 'stat_potential', 'asia', 'const'] AIC:  <statsmodels.regression.linear_model.RegressionResultsWrapper object at 0x7f48a34295d0>\n",
            "forward\n",
            "Processed  7 models on 6 predictors in 0.04171109199523926\n",
            "Selected predictors: ['stat_overall', 'age', 'ST', 'MF', 'DF', 'stat_potential', 'const']  AIC: <statsmodels.regression.linear_model.RegressionResultsWrapper object at 0x7f48a34290d0>\n",
            "Processed  5 models on 8 predictors in 0.030040264129638672\n",
            "Selected predictors: ['stat_overall', 'age', 'ST', 'MF', 'DF', 'stat_potential', 'asia', 'prefer_foot', 'const'] AIC:  <statsmodels.regression.linear_model.RegressionResultsWrapper object at 0x7f48a3554810>\n",
            "forward\n",
            "Processed  8 models on 7 predictors in 0.04508209228515625\n",
            "Selected predictors: ['stat_overall', 'age', 'ST', 'MF', 'DF', 'stat_potential', 'asia', 'const']  AIC: <statsmodels.regression.linear_model.RegressionResultsWrapper object at 0x7f48a3444d90>\n",
            "Processed  4 models on 9 predictors in 0.022666454315185547\n",
            "Selected predictors: ['stat_overall', 'age', 'ST', 'MF', 'DF', 'stat_potential', 'asia', 'prefer_foot', 'sa', 'const'] AIC:  <statsmodels.regression.linear_model.RegressionResultsWrapper object at 0x7f48a35548d0>\n",
            "forward\n",
            "Processed  9 models on 8 predictors in 0.04544568061828613\n",
            "Selected predictors: ['stat_overall', 'age', 'ST', 'MF', 'DF', 'stat_potential', 'asia', 'prefer_foot', 'const']  AIC: <statsmodels.regression.linear_model.RegressionResultsWrapper object at 0x7f48a3554310>\n",
            "Processed  3 models on 10 predictors in 0.020453453063964844\n",
            "Selected predictors: ['stat_overall', 'age', 'ST', 'MF', 'DF', 'stat_potential', 'asia', 'prefer_foot', 'sa', 'africa', 'const'] AIC:  <statsmodels.regression.linear_model.RegressionResultsWrapper object at 0x7f48a3444290>\n",
            "forward\n",
            "Processed  10 models on 9 predictors in 0.07130217552185059\n",
            "Selected predictors: ['stat_overall', 'age', 'ST', 'MF', 'DF', 'stat_potential', 'asia', 'prefer_foot', 'sa', 'const']  AIC: <statsmodels.regression.linear_model.RegressionResultsWrapper object at 0x7f48a34290d0>\n",
            "backward\n",
            "Processed  3 models on 10 predictors in 0.01755690574645996\n",
            "Selected predictors: ['stat_overall', 'age', 'ST', 'MF', 'DF', 'stat_potential', 'asia', 'prefer_foot', 'sa', 'africa', 'const'] AIC:  <statsmodels.regression.linear_model.RegressionResultsWrapper object at 0x7f48a3554450>\n",
            "forward\n",
            "Processed  10 models on 9 predictors in 0.051938772201538086\n",
            "Selected predictors: ['stat_overall', 'age', 'ST', 'MF', 'DF', 'stat_potential', 'asia', 'prefer_foot', 'sa', 'const']  AIC: <statsmodels.regression.linear_model.RegressionResultsWrapper object at 0x7f48a3444e50>\n",
            "backward\n",
            "Processed  3 models on 10 predictors in 0.020305395126342773\n",
            "Selected predictors: ['stat_overall', 'age', 'ST', 'MF', 'DF', 'stat_potential', 'asia', 'prefer_foot', 'sa', 'africa', 'const'] AIC:  <statsmodels.regression.linear_model.RegressionResultsWrapper object at 0x7f48a3554bd0>\n",
            "forward\n",
            "Processed  10 models on 9 predictors in 0.05770397186279297\n",
            "Selected predictors: ['stat_overall', 'age', 'ST', 'MF', 'DF', 'stat_potential', 'asia', 'prefer_foot', 'sa', 'const']  AIC: <statsmodels.regression.linear_model.RegressionResultsWrapper object at 0x7f48a3bdd7d0>\n",
            "backward\n",
            "Total elapsed time: 0.9697866439819336 seconds.\n"
          ],
          "name": "stdout"
        }
      ]
    },
    {
      "cell_type": "code",
      "metadata": {
        "colab": {
          "base_uri": "https://localhost:8080/"
        },
        "id": "Zs6FC_ZyKEnH",
        "outputId": "a9048499-3110-4923-e440-ddaa871ea78a"
      },
      "source": [
        "print(step_best_model.summary())"
      ],
      "execution_count": 44,
      "outputs": [
        {
          "output_type": "stream",
          "text": [
            "                            OLS Regression Results                            \n",
            "==============================================================================\n",
            "Dep. Variable:                  value   R-squared:                       0.969\n",
            "Model:                            OLS   Adj. R-squared:                  0.969\n",
            "Method:                 Least Squares   F-statistic:                 2.460e+04\n",
            "Date:                Mon, 19 Apr 2021   Prob (F-statistic):               0.00\n",
            "Time:                        14:10:35   Log-Likelihood:                -180.28\n",
            "No. Observations:                7145   AIC:                             380.6\n",
            "Df Residuals:                    7135   BIC:                             449.3\n",
            "Df Model:                           9                                         \n",
            "Covariance Type:            nonrobust                                         \n",
            "==================================================================================\n",
            "                     coef    std err          t      P>|t|      [0.025      0.975]\n",
            "----------------------------------------------------------------------------------\n",
            "stat_overall       1.5567      0.008    203.342      0.000       1.542       1.572\n",
            "age               -0.4733      0.006    -80.052      0.000      -0.485      -0.462\n",
            "ST                 0.1292      0.004     29.372      0.000       0.121       0.138\n",
            "MF                 0.1330      0.005     27.063      0.000       0.123       0.143\n",
            "DF                 0.0587      0.005     12.159      0.000       0.049       0.068\n",
            "stat_potential    -0.0424      0.007     -6.125      0.000      -0.056      -0.029\n",
            "asia               0.0103      0.003      3.386      0.001       0.004       0.016\n",
            "prefer_foot        0.0058      0.003      1.945      0.052   -4.48e-05       0.012\n",
            "sa                 0.0056      0.003      1.884      0.060      -0.000       0.012\n",
            "const             13.7953      0.003   4695.307      0.000      13.790      13.801\n",
            "==============================================================================\n",
            "Omnibus:                     1742.872   Durbin-Watson:                   2.023\n",
            "Prob(Omnibus):                  0.000   Jarque-Bera (JB):             9063.400\n",
            "Skew:                          -1.075   Prob(JB):                         0.00\n",
            "Kurtosis:                       8.082   Cond. No.                         5.31\n",
            "==============================================================================\n",
            "\n",
            "Warnings:\n",
            "[1] Standard Errors assume that the covariance matrix of the errors is correctly specified.\n"
          ],
          "name": "stdout"
        }
      ]
    },
    {
      "cell_type": "code",
      "metadata": {
        "id": "cNOCgXiTKPwP"
      },
      "source": [
        "#단계적 변수선택법으로 도출한 최적의 OLS모형에서 적합값 계산\n",
        "\n",
        "step_train_X_reg = train_X_reg.copy()\n",
        "step_test_X_reg = test_X_reg.copy()\n",
        "\n",
        "step_train_X_reg = step_train_X_reg[['stat_overall', 'age', 'ST', 'MF', 'DF', 'stat_potential', 'asia', 'prefer_foot', 'sa', 'const']]\n",
        "step_test_X_reg = step_test_X_reg[['stat_overall', 'age', 'ST', 'MF', 'DF', 'stat_potential', 'asia', 'prefer_foot', 'sa', 'const']]\n",
        "\n",
        "step_pred_train_reg = np.expm1(step_best_model.predict(step_train_X_reg))\n",
        "step_pred_test_reg = np.expm1(step_best_model.predict(step_test_X_reg))"
      ],
      "execution_count": 45,
      "outputs": []
    },
    {
      "cell_type": "code",
      "metadata": {
        "colab": {
          "base_uri": "https://localhost:8080/"
        },
        "id": "ZkvnztPwjvE0",
        "outputId": "83b51a26-6c00-4d34-c344-94e8c1f0dc3d"
      },
      "source": [
        "#해당 모형에서 train RMSE, test RMSE 계산\n",
        "\n",
        "np.sqrt(metrics.mean_squared_error(np.expm1(train_y_reg), step_pred_train_reg)), np.sqrt(metrics.mean_squared_error(np.expm1(test_y_reg), step_pred_test_reg))"
      ],
      "execution_count": 46,
      "outputs": [
        {
          "output_type": "execute_result",
          "data": {
            "text/plain": [
              "(2600564.4282207387, 2058103.9897833487)"
            ]
          },
          "metadata": {
            "tags": []
          },
          "execution_count": 46
        }
      ]
    },
    {
      "cell_type": "markdown",
      "metadata": {
        "id": "mL5XhBWTKfRt"
      },
      "source": [
        "__단계적 변수선택법으로 도출한 최적 모델의 예측 성능이 미미하게 더 우수함을 확인할 수 있다.  \n",
        "하지만 train RMSE: 2600564, test RMSE: 2058103으로 모델의 예측 성능이 아주 뛰어나지는 않음을 알 수 있다.  \n",
        "일반적으로 회귀분석은 결과의 해석에는 뛰어나지만 예측에 있어서는 다른 머신러닝, 딥러닝 모델에 비해서 성능이 떨어진다.__\n",
        "### __따라서, Random Fores와 LGBM 모델을 통해 추가적인 예측을 진행한다.__"
      ]
    },
    {
      "cell_type": "markdown",
      "metadata": {
        "id": "CtzWIktdgC6b"
      },
      "source": [
        "# __머신러닝__"
      ]
    },
    {
      "cell_type": "markdown",
      "metadata": {
        "id": "ztYYUn3kgDOd"
      },
      "source": [
        "## __Random_Forest__"
      ]
    },
    {
      "cell_type": "markdown",
      "metadata": {
        "id": "5F6Wpb2RH0_l"
      },
      "source": [
        "__Random Forest 모델을 통해 종속변수를 예측한다.  \n",
        "Random Forest 모델에서 중요한 parameter인 n_estimator와 max_depth의 parameter tunning을 위해 BayesianOptimiaztion을 활용한다.__"
      ]
    },
    {
      "cell_type": "code",
      "metadata": {
        "colab": {
          "base_uri": "https://localhost:8080/"
        },
        "id": "URa46afC7-YV",
        "outputId": "04f4bd03-cab6-43b8-e778-adfd7c53b02e"
      },
      "source": [
        "#bayesian optimization을 활용한 parameter tunning\n",
        "\n",
        "pbounds = { 'n_estimators'  : (16, 1024),\n",
        "            'max_depth' : (3, 10),   \n",
        "          }\n",
        "\n",
        "#pbounds: tunning parameter의 범위 설정\n",
        "\n",
        "def RFR_opt(n_estimators, max_depth):\n",
        "\n",
        "    params = { \"n_estimators\"      : int(round(n_estimators)),\n",
        "           \"max_depth\"         : int(round(max_depth)),\n",
        "           'n_jobs' : -1\n",
        "           }\n",
        "\n",
        "    RFR = RandomForestRegressor(**params)\n",
        "    \n",
        "    kf = KFold(n_splits=5 , shuffle=True, random_state=10)\n",
        "\n",
        "    score = cross_val_score(RFR, X, y, scoring='neg_mean_squared_error', cv=kf, n_jobs=-1)\n",
        "    \n",
        "    return np.mean(score)\n",
        "\n",
        "BO_RFR = BayesianOptimization(f = RFR_opt, pbounds = pbounds, random_state=1)    \n",
        "\n",
        "BO_RFR.maximize(init_points=10, n_iter = 100)"
      ],
      "execution_count": 47,
      "outputs": [
        {
          "output_type": "stream",
          "text": [
            "|   iter    |  target   | max_depth | n_esti... |\n",
            "-------------------------------------------------\n",
            "| \u001b[0m 1       \u001b[0m | \u001b[0m-0.03718 \u001b[0m | \u001b[0m 5.919   \u001b[0m | \u001b[0m 742.1   \u001b[0m |\n",
            "| \u001b[0m 2       \u001b[0m | \u001b[0m-0.1808  \u001b[0m | \u001b[0m 3.001   \u001b[0m | \u001b[0m 320.8   \u001b[0m |\n",
            "| \u001b[0m 3       \u001b[0m | \u001b[0m-0.101   \u001b[0m | \u001b[0m 4.027   \u001b[0m | \u001b[0m 109.1   \u001b[0m |\n",
            "| \u001b[0m 4       \u001b[0m | \u001b[0m-0.09942 \u001b[0m | \u001b[0m 4.304   \u001b[0m | \u001b[0m 364.3   \u001b[0m |\n",
            "| \u001b[0m 5       \u001b[0m | \u001b[0m-0.03726 \u001b[0m | \u001b[0m 5.777   \u001b[0m | \u001b[0m 559.1   \u001b[0m |\n",
            "| \u001b[95m 6       \u001b[0m | \u001b[95m-0.03713 \u001b[0m | \u001b[95m 5.934   \u001b[0m | \u001b[95m 706.7   \u001b[0m |\n",
            "| \u001b[0m 7       \u001b[0m | \u001b[0m-0.09942 \u001b[0m | \u001b[0m 4.431   \u001b[0m | \u001b[0m 901.1   \u001b[0m |\n",
            "| \u001b[0m 8       \u001b[0m | \u001b[0m-0.1813  \u001b[0m | \u001b[0m 3.192   \u001b[0m | \u001b[0m 691.8   \u001b[0m |\n",
            "| \u001b[0m 9       \u001b[0m | \u001b[0m-0.03725 \u001b[0m | \u001b[0m 5.921   \u001b[0m | \u001b[0m 579.2   \u001b[0m |\n",
            "| \u001b[0m 10      \u001b[0m | \u001b[0m-0.09909 \u001b[0m | \u001b[0m 3.983   \u001b[0m | \u001b[0m 215.7   \u001b[0m |\n",
            "| \u001b[95m 11      \u001b[0m | \u001b[95m-0.01138 \u001b[0m | \u001b[95m 10.0    \u001b[0m | \u001b[95m 1.024e+0\u001b[0m |\n",
            "| \u001b[0m 12      \u001b[0m | \u001b[0m-0.01379 \u001b[0m | \u001b[0m 8.81    \u001b[0m | \u001b[0m 681.4   \u001b[0m |\n",
            "| \u001b[0m 13      \u001b[0m | \u001b[0m-0.09954 \u001b[0m | \u001b[0m 4.045   \u001b[0m | \u001b[0m 649.8   \u001b[0m |\n",
            "| \u001b[0m 14      \u001b[0m | \u001b[0m-0.09956 \u001b[0m | \u001b[0m 3.603   \u001b[0m | \u001b[0m 780.8   \u001b[0m |\n",
            "| \u001b[0m 15      \u001b[0m | \u001b[0m-0.03682 \u001b[0m | \u001b[0m 5.769   \u001b[0m | \u001b[0m 178.7   \u001b[0m |\n",
            "| \u001b[0m 16      \u001b[0m | \u001b[0m-0.0139  \u001b[0m | \u001b[0m 9.214   \u001b[0m | \u001b[0m 466.8   \u001b[0m |\n",
            "| \u001b[0m 17      \u001b[0m | \u001b[0m-0.01239 \u001b[0m | \u001b[0m 10.0    \u001b[0m | \u001b[0m 16.0    \u001b[0m |\n",
            "| \u001b[0m 18      \u001b[0m | \u001b[0m-0.01139 \u001b[0m | \u001b[0m 9.711   \u001b[0m | \u001b[0m 682.1   \u001b[0m |\n",
            "| \u001b[0m 19      \u001b[0m | \u001b[0m-0.1806  \u001b[0m | \u001b[0m 3.108   \u001b[0m | \u001b[0m 965.2   \u001b[0m |\n",
            "| \u001b[0m 20      \u001b[0m | \u001b[0m-0.01144 \u001b[0m | \u001b[0m 10.0    \u001b[0m | \u001b[0m 842.3   \u001b[0m |\n",
            "| \u001b[0m 21      \u001b[0m | \u001b[0m-0.1812  \u001b[0m | \u001b[0m 3.039   \u001b[0m | \u001b[0m 418.4   \u001b[0m |\n",
            "| \u001b[0m 22      \u001b[0m | \u001b[0m-0.1807  \u001b[0m | \u001b[0m 3.125   \u001b[0m | \u001b[0m 58.42   \u001b[0m |\n",
            "| \u001b[0m 23      \u001b[0m | \u001b[0m-0.01138 \u001b[0m | \u001b[0m 10.0    \u001b[0m | \u001b[0m 267.5   \u001b[0m |\n",
            "| \u001b[0m 24      \u001b[0m | \u001b[0m-0.1818  \u001b[0m | \u001b[0m 3.155   \u001b[0m | \u001b[0m 509.6   \u001b[0m |\n",
            "| \u001b[0m 25      \u001b[0m | \u001b[0m-0.01151 \u001b[0m | \u001b[0m 9.556   \u001b[0m | \u001b[0m 144.1   \u001b[0m |\n",
            "| \u001b[0m 26      \u001b[0m | \u001b[0m-0.01141 \u001b[0m | \u001b[0m 9.856   \u001b[0m | \u001b[0m 813.2   \u001b[0m |\n",
            "| \u001b[0m 27      \u001b[0m | \u001b[0m-0.1808  \u001b[0m | \u001b[0m 3.042   \u001b[0m | \u001b[0m 1.003e+0\u001b[0m |\n",
            "| \u001b[0m 28      \u001b[0m | \u001b[0m-0.0114  \u001b[0m | \u001b[0m 9.938   \u001b[0m | \u001b[0m 932.8   \u001b[0m |\n",
            "| \u001b[0m 29      \u001b[0m | \u001b[0m-0.1814  \u001b[0m | \u001b[0m 3.232   \u001b[0m | \u001b[0m 248.6   \u001b[0m |\n",
            "| \u001b[95m 30      \u001b[0m | \u001b[95m-0.01137 \u001b[0m | \u001b[95m 9.897   \u001b[0m | \u001b[95m 390.3   \u001b[0m |\n",
            "| \u001b[0m 31      \u001b[0m | \u001b[0m-0.0114  \u001b[0m | \u001b[0m 9.953   \u001b[0m | \u001b[0m 293.5   \u001b[0m |\n",
            "| \u001b[0m 32      \u001b[0m | \u001b[0m-0.1811  \u001b[0m | \u001b[0m 3.019   \u001b[0m | \u001b[0m 826.1   \u001b[0m |\n",
            "| \u001b[0m 33      \u001b[0m | \u001b[0m-0.01139 \u001b[0m | \u001b[0m 9.873   \u001b[0m | \u001b[0m 874.8   \u001b[0m |\n",
            "| \u001b[95m 34      \u001b[0m | \u001b[95m-0.01134 \u001b[0m | \u001b[95m 9.682   \u001b[0m | \u001b[95m 725.9   \u001b[0m |\n",
            "| \u001b[95m 35      \u001b[0m | \u001b[95m-0.01133 \u001b[0m | \u001b[95m 10.0    \u001b[0m | \u001b[95m 611.1   \u001b[0m |\n",
            "| \u001b[0m 36      \u001b[0m | \u001b[0m-0.1854  \u001b[0m | \u001b[0m 3.272   \u001b[0m | \u001b[0m 16.53   \u001b[0m |\n",
            "| \u001b[0m 37      \u001b[0m | \u001b[0m-0.01135 \u001b[0m | \u001b[0m 10.0    \u001b[0m | \u001b[0m 84.25   \u001b[0m |\n",
            "| \u001b[0m 38      \u001b[0m | \u001b[0m-0.01136 \u001b[0m | \u001b[0m 9.972   \u001b[0m | \u001b[0m 536.4   \u001b[0m |\n",
            "| \u001b[0m 39      \u001b[0m | \u001b[0m-0.01141 \u001b[0m | \u001b[0m 10.0    \u001b[0m | \u001b[0m 442.6   \u001b[0m |\n",
            "| \u001b[0m 40      \u001b[0m | \u001b[0m-0.01139 \u001b[0m | \u001b[0m 10.0    \u001b[0m | \u001b[0m 343.6   \u001b[0m |\n",
            "| \u001b[0m 41      \u001b[0m | \u001b[0m-0.01178 \u001b[0m | \u001b[0m 10.0    \u001b[0m | \u001b[0m 37.67   \u001b[0m |\n",
            "| \u001b[0m 42      \u001b[0m | \u001b[0m-0.01138 \u001b[0m | \u001b[0m 10.0    \u001b[0m | \u001b[0m 197.2   \u001b[0m |\n",
            "| \u001b[0m 43      \u001b[0m | \u001b[0m-0.01146 \u001b[0m | \u001b[0m 9.986   \u001b[0m | \u001b[0m 660.7   \u001b[0m |\n",
            "| \u001b[0m 44      \u001b[0m | \u001b[0m-0.01139 \u001b[0m | \u001b[0m 9.827   \u001b[0m | \u001b[0m 759.5   \u001b[0m |\n",
            "| \u001b[0m 45      \u001b[0m | \u001b[0m-0.1819  \u001b[0m | \u001b[0m 3.47    \u001b[0m | \u001b[0m 1.023e+0\u001b[0m |\n",
            "| \u001b[0m 46      \u001b[0m | \u001b[0m-0.01136 \u001b[0m | \u001b[0m 9.93    \u001b[0m | \u001b[0m 983.4   \u001b[0m |\n",
            "| \u001b[0m 47      \u001b[0m | \u001b[0m-0.1812  \u001b[0m | \u001b[0m 3.0     \u001b[0m | \u001b[0m 603.1   \u001b[0m |\n",
            "| \u001b[0m 48      \u001b[0m | \u001b[0m-0.0114  \u001b[0m | \u001b[0m 10.0    \u001b[0m | \u001b[0m 567.6   \u001b[0m |\n",
            "| \u001b[0m 49      \u001b[0m | \u001b[0m-0.01145 \u001b[0m | \u001b[0m 9.999   \u001b[0m | \u001b[0m 232.2   \u001b[0m |\n",
            "| \u001b[0m 50      \u001b[0m | \u001b[0m-0.1815  \u001b[0m | \u001b[0m 3.069   \u001b[0m | \u001b[0m 454.4   \u001b[0m |\n",
            "| \u001b[0m 51      \u001b[0m | \u001b[0m-0.01149 \u001b[0m | \u001b[0m 9.983   \u001b[0m | \u001b[0m 164.4   \u001b[0m |\n",
            "| \u001b[0m 52      \u001b[0m | \u001b[0m-0.01151 \u001b[0m | \u001b[0m 9.962   \u001b[0m | \u001b[0m 121.9   \u001b[0m |\n",
            "| \u001b[0m 53      \u001b[0m | \u001b[0m-0.01139 \u001b[0m | \u001b[0m 10.0    \u001b[0m | \u001b[0m 908.2   \u001b[0m |\n",
            "| \u001b[95m 54      \u001b[0m | \u001b[95m-0.01131 \u001b[0m | \u001b[95m 10.0    \u001b[0m | \u001b[95m 489.1   \u001b[0m |\n",
            "| \u001b[0m 55      \u001b[0m | \u001b[0m-0.01138 \u001b[0m | \u001b[0m 9.955   \u001b[0m | \u001b[0m 630.8   \u001b[0m |\n",
            "| \u001b[0m 56      \u001b[0m | \u001b[0m-0.01142 \u001b[0m | \u001b[0m 9.986   \u001b[0m | \u001b[0m 369.9   \u001b[0m |\n",
            "| \u001b[0m 57      \u001b[0m | \u001b[0m-0.01139 \u001b[0m | \u001b[0m 9.992   \u001b[0m | \u001b[0m 792.4   \u001b[0m |\n",
            "| \u001b[0m 58      \u001b[0m | \u001b[0m-0.01136 \u001b[0m | \u001b[0m 9.875   \u001b[0m | \u001b[0m 951.4   \u001b[0m |\n",
            "| \u001b[0m 59      \u001b[0m | \u001b[0m-0.01138 \u001b[0m | \u001b[0m 9.95    \u001b[0m | \u001b[0m 412.8   \u001b[0m |\n",
            "| \u001b[0m 60      \u001b[0m | \u001b[0m-0.01166 \u001b[0m | \u001b[0m 9.986   \u001b[0m | \u001b[0m 65.55   \u001b[0m |\n",
            "| \u001b[0m 61      \u001b[0m | \u001b[0m-0.0114  \u001b[0m | \u001b[0m 9.938   \u001b[0m | \u001b[0m 1.008e+0\u001b[0m |\n",
            "| \u001b[0m 62      \u001b[0m | \u001b[0m-0.01142 \u001b[0m | \u001b[0m 9.921   \u001b[0m | \u001b[0m 857.0   \u001b[0m |\n",
            "| \u001b[0m 63      \u001b[0m | \u001b[0m-0.01143 \u001b[0m | \u001b[0m 10.0    \u001b[0m | \u001b[0m 591.0   \u001b[0m |\n",
            "| \u001b[0m 64      \u001b[0m | \u001b[0m-0.01148 \u001b[0m | \u001b[0m 10.0    \u001b[0m | \u001b[0m 315.9   \u001b[0m |\n",
            "| \u001b[0m 65      \u001b[0m | \u001b[0m-0.01161 \u001b[0m | \u001b[0m 9.954   \u001b[0m | \u001b[0m 104.4   \u001b[0m |\n",
            "| \u001b[0m 66      \u001b[0m | \u001b[0m-0.1807  \u001b[0m | \u001b[0m 3.0     \u001b[0m | \u001b[0m 155.3   \u001b[0m |\n",
            "| \u001b[0m 67      \u001b[0m | \u001b[0m-0.01142 \u001b[0m | \u001b[0m 9.93    \u001b[0m | \u001b[0m 892.1   \u001b[0m |\n",
            "| \u001b[0m 68      \u001b[0m | \u001b[0m-0.01149 \u001b[0m | \u001b[0m 9.922   \u001b[0m | \u001b[0m 178.3   \u001b[0m |\n",
            "| \u001b[0m 69      \u001b[0m | \u001b[0m-0.01141 \u001b[0m | \u001b[0m 9.992   \u001b[0m | \u001b[0m 712.7   \u001b[0m |\n",
            "| \u001b[0m 70      \u001b[0m | \u001b[0m-0.1811  \u001b[0m | \u001b[0m 3.12    \u001b[0m | \u001b[0m 723.3   \u001b[0m |\n",
            "| \u001b[0m 71      \u001b[0m | \u001b[0m-0.01141 \u001b[0m | \u001b[0m 9.899   \u001b[0m | \u001b[0m 745.5   \u001b[0m |\n",
            "| \u001b[0m 72      \u001b[0m | \u001b[0m-0.01139 \u001b[0m | \u001b[0m 10.0    \u001b[0m | \u001b[0m 515.3   \u001b[0m |\n",
            "| \u001b[0m 73      \u001b[0m | \u001b[0m-0.01142 \u001b[0m | \u001b[0m 10.0    \u001b[0m | \u001b[0m 775.9   \u001b[0m |\n",
            "| \u001b[0m 74      \u001b[0m | \u001b[0m-0.01144 \u001b[0m | \u001b[0m 10.0    \u001b[0m | \u001b[0m 250.6   \u001b[0m |\n",
            "| \u001b[0m 75      \u001b[0m | \u001b[0m-0.01141 \u001b[0m | \u001b[0m 9.961   \u001b[0m | \u001b[0m 670.5   \u001b[0m |\n",
            "| \u001b[0m 76      \u001b[0m | \u001b[0m-0.01138 \u001b[0m | \u001b[0m 9.886   \u001b[0m | \u001b[0m 430.3   \u001b[0m |\n",
            "| \u001b[0m 77      \u001b[0m | \u001b[0m-0.01134 \u001b[0m | \u001b[0m 9.912   \u001b[0m | \u001b[0m 968.5   \u001b[0m |\n",
            "| \u001b[0m 78      \u001b[0m | \u001b[0m-0.01137 \u001b[0m | \u001b[0m 9.989   \u001b[0m | \u001b[0m 356.4   \u001b[0m |\n",
            "| \u001b[0m 79      \u001b[0m | \u001b[0m-0.01162 \u001b[0m | \u001b[0m 10.0    \u001b[0m | \u001b[0m 50.98   \u001b[0m |\n",
            "| \u001b[0m 80      \u001b[0m | \u001b[0m-0.01139 \u001b[0m | \u001b[0m 10.0    \u001b[0m | \u001b[0m 214.8   \u001b[0m |\n",
            "| \u001b[0m 81      \u001b[0m | \u001b[0m-0.01141 \u001b[0m | \u001b[0m 9.952   \u001b[0m | \u001b[0m 645.1   \u001b[0m |\n",
            "| \u001b[0m 82      \u001b[0m | \u001b[0m-0.01141 \u001b[0m | \u001b[0m 9.977   \u001b[0m | \u001b[0m 549.8   \u001b[0m |\n",
            "| \u001b[0m 83      \u001b[0m | \u001b[0m-0.0114  \u001b[0m | \u001b[0m 10.0    \u001b[0m | \u001b[0m 827.2   \u001b[0m |\n",
            "| \u001b[0m 84      \u001b[0m | \u001b[0m-0.01146 \u001b[0m | \u001b[0m 10.0    \u001b[0m | \u001b[0m 280.4   \u001b[0m |\n",
            "| \u001b[0m 85      \u001b[0m | \u001b[0m-0.01148 \u001b[0m | \u001b[0m 9.984   \u001b[0m | \u001b[0m 476.5   \u001b[0m |\n",
            "| \u001b[0m 86      \u001b[0m | \u001b[0m-0.01149 \u001b[0m | \u001b[0m 9.938   \u001b[0m | \u001b[0m 327.8   \u001b[0m |\n",
            "| \u001b[0m 87      \u001b[0m | \u001b[0m-0.01137 \u001b[0m | \u001b[0m 9.979   \u001b[0m | \u001b[0m 702.6   \u001b[0m |\n",
            "| \u001b[0m 88      \u001b[0m | \u001b[0m-0.01138 \u001b[0m | \u001b[0m 10.0    \u001b[0m | \u001b[0m 996.0   \u001b[0m |\n",
            "| \u001b[0m 89      \u001b[0m | \u001b[0m-0.01138 \u001b[0m | \u001b[0m 9.982   \u001b[0m | \u001b[0m 921.1   \u001b[0m |\n",
            "| \u001b[0m 90      \u001b[0m | \u001b[0m-0.01206 \u001b[0m | \u001b[0m 9.992   \u001b[0m | \u001b[0m 23.56   \u001b[0m |\n",
            "| \u001b[0m 91      \u001b[0m | \u001b[0m-0.01144 \u001b[0m | \u001b[0m 9.976   \u001b[0m | \u001b[0m 457.1   \u001b[0m |\n",
            "| \u001b[0m 92      \u001b[0m | \u001b[0m-0.01142 \u001b[0m | \u001b[0m 9.8     \u001b[0m | \u001b[0m 133.8   \u001b[0m |\n",
            "| \u001b[0m 93      \u001b[0m | \u001b[0m-0.01141 \u001b[0m | \u001b[0m 10.0    \u001b[0m | \u001b[0m 503.8   \u001b[0m |\n",
            "| \u001b[0m 94      \u001b[0m | \u001b[0m-0.01139 \u001b[0m | \u001b[0m 9.867   \u001b[0m | \u001b[0m 736.0   \u001b[0m |\n",
            "| \u001b[0m 95      \u001b[0m | \u001b[0m-0.01139 \u001b[0m | \u001b[0m 9.829   \u001b[0m | \u001b[0m 401.0   \u001b[0m |\n",
            "| \u001b[0m 96      \u001b[0m | \u001b[0m-0.1819  \u001b[0m | \u001b[0m 3.01    \u001b[0m | \u001b[0m 757.3   \u001b[0m |\n",
            "| \u001b[0m 97      \u001b[0m | \u001b[0m-0.1815  \u001b[0m | \u001b[0m 3.23    \u001b[0m | \u001b[0m 865.4   \u001b[0m |\n",
            "| \u001b[0m 98      \u001b[0m | \u001b[0m-0.01134 \u001b[0m | \u001b[0m 9.941   \u001b[0m | \u001b[0m 577.9   \u001b[0m |\n",
            "| \u001b[0m 99      \u001b[0m | \u001b[0m-0.01144 \u001b[0m | \u001b[0m 9.886   \u001b[0m | \u001b[0m 303.1   \u001b[0m |\n",
            "| \u001b[0m 100     \u001b[0m | \u001b[0m-0.01141 \u001b[0m | \u001b[0m 9.969   \u001b[0m | \u001b[0m 620.8   \u001b[0m |\n",
            "| \u001b[0m 101     \u001b[0m | \u001b[0m-0.01141 \u001b[0m | \u001b[0m 10.0    \u001b[0m | \u001b[0m 526.4   \u001b[0m |\n",
            "| \u001b[0m 102     \u001b[0m | \u001b[0m-0.01156 \u001b[0m | \u001b[0m 9.844   \u001b[0m | \u001b[0m 93.94   \u001b[0m |\n",
            "| \u001b[0m 103     \u001b[0m | \u001b[0m-0.01138 \u001b[0m | \u001b[0m 9.888   \u001b[0m | \u001b[0m 801.6   \u001b[0m |\n",
            "| \u001b[0m 104     \u001b[0m | \u001b[0m-0.1807  \u001b[0m | \u001b[0m 3.321   \u001b[0m | \u001b[0m 193.5   \u001b[0m |\n",
            "| \u001b[0m 105     \u001b[0m | \u001b[0m-0.1812  \u001b[0m | \u001b[0m 3.018   \u001b[0m | \u001b[0m 929.1   \u001b[0m |\n",
            "| \u001b[0m 106     \u001b[0m | \u001b[0m-0.0114  \u001b[0m | \u001b[0m 9.572   \u001b[0m | \u001b[0m 205.8   \u001b[0m |\n",
            "| \u001b[0m 107     \u001b[0m | \u001b[0m-0.01146 \u001b[0m | \u001b[0m 9.948   \u001b[0m | \u001b[0m 377.9   \u001b[0m |\n",
            "| \u001b[0m 108     \u001b[0m | \u001b[0m-0.01139 \u001b[0m | \u001b[0m 9.963   \u001b[0m | \u001b[0m 941.5   \u001b[0m |\n",
            "| \u001b[0m 109     \u001b[0m | \u001b[0m-0.01141 \u001b[0m | \u001b[0m 9.857   \u001b[0m | \u001b[0m 1.017e+0\u001b[0m |\n",
            "| \u001b[0m 110     \u001b[0m | \u001b[0m-0.01136 \u001b[0m | \u001b[0m 9.971   \u001b[0m | \u001b[0m 865.1   \u001b[0m |\n",
            "=================================================\n"
          ],
          "name": "stdout"
        }
      ]
    },
    {
      "cell_type": "code",
      "metadata": {
        "colab": {
          "base_uri": "https://localhost:8080/"
        },
        "id": "P7WPgSeKHtve",
        "outputId": "546a7063-3cf5-412f-cfec-93607eac30f2"
      },
      "source": [
        "#bayesian optimization을 통해 도출한 최적의 parameter\n",
        "\n",
        "BO_RFR.max  "
      ],
      "execution_count": 48,
      "outputs": [
        {
          "output_type": "execute_result",
          "data": {
            "text/plain": [
              "{'params': {'max_depth': 10.0, 'n_estimators': 489.1140564283241},\n",
              " 'target': -0.011308883081321284}"
            ]
          },
          "metadata": {
            "tags": []
          },
          "execution_count": 48
        }
      ]
    },
    {
      "cell_type": "code",
      "metadata": {
        "id": "fVWC3d4QHtvg"
      },
      "source": [
        "#max_depth와 n_estimator는 정수 값이어야 하므로 round함수를 활용하여 반올림\n",
        "\n",
        "params_RFR = BO_RFR.max['params']\n",
        "params_RFR['max_depth'] = int(round(params_RFR['max_depth']))\n",
        "params_RFR['n_estimators'] = int(round(params_RFR['n_estimators']))"
      ],
      "execution_count": 49,
      "outputs": []
    },
    {
      "cell_type": "code",
      "metadata": {
        "id": "6dpoJJ2QHtvg",
        "colab": {
          "base_uri": "https://localhost:8080/"
        },
        "outputId": "1148e0a1-f66a-4264-df71-1090a6c6aecb"
      },
      "source": [
        "#Random Forest모델 적합\n",
        "\n",
        "RFR = RandomForestRegressor(random_state = 1, **params_RFR)\n",
        "RFR.fit(train_x, train_y)"
      ],
      "execution_count": 50,
      "outputs": [
        {
          "output_type": "stream",
          "text": [
            "/usr/local/lib/python3.7/dist-packages/ipykernel_launcher.py:4: DataConversionWarning: A column-vector y was passed when a 1d array was expected. Please change the shape of y to (n_samples,), for example using ravel().\n",
            "  after removing the cwd from sys.path.\n"
          ],
          "name": "stderr"
        },
        {
          "output_type": "execute_result",
          "data": {
            "text/plain": [
              "RandomForestRegressor(bootstrap=True, ccp_alpha=0.0, criterion='mse',\n",
              "                      max_depth=10, max_features='auto', max_leaf_nodes=None,\n",
              "                      max_samples=None, min_impurity_decrease=0.0,\n",
              "                      min_impurity_split=None, min_samples_leaf=1,\n",
              "                      min_samples_split=2, min_weight_fraction_leaf=0.0,\n",
              "                      n_estimators=489, n_jobs=None, oob_score=False,\n",
              "                      random_state=1, verbose=0, warm_start=False)"
            ]
          },
          "metadata": {
            "tags": []
          },
          "execution_count": 50
        }
      ]
    },
    {
      "cell_type": "code",
      "metadata": {
        "id": "QDysFNz_Htvh"
      },
      "source": [
        "#적합된 Random Forest모델의 예측값 계산\n",
        "#모델을 적합할 때 종속변수인 'value'를 로그변환 했으므로 exp함수를 통해 원래의 'value'값 예측\n",
        "\n",
        "RFR_pred_train = np.expm1(RFR.predict(train_x))\n",
        "RFR_pred_test = np.expm1(RFR.predict(test_x))"
      ],
      "execution_count": 51,
      "outputs": []
    },
    {
      "cell_type": "code",
      "metadata": {
        "colab": {
          "base_uri": "https://localhost:8080/"
        },
        "id": "xdOf4BIPHtvh",
        "outputId": "65e06384-8dbd-4eea-bb2f-7e63b632b2fe"
      },
      "source": [
        "#train RMSE, test RMSE 계산\n",
        "\n",
        "np.sqrt(metrics.mean_squared_error(np.expm1(train_y), RFR_pred_train)), np.sqrt(metrics.mean_squared_error(np.expm1(test_y), RFR_pred_test))"
      ],
      "execution_count": 52,
      "outputs": [
        {
          "output_type": "execute_result",
          "data": {
            "text/plain": [
              "(516237.1063637581, 847562.7727242418)"
            ]
          },
          "metadata": {
            "tags": []
          },
          "execution_count": 52
        }
      ]
    },
    {
      "cell_type": "markdown",
      "metadata": {
        "id": "XVDBreLgHrc2"
      },
      "source": [
        "__train RMSE: 519064, test RMSE: 838300 으로 OLS모형보다 예측 성능이 개선되었음을 알 수 있다.  \n",
        "하지만 test RMSE값이 train RMSE보다 꽤 큰 것을 보아 과적합 문제를 의심해 볼 수 있다.__"
      ]
    },
    {
      "cell_type": "markdown",
      "metadata": {
        "id": "jJFbV1J7l2dy"
      },
      "source": [
        "## __LGBM__"
      ]
    },
    {
      "cell_type": "markdown",
      "metadata": {
        "id": "NbOcZ64sKMWF"
      },
      "source": [
        "__LGBM 모델을 통해 종속변수를 예측한다.  \n",
        "parameter tunning을 위해 BayesianOptimiaztion을 활용한다.__"
      ]
    },
    {
      "cell_type": "code",
      "metadata": {
        "colab": {
          "base_uri": "https://localhost:8080/"
        },
        "id": "FVFy5bz1l3bL",
        "outputId": "382c25cc-efc4-47f6-e72d-67bbba3297be"
      },
      "source": [
        "#bayesian optimization을 통한 parameter tunning\n",
        "\n",
        "pbounds = { 'learning_rate': (0.0005, 0.2),\n",
        "            'n_estimators': (16, 1024),\n",
        "            'max_depth': (3,10),   \n",
        "            'subsample': (0.5,1), \n",
        "            'colsample_bytree': (0.5,1),   \n",
        "            'num_leaves': (2,16),\n",
        "            'min_child_weight': (1, 10)}\n",
        "\n",
        "#pbounds: tunning parameter의 범위 설정\n",
        "\n",
        "def lgbm_opt(learning_rate, n_estimators, max_depth, subsample, colsample_bytree, num_leaves, min_child_weight):\n",
        "\n",
        "    params = {\n",
        "        'learning_rate': learning_rate,\n",
        "        'n_estimators' : int(round(n_estimators)),\n",
        "        'max_depth' : int(round(max_depth)),\n",
        "        'subsample': subsample,\n",
        "        'colsample_bytree' : colsample_bytree,\n",
        "        'num_leaves' : int(round(num_leaves)),\n",
        "        'min_child_weight' : min_child_weight,\n",
        "        'n_jobs' : -1\n",
        "    }\n",
        "    \n",
        "    lgbm = LGBMRegressor(**params)\n",
        "    \n",
        "    kf = KFold(n_splits=5 , shuffle=True, random_state=1)\n",
        "\n",
        "    score = cross_val_score(lgbm, X, y, scoring='neg_mean_squared_error', cv=kf, n_jobs=-1)\n",
        "    \n",
        "    return np.mean(score)\n",
        "\n",
        "BO_lgbm = BayesianOptimization(f = lgbm_opt, pbounds = pbounds, random_state=1)    \n",
        "\n",
        "BO_lgbm.maximize(init_points=10, n_iter = 200)"
      ],
      "execution_count": 53,
      "outputs": [
        {
          "output_type": "stream",
          "text": [
            "|   iter    |  target   | colsam... | learni... | max_depth | min_ch... | n_esti... | num_le... | subsample |\n",
            "-------------------------------------------------------------------------------------------------------------\n",
            "| \u001b[0m 1       \u001b[0m | \u001b[0m-0.009791\u001b[0m | \u001b[0m 0.7085  \u001b[0m | \u001b[0m 0.1442  \u001b[0m | \u001b[0m 3.001   \u001b[0m | \u001b[0m 3.721   \u001b[0m | \u001b[0m 163.9   \u001b[0m | \u001b[0m 3.293   \u001b[0m | \u001b[0m 0.5931  \u001b[0m |\n",
            "| \u001b[95m 2       \u001b[0m | \u001b[95m-0.006552\u001b[0m | \u001b[95m 0.6728  \u001b[0m | \u001b[95m 0.07966 \u001b[0m | \u001b[95m 6.772   \u001b[0m | \u001b[95m 4.773   \u001b[0m | \u001b[95m 706.7   \u001b[0m | \u001b[95m 4.862   \u001b[0m | \u001b[95m 0.9391  \u001b[0m |\n",
            "| \u001b[0m 3       \u001b[0m | \u001b[0m-0.01022 \u001b[0m | \u001b[0m 0.5137  \u001b[0m | \u001b[0m 0.1343  \u001b[0m | \u001b[0m 5.921   \u001b[0m | \u001b[0m 6.028   \u001b[0m | \u001b[0m 157.5   \u001b[0m | \u001b[0m 4.773   \u001b[0m | \u001b[0m 0.9004  \u001b[0m |\n",
            "| \u001b[0m 4       \u001b[0m | \u001b[0m-0.007027\u001b[0m | \u001b[0m 0.9841  \u001b[0m | \u001b[0m 0.06303 \u001b[0m | \u001b[0m 7.846   \u001b[0m | \u001b[0m 8.888   \u001b[0m | \u001b[0m 917.8   \u001b[0m | \u001b[0m 3.191   \u001b[0m | \u001b[0m 0.5195  \u001b[0m |\n",
            "| \u001b[95m 5       \u001b[0m | \u001b[95m-0.005813\u001b[0m | \u001b[95m 0.5849  \u001b[0m | \u001b[95m 0.1757  \u001b[0m | \u001b[95m 3.688   \u001b[0m | \u001b[95m 4.79    \u001b[0m | \u001b[95m 981.6   \u001b[0m | \u001b[95m 9.464   \u001b[0m | \u001b[95m 0.8459  \u001b[0m |\n",
            "| \u001b[0m 6       \u001b[0m | \u001b[0m-0.006131\u001b[0m | \u001b[0m 0.6578  \u001b[0m | \u001b[0m 0.1375  \u001b[0m | \u001b[0m 8.842   \u001b[0m | \u001b[0m 1.165   \u001b[0m | \u001b[0m 772.1   \u001b[0m | \u001b[0m 15.84   \u001b[0m | \u001b[0m 0.8741  \u001b[0m |\n",
            "| \u001b[95m 7       \u001b[0m | \u001b[95m-0.005711\u001b[0m | \u001b[95m 0.6402  \u001b[0m | \u001b[95m 0.158   \u001b[0m | \u001b[95m 3.723   \u001b[0m | \u001b[95m 5.031   \u001b[0m | \u001b[95m 931.9   \u001b[0m | \u001b[95m 6.111   \u001b[0m | \u001b[95m 0.6439  \u001b[0m |\n",
            "| \u001b[0m 8       \u001b[0m | \u001b[0m-0.3683  \u001b[0m | \u001b[0m 0.565   \u001b[0m | \u001b[0m 0.004364\u001b[0m | \u001b[0m 7.752   \u001b[0m | \u001b[0m 2.905   \u001b[0m | \u001b[0m 283.7   \u001b[0m | \u001b[0m 8.882   \u001b[0m | \u001b[0m 0.5267  \u001b[0m |\n",
            "| \u001b[0m 9       \u001b[0m | \u001b[0m-0.03042 \u001b[0m | \u001b[0m 0.7871  \u001b[0m | \u001b[0m 0.02977 \u001b[0m | \u001b[0m 7.125   \u001b[0m | \u001b[0m 7.298   \u001b[0m | \u001b[0m 119.2   \u001b[0m | \u001b[0m 7.797   \u001b[0m | \u001b[0m 0.8472  \u001b[0m |\n",
            "| \u001b[0m 10      \u001b[0m | \u001b[0m-0.01081 \u001b[0m | \u001b[0m 0.7071  \u001b[0m | \u001b[0m 0.01047 \u001b[0m | \u001b[0m 6.751   \u001b[0m | \u001b[0m 6.974   \u001b[0m | \u001b[0m 535.0   \u001b[0m | \u001b[0m 15.22   \u001b[0m | \u001b[0m 0.7933  \u001b[0m |\n",
            "| \u001b[0m 11      \u001b[0m | \u001b[0m-0.006354\u001b[0m | \u001b[0m 1.0     \u001b[0m | \u001b[0m 0.2     \u001b[0m | \u001b[0m 10.0    \u001b[0m | \u001b[0m 10.0    \u001b[0m | \u001b[0m 625.7   \u001b[0m | \u001b[0m 16.0    \u001b[0m | \u001b[0m 0.5     \u001b[0m |\n",
            "| \u001b[0m 12      \u001b[0m | \u001b[0m-0.2654  \u001b[0m | \u001b[0m 0.9125  \u001b[0m | \u001b[0m 0.1665  \u001b[0m | \u001b[0m 9.771   \u001b[0m | \u001b[0m 1.034   \u001b[0m | \u001b[0m 17.31   \u001b[0m | \u001b[0m 2.158   \u001b[0m | \u001b[0m 0.6957  \u001b[0m |\n",
            "| \u001b[0m 13      \u001b[0m | \u001b[0m-1.441   \u001b[0m | \u001b[0m 0.7592  \u001b[0m | \u001b[0m 0.0005  \u001b[0m | \u001b[0m 3.0     \u001b[0m | \u001b[0m 1.0     \u001b[0m | \u001b[0m 598.4   \u001b[0m | \u001b[0m 2.0     \u001b[0m | \u001b[0m 0.9637  \u001b[0m |\n",
            "| \u001b[0m 14      \u001b[0m | \u001b[0m-0.006127\u001b[0m | \u001b[0m 0.9393  \u001b[0m | \u001b[0m 0.115   \u001b[0m | \u001b[0m 10.0    \u001b[0m | \u001b[0m 10.0    \u001b[0m | \u001b[0m 450.1   \u001b[0m | \u001b[0m 16.0    \u001b[0m | \u001b[0m 0.5     \u001b[0m |\n",
            "| \u001b[0m 15      \u001b[0m | \u001b[0m-0.01463 \u001b[0m | \u001b[0m 0.5     \u001b[0m | \u001b[0m 0.2     \u001b[0m | \u001b[0m 3.0     \u001b[0m | \u001b[0m 1.0     \u001b[0m | \u001b[0m 372.1   \u001b[0m | \u001b[0m 2.0     \u001b[0m | \u001b[0m 1.0     \u001b[0m |\n",
            "| \u001b[0m 16      \u001b[0m | \u001b[0m-0.01221 \u001b[0m | \u001b[0m 0.5     \u001b[0m | \u001b[0m 0.2     \u001b[0m | \u001b[0m 3.0     \u001b[0m | \u001b[0m 1.0     \u001b[0m | \u001b[0m 841.0   \u001b[0m | \u001b[0m 2.0     \u001b[0m | \u001b[0m 0.5     \u001b[0m |\n",
            "| \u001b[0m 17      \u001b[0m | \u001b[0m-0.006892\u001b[0m | \u001b[0m 0.9006  \u001b[0m | \u001b[0m 0.04292 \u001b[0m | \u001b[0m 3.254   \u001b[0m | \u001b[0m 6.093   \u001b[0m | \u001b[0m 932.6   \u001b[0m | \u001b[0m 3.937   \u001b[0m | \u001b[0m 0.8279  \u001b[0m |\n",
            "| \u001b[0m 18      \u001b[0m | \u001b[0m-0.009723\u001b[0m | \u001b[0m 0.568   \u001b[0m | \u001b[0m 0.008651\u001b[0m | \u001b[0m 9.575   \u001b[0m | \u001b[0m 8.567   \u001b[0m | \u001b[0m 1.024e+0\u001b[0m | \u001b[0m 14.98   \u001b[0m | \u001b[0m 0.7768  \u001b[0m |\n",
            "| \u001b[0m 19      \u001b[0m | \u001b[0m-1.685   \u001b[0m | \u001b[0m 0.5     \u001b[0m | \u001b[0m 0.0005  \u001b[0m | \u001b[0m 10.0    \u001b[0m | \u001b[0m 10.0    \u001b[0m | \u001b[0m 220.0   \u001b[0m | \u001b[0m 16.0    \u001b[0m | \u001b[0m 1.0     \u001b[0m |\n",
            "| \u001b[0m 20      \u001b[0m | \u001b[0m-0.00684 \u001b[0m | \u001b[0m 0.8323  \u001b[0m | \u001b[0m 0.1713  \u001b[0m | \u001b[0m 5.048   \u001b[0m | \u001b[0m 2.291   \u001b[0m | \u001b[0m 492.3   \u001b[0m | \u001b[0m 2.563   \u001b[0m | \u001b[0m 0.7481  \u001b[0m |\n",
            "| \u001b[0m 21      \u001b[0m | \u001b[0m-0.006224\u001b[0m | \u001b[0m 0.5     \u001b[0m | \u001b[0m 0.2     \u001b[0m | \u001b[0m 3.0     \u001b[0m | \u001b[0m 1.0     \u001b[0m | \u001b[0m 664.9   \u001b[0m | \u001b[0m 16.0    \u001b[0m | \u001b[0m 0.5     \u001b[0m |\n",
            "| \u001b[0m 22      \u001b[0m | \u001b[0m-0.02092 \u001b[0m | \u001b[0m 0.5041  \u001b[0m | \u001b[0m 0.01496 \u001b[0m | \u001b[0m 6.862   \u001b[0m | \u001b[0m 9.959   \u001b[0m | \u001b[0m 326.2   \u001b[0m | \u001b[0m 15.5    \u001b[0m | \u001b[0m 0.9998  \u001b[0m |\n",
            "| \u001b[0m 23      \u001b[0m | \u001b[0m-0.009573\u001b[0m | \u001b[0m 1.0     \u001b[0m | \u001b[0m 0.2     \u001b[0m | \u001b[0m 3.0     \u001b[0m | \u001b[0m 1.0     \u001b[0m | \u001b[0m 66.43   \u001b[0m | \u001b[0m 16.0    \u001b[0m | \u001b[0m 0.5     \u001b[0m |\n",
            "| \u001b[0m 24      \u001b[0m | \u001b[0m-1.349   \u001b[0m | \u001b[0m 1.0     \u001b[0m | \u001b[0m 0.0005  \u001b[0m | \u001b[0m 10.0    \u001b[0m | \u001b[0m 10.0    \u001b[0m | \u001b[0m 404.2   \u001b[0m | \u001b[0m 16.0    \u001b[0m | \u001b[0m 0.5     \u001b[0m |\n",
            "| \u001b[0m 25      \u001b[0m | \u001b[0m-0.006049\u001b[0m | \u001b[0m 0.7528  \u001b[0m | \u001b[0m 0.1575  \u001b[0m | \u001b[0m 9.526   \u001b[0m | \u001b[0m 1.165   \u001b[0m | \u001b[0m 875.8   \u001b[0m | \u001b[0m 15.53   \u001b[0m | \u001b[0m 0.8272  \u001b[0m |\n",
            "| \u001b[0m 26      \u001b[0m | \u001b[0m-0.9794  \u001b[0m | \u001b[0m 1.0     \u001b[0m | \u001b[0m 0.0005  \u001b[0m | \u001b[0m 3.0     \u001b[0m | \u001b[0m 10.0    \u001b[0m | \u001b[0m 809.3   \u001b[0m | \u001b[0m 16.0    \u001b[0m | \u001b[0m 1.0     \u001b[0m |\n",
            "| \u001b[0m 27      \u001b[0m | \u001b[0m-0.01078 \u001b[0m | \u001b[0m 0.6762  \u001b[0m | \u001b[0m 0.08076 \u001b[0m | \u001b[0m 6.384   \u001b[0m | \u001b[0m 9.604   \u001b[0m | \u001b[0m 742.5   \u001b[0m | \u001b[0m 2.42    \u001b[0m | \u001b[0m 0.639   \u001b[0m |\n",
            "| \u001b[0m 28      \u001b[0m | \u001b[0m-1.369   \u001b[0m | \u001b[0m 1.0     \u001b[0m | \u001b[0m 0.0005  \u001b[0m | \u001b[0m 10.0    \u001b[0m | \u001b[0m 10.0    \u001b[0m | \u001b[0m 652.8   \u001b[0m | \u001b[0m 2.0     \u001b[0m | \u001b[0m 1.0     \u001b[0m |\n",
            "| \u001b[0m 29      \u001b[0m | \u001b[0m-0.01247 \u001b[0m | \u001b[0m 0.7617  \u001b[0m | \u001b[0m 0.1817  \u001b[0m | \u001b[0m 9.442   \u001b[0m | \u001b[0m 1.779   \u001b[0m | \u001b[0m 344.3   \u001b[0m | \u001b[0m 2.247   \u001b[0m | \u001b[0m 0.5693  \u001b[0m |\n",
            "| \u001b[0m 30      \u001b[0m | \u001b[0m-0.01824 \u001b[0m | \u001b[0m 0.7672  \u001b[0m | \u001b[0m 0.09739 \u001b[0m | \u001b[0m 9.775   \u001b[0m | \u001b[0m 1.685   \u001b[0m | \u001b[0m 89.75   \u001b[0m | \u001b[0m 2.84    \u001b[0m | \u001b[0m 0.6293  \u001b[0m |\n",
            "| \u001b[0m 31      \u001b[0m | \u001b[0m-0.01386 \u001b[0m | \u001b[0m 0.5     \u001b[0m | \u001b[0m 0.2     \u001b[0m | \u001b[0m 3.0     \u001b[0m | \u001b[0m 1.0     \u001b[0m | \u001b[0m 461.0   \u001b[0m | \u001b[0m 2.0     \u001b[0m | \u001b[0m 1.0     \u001b[0m |\n",
            "| \u001b[0m 32      \u001b[0m | \u001b[0m-0.006039\u001b[0m | \u001b[0m 0.6415  \u001b[0m | \u001b[0m 0.07777 \u001b[0m | \u001b[0m 5.821   \u001b[0m | \u001b[0m 1.827   \u001b[0m | \u001b[0m 726.0   \u001b[0m | \u001b[0m 15.76   \u001b[0m | \u001b[0m 0.8583  \u001b[0m |\n",
            "| \u001b[0m 33      \u001b[0m | \u001b[0m-0.006424\u001b[0m | \u001b[0m 0.5     \u001b[0m | \u001b[0m 0.2     \u001b[0m | \u001b[0m 10.0    \u001b[0m | \u001b[0m 10.0    \u001b[0m | \u001b[0m 480.0   \u001b[0m | \u001b[0m 16.0    \u001b[0m | \u001b[0m 1.0     \u001b[0m |\n",
            "| \u001b[0m 34      \u001b[0m | \u001b[0m-0.05974 \u001b[0m | \u001b[0m 0.5     \u001b[0m | \u001b[0m 0.2     \u001b[0m | \u001b[0m 10.0    \u001b[0m | \u001b[0m 10.0    \u001b[0m | \u001b[0m 50.73   \u001b[0m | \u001b[0m 2.0     \u001b[0m | \u001b[0m 1.0     \u001b[0m |\n",
            "| \u001b[0m 35      \u001b[0m | \u001b[0m-0.01133 \u001b[0m | \u001b[0m 1.0     \u001b[0m | \u001b[0m 0.2     \u001b[0m | \u001b[0m 3.0     \u001b[0m | \u001b[0m 1.0     \u001b[0m | \u001b[0m 1.024e+0\u001b[0m | \u001b[0m 2.0     \u001b[0m | \u001b[0m 1.0     \u001b[0m |\n",
            "| \u001b[0m 36      \u001b[0m | \u001b[0m-0.8807  \u001b[0m | \u001b[0m 0.5476  \u001b[0m | \u001b[0m 0.001168\u001b[0m | \u001b[0m 3.417   \u001b[0m | \u001b[0m 9.088   \u001b[0m | \u001b[0m 872.7   \u001b[0m | \u001b[0m 2.45    \u001b[0m | \u001b[0m 0.8409  \u001b[0m |\n",
            "| \u001b[0m 37      \u001b[0m | \u001b[0m-0.01543 \u001b[0m | \u001b[0m 0.5     \u001b[0m | \u001b[0m 0.2     \u001b[0m | \u001b[0m 3.0     \u001b[0m | \u001b[0m 1.0     \u001b[0m | \u001b[0m 311.9   \u001b[0m | \u001b[0m 2.0     \u001b[0m | \u001b[0m 1.0     \u001b[0m |\n",
            "| \u001b[0m 38      \u001b[0m | \u001b[0m-0.007409\u001b[0m | \u001b[0m 0.5501  \u001b[0m | \u001b[0m 0.01863 \u001b[0m | \u001b[0m 6.799   \u001b[0m | \u001b[0m 9.769   \u001b[0m | \u001b[0m 958.3   \u001b[0m | \u001b[0m 15.85   \u001b[0m | \u001b[0m 0.7963  \u001b[0m |\n",
            "| \u001b[0m 39      \u001b[0m | \u001b[0m-0.006201\u001b[0m | \u001b[0m 0.5     \u001b[0m | \u001b[0m 0.2     \u001b[0m | \u001b[0m 3.0     \u001b[0m | \u001b[0m 10.0    \u001b[0m | \u001b[0m 690.9   \u001b[0m | \u001b[0m 16.0    \u001b[0m | \u001b[0m 0.5     \u001b[0m |\n",
            "| \u001b[0m 40      \u001b[0m | \u001b[0m-0.006442\u001b[0m | \u001b[0m 1.0     \u001b[0m | \u001b[0m 0.2     \u001b[0m | \u001b[0m 10.0    \u001b[0m | \u001b[0m 1.0     \u001b[0m | \u001b[0m 847.5   \u001b[0m | \u001b[0m 16.0    \u001b[0m | \u001b[0m 1.0     \u001b[0m |\n",
            "| \u001b[0m 41      \u001b[0m | \u001b[0m-0.006254\u001b[0m | \u001b[0m 0.7612  \u001b[0m | \u001b[0m 0.1556  \u001b[0m | \u001b[0m 3.265   \u001b[0m | \u001b[0m 1.061   \u001b[0m | \u001b[0m 512.9   \u001b[0m | \u001b[0m 15.71   \u001b[0m | \u001b[0m 0.6225  \u001b[0m |\n",
            "| \u001b[0m 42      \u001b[0m | \u001b[0m-1.847   \u001b[0m | \u001b[0m 0.5     \u001b[0m | \u001b[0m 0.0005  \u001b[0m | \u001b[0m 3.0     \u001b[0m | \u001b[0m 10.0    \u001b[0m | \u001b[0m 93.66   \u001b[0m | \u001b[0m 16.0    \u001b[0m | \u001b[0m 0.5     \u001b[0m |\n",
            "| \u001b[0m 43      \u001b[0m | \u001b[0m-0.01964 \u001b[0m | \u001b[0m 0.7831  \u001b[0m | \u001b[0m 0.1166  \u001b[0m | \u001b[0m 9.13    \u001b[0m | \u001b[0m 1.157   \u001b[0m | \u001b[0m 134.5   \u001b[0m | \u001b[0m 2.383   \u001b[0m | \u001b[0m 0.6619  \u001b[0m |\n",
            "| \u001b[0m 44      \u001b[0m | \u001b[0m-1.581   \u001b[0m | \u001b[0m 0.5     \u001b[0m | \u001b[0m 0.0005  \u001b[0m | \u001b[0m 10.0    \u001b[0m | \u001b[0m 10.0    \u001b[0m | \u001b[0m 519.2   \u001b[0m | \u001b[0m 2.0     \u001b[0m | \u001b[0m 1.0     \u001b[0m |\n",
            "| \u001b[0m 45      \u001b[0m | \u001b[0m-0.006398\u001b[0m | \u001b[0m 0.5     \u001b[0m | \u001b[0m 0.2     \u001b[0m | \u001b[0m 10.0    \u001b[0m | \u001b[0m 1.0     \u001b[0m | \u001b[0m 560.3   \u001b[0m | \u001b[0m 16.0    \u001b[0m | \u001b[0m 0.5     \u001b[0m |\n",
            "| \u001b[0m 46      \u001b[0m | \u001b[0m-1.309   \u001b[0m | \u001b[0m 0.5     \u001b[0m | \u001b[0m 0.0005  \u001b[0m | \u001b[0m 10.0    \u001b[0m | \u001b[0m 10.0    \u001b[0m | \u001b[0m 1.002e+0\u001b[0m | \u001b[0m 2.0     \u001b[0m | \u001b[0m 0.5     \u001b[0m |\n",
            "| \u001b[0m 47      \u001b[0m | \u001b[0m-0.006356\u001b[0m | \u001b[0m 0.5     \u001b[0m | \u001b[0m 0.2     \u001b[0m | \u001b[0m 10.0    \u001b[0m | \u001b[0m 1.0     \u001b[0m | \u001b[0m 900.9   \u001b[0m | \u001b[0m 16.0    \u001b[0m | \u001b[0m 1.0     \u001b[0m |\n",
            "| \u001b[0m 48      \u001b[0m | \u001b[0m-0.006521\u001b[0m | \u001b[0m 0.7072  \u001b[0m | \u001b[0m 0.1439  \u001b[0m | \u001b[0m 5.267   \u001b[0m | \u001b[0m 9.38    \u001b[0m | \u001b[0m 358.7   \u001b[0m | \u001b[0m 15.72   \u001b[0m | \u001b[0m 0.7969  \u001b[0m |\n",
            "| \u001b[0m 49      \u001b[0m | \u001b[0m-0.1591  \u001b[0m | \u001b[0m 0.9698  \u001b[0m | \u001b[0m 0.04385 \u001b[0m | \u001b[0m 3.925   \u001b[0m | \u001b[0m 3.549   \u001b[0m | \u001b[0m 33.13   \u001b[0m | \u001b[0m 15.91   \u001b[0m | \u001b[0m 0.6222  \u001b[0m |\n",
            "| \u001b[0m 50      \u001b[0m | \u001b[0m-0.01076 \u001b[0m | \u001b[0m 0.9832  \u001b[0m | \u001b[0m 0.0481  \u001b[0m | \u001b[0m 3.071   \u001b[0m | \u001b[0m 9.973   \u001b[0m | \u001b[0m 772.3   \u001b[0m | \u001b[0m 2.263   \u001b[0m | \u001b[0m 0.6571  \u001b[0m |\n",
            "| \u001b[0m 51      \u001b[0m | \u001b[0m-0.007011\u001b[0m | \u001b[0m 0.6044  \u001b[0m | \u001b[0m 0.1546  \u001b[0m | \u001b[0m 8.13    \u001b[0m | \u001b[0m 9.618   \u001b[0m | \u001b[0m 178.9   \u001b[0m | \u001b[0m 14.69   \u001b[0m | \u001b[0m 0.9291  \u001b[0m |\n",
            "| \u001b[0m 52      \u001b[0m | \u001b[0m-0.01193 \u001b[0m | \u001b[0m 0.5     \u001b[0m | \u001b[0m 0.2     \u001b[0m | \u001b[0m 10.0    \u001b[0m | \u001b[0m 1.0     \u001b[0m | \u001b[0m 961.6   \u001b[0m | \u001b[0m 2.0     \u001b[0m | \u001b[0m 0.5     \u001b[0m |\n",
            "| \u001b[0m 53      \u001b[0m | \u001b[0m-0.02637 \u001b[0m | \u001b[0m 1.0     \u001b[0m | \u001b[0m 0.2     \u001b[0m | \u001b[0m 10.0    \u001b[0m | \u001b[0m 1.0     \u001b[0m | \u001b[0m 68.32   \u001b[0m | \u001b[0m 2.0     \u001b[0m | \u001b[0m 1.0     \u001b[0m |\n",
            "| \u001b[0m 54      \u001b[0m | \u001b[0m-0.00759 \u001b[0m | \u001b[0m 1.0     \u001b[0m | \u001b[0m 0.2     \u001b[0m | \u001b[0m 3.0     \u001b[0m | \u001b[0m 1.0     \u001b[0m | \u001b[0m 144.0   \u001b[0m | \u001b[0m 16.0    \u001b[0m | \u001b[0m 1.0     \u001b[0m |\n",
            "| \u001b[0m 55      \u001b[0m | \u001b[0m-1.635   \u001b[0m | \u001b[0m 0.5     \u001b[0m | \u001b[0m 0.0005  \u001b[0m | \u001b[0m 10.0    \u001b[0m | \u001b[0m 1.0     \u001b[0m | \u001b[0m 434.6   \u001b[0m | \u001b[0m 2.0     \u001b[0m | \u001b[0m 0.5     \u001b[0m |\n",
            "| \u001b[0m 56      \u001b[0m | \u001b[0m-0.193   \u001b[0m | \u001b[0m 0.7083  \u001b[0m | \u001b[0m 0.01539 \u001b[0m | \u001b[0m 3.47    \u001b[0m | \u001b[0m 4.826   \u001b[0m | \u001b[0m 258.9   \u001b[0m | \u001b[0m 2.366   \u001b[0m | \u001b[0m 0.8243  \u001b[0m |\n",
            "| \u001b[0m 57      \u001b[0m | \u001b[0m-0.006607\u001b[0m | \u001b[0m 0.5767  \u001b[0m | \u001b[0m 0.07748 \u001b[0m | \u001b[0m 3.978   \u001b[0m | \u001b[0m 1.229   \u001b[0m | \u001b[0m 472.6   \u001b[0m | \u001b[0m 15.47   \u001b[0m | \u001b[0m 0.7918  \u001b[0m |\n",
            "| \u001b[0m 58      \u001b[0m | \u001b[0m-0.006253\u001b[0m | \u001b[0m 0.9471  \u001b[0m | \u001b[0m 0.09227 \u001b[0m | \u001b[0m 3.016   \u001b[0m | \u001b[0m 8.953   \u001b[0m | \u001b[0m 754.0   \u001b[0m | \u001b[0m 15.42   \u001b[0m | \u001b[0m 0.6723  \u001b[0m |\n",
            "| \u001b[0m 59      \u001b[0m | \u001b[0m-0.01176 \u001b[0m | \u001b[0m 1.0     \u001b[0m | \u001b[0m 0.2     \u001b[0m | \u001b[0m 3.0     \u001b[0m | \u001b[0m 1.0     \u001b[0m | \u001b[0m 757.5   \u001b[0m | \u001b[0m 2.0     \u001b[0m | \u001b[0m 1.0     \u001b[0m |\n",
            "| \u001b[0m 60      \u001b[0m | \u001b[0m-0.01192 \u001b[0m | \u001b[0m 1.0     \u001b[0m | \u001b[0m 0.2     \u001b[0m | \u001b[0m 3.0     \u001b[0m | \u001b[0m 1.0     \u001b[0m | \u001b[0m 684.7   \u001b[0m | \u001b[0m 2.0     \u001b[0m | \u001b[0m 1.0     \u001b[0m |\n",
            "| \u001b[0m 61      \u001b[0m | \u001b[0m-1.44    \u001b[0m | \u001b[0m 1.0     \u001b[0m | \u001b[0m 0.0005  \u001b[0m | \u001b[0m 3.0     \u001b[0m | \u001b[0m 1.0     \u001b[0m | \u001b[0m 551.0   \u001b[0m | \u001b[0m 2.0     \u001b[0m | \u001b[0m 0.5     \u001b[0m |\n",
            "| \u001b[0m 62      \u001b[0m | \u001b[0m-0.01086 \u001b[0m | \u001b[0m 0.635   \u001b[0m | \u001b[0m 0.08699 \u001b[0m | \u001b[0m 9.128   \u001b[0m | \u001b[0m 1.646   \u001b[0m | \u001b[0m 789.1   \u001b[0m | \u001b[0m 2.058   \u001b[0m | \u001b[0m 0.7372  \u001b[0m |\n",
            "| \u001b[0m 63      \u001b[0m | \u001b[0m-0.01194 \u001b[0m | \u001b[0m 0.636   \u001b[0m | \u001b[0m 0.09072 \u001b[0m | \u001b[0m 9.33    \u001b[0m | \u001b[0m 9.475   \u001b[0m | \u001b[0m 469.0   \u001b[0m | \u001b[0m 2.101   \u001b[0m | \u001b[0m 0.5691  \u001b[0m |\n",
            "| \u001b[0m 64      \u001b[0m | \u001b[0m-0.00584 \u001b[0m | \u001b[0m 1.0     \u001b[0m | \u001b[0m 0.2     \u001b[0m | \u001b[0m 3.0     \u001b[0m | \u001b[0m 1.0     \u001b[0m | \u001b[0m 969.4   \u001b[0m | \u001b[0m 16.0    \u001b[0m | \u001b[0m 1.0     \u001b[0m |\n",
            "| \u001b[0m 65      \u001b[0m | \u001b[0m-0.006404\u001b[0m | \u001b[0m 0.5     \u001b[0m | \u001b[0m 0.2     \u001b[0m | \u001b[0m 10.0    \u001b[0m | \u001b[0m 10.0    \u001b[0m | \u001b[0m 578.2   \u001b[0m | \u001b[0m 16.0    \u001b[0m | \u001b[0m 0.5     \u001b[0m |\n",
            "| \u001b[0m 66      \u001b[0m | \u001b[0m-1.227   \u001b[0m | \u001b[0m 0.5     \u001b[0m | \u001b[0m 0.0005  \u001b[0m | \u001b[0m 10.0    \u001b[0m | \u001b[0m 1.0     \u001b[0m | \u001b[0m 685.9   \u001b[0m | \u001b[0m 16.0    \u001b[0m | \u001b[0m 1.0     \u001b[0m |\n",
            "| \u001b[0m 67      \u001b[0m | \u001b[0m-0.006248\u001b[0m | \u001b[0m 0.5     \u001b[0m | \u001b[0m 0.2     \u001b[0m | \u001b[0m 3.0     \u001b[0m | \u001b[0m 1.0     \u001b[0m | \u001b[0m 638.6   \u001b[0m | \u001b[0m 16.0    \u001b[0m | \u001b[0m 0.5     \u001b[0m |\n",
            "| \u001b[0m 68      \u001b[0m | \u001b[0m-0.00634 \u001b[0m | \u001b[0m 1.0     \u001b[0m | \u001b[0m 0.2     \u001b[0m | \u001b[0m 10.0    \u001b[0m | \u001b[0m 1.0     \u001b[0m | \u001b[0m 307.3   \u001b[0m | \u001b[0m 16.0    \u001b[0m | \u001b[0m 1.0     \u001b[0m |\n",
            "| \u001b[0m 69      \u001b[0m | \u001b[0m-0.01183 \u001b[0m | \u001b[0m 1.0     \u001b[0m | \u001b[0m 0.2     \u001b[0m | \u001b[0m 3.0     \u001b[0m | \u001b[0m 10.0    \u001b[0m | \u001b[0m 720.7   \u001b[0m | \u001b[0m 2.0     \u001b[0m | \u001b[0m 1.0     \u001b[0m |\n",
            "| \u001b[0m 70      \u001b[0m | \u001b[0m-0.01588 \u001b[0m | \u001b[0m 0.9457  \u001b[0m | \u001b[0m 0.09683 \u001b[0m | \u001b[0m 7.995   \u001b[0m | \u001b[0m 1.832   \u001b[0m | \u001b[0m 190.6   \u001b[0m | \u001b[0m 2.293   \u001b[0m | \u001b[0m 0.86    \u001b[0m |\n",
            "| \u001b[0m 71      \u001b[0m | \u001b[0m-0.01225 \u001b[0m | \u001b[0m 0.5     \u001b[0m | \u001b[0m 0.2     \u001b[0m | \u001b[0m 10.0    \u001b[0m | \u001b[0m 1.0     \u001b[0m | \u001b[0m 823.1   \u001b[0m | \u001b[0m 2.0     \u001b[0m | \u001b[0m 0.5     \u001b[0m |\n",
            "| \u001b[0m 72      \u001b[0m | \u001b[0m-1.945   \u001b[0m | \u001b[0m 0.5     \u001b[0m | \u001b[0m 0.0005  \u001b[0m | \u001b[0m 3.0     \u001b[0m | \u001b[0m 10.0    \u001b[0m | \u001b[0m 16.0    \u001b[0m | \u001b[0m 16.0    \u001b[0m | \u001b[0m 1.0     \u001b[0m |\n",
            "| \u001b[0m 73      \u001b[0m | \u001b[0m-0.3587  \u001b[0m | \u001b[0m 0.7263  \u001b[0m | \u001b[0m 0.05993 \u001b[0m | \u001b[0m 4.473   \u001b[0m | \u001b[0m 1.964   \u001b[0m | \u001b[0m 39.17   \u001b[0m | \u001b[0m 2.068   \u001b[0m | \u001b[0m 0.9423  \u001b[0m |\n",
            "| \u001b[0m 74      \u001b[0m | \u001b[0m-0.005919\u001b[0m | \u001b[0m 1.0     \u001b[0m | \u001b[0m 0.2     \u001b[0m | \u001b[0m 3.0     \u001b[0m | \u001b[0m 10.0    \u001b[0m | \u001b[0m 711.1   \u001b[0m | \u001b[0m 16.0    \u001b[0m | \u001b[0m 0.5     \u001b[0m |\n",
            "| \u001b[0m 75      \u001b[0m | \u001b[0m-0.008494\u001b[0m | \u001b[0m 0.6925  \u001b[0m | \u001b[0m 0.1665  \u001b[0m | \u001b[0m 9.232   \u001b[0m | \u001b[0m 1.741   \u001b[0m | \u001b[0m 53.97   \u001b[0m | \u001b[0m 15.81   \u001b[0m | \u001b[0m 0.5496  \u001b[0m |\n",
            "| \u001b[0m 76      \u001b[0m | \u001b[0m-1.457   \u001b[0m | \u001b[0m 1.0     \u001b[0m | \u001b[0m 0.0005  \u001b[0m | \u001b[0m 3.0     \u001b[0m | \u001b[0m 1.0     \u001b[0m | \u001b[0m 341.2   \u001b[0m | \u001b[0m 16.0    \u001b[0m | \u001b[0m 0.5     \u001b[0m |\n",
            "| \u001b[0m 77      \u001b[0m | \u001b[0m-0.01182 \u001b[0m | \u001b[0m 0.9763  \u001b[0m | \u001b[0m 0.09257 \u001b[0m | \u001b[0m 9.094   \u001b[0m | \u001b[0m 9.417   \u001b[0m | \u001b[0m 324.5   \u001b[0m | \u001b[0m 2.03    \u001b[0m | \u001b[0m 0.7483  \u001b[0m |\n",
            "| \u001b[0m 78      \u001b[0m | \u001b[0m-1.684   \u001b[0m | \u001b[0m 0.5     \u001b[0m | \u001b[0m 0.0005  \u001b[0m | \u001b[0m 10.0    \u001b[0m | \u001b[0m 10.0    \u001b[0m | \u001b[0m 360.8   \u001b[0m | \u001b[0m 2.0     \u001b[0m | \u001b[0m 1.0     \u001b[0m |\n",
            "| \u001b[0m 79      \u001b[0m | \u001b[0m-0.006456\u001b[0m | \u001b[0m 0.7889  \u001b[0m | \u001b[0m 0.1438  \u001b[0m | \u001b[0m 6.829   \u001b[0m | \u001b[0m 1.057   \u001b[0m | \u001b[0m 377.1   \u001b[0m | \u001b[0m 15.7    \u001b[0m | \u001b[0m 0.9397  \u001b[0m |\n",
            "| \u001b[0m 80      \u001b[0m | \u001b[0m-1.219   \u001b[0m | \u001b[0m 1.0     \u001b[0m | \u001b[0m 0.0005  \u001b[0m | \u001b[0m 3.0     \u001b[0m | \u001b[0m 1.0     \u001b[0m | \u001b[0m 898.1   \u001b[0m | \u001b[0m 2.0     \u001b[0m | \u001b[0m 0.5     \u001b[0m |\n",
            "| \u001b[0m 81      \u001b[0m | \u001b[0m-1.727   \u001b[0m | \u001b[0m 0.5     \u001b[0m | \u001b[0m 0.0005  \u001b[0m | \u001b[0m 10.0    \u001b[0m | \u001b[0m 10.0    \u001b[0m | \u001b[0m 300.6   \u001b[0m | \u001b[0m 2.0     \u001b[0m | \u001b[0m 1.0     \u001b[0m |\n",
            "| \u001b[0m 82      \u001b[0m | \u001b[0m-0.006696\u001b[0m | \u001b[0m 0.8449  \u001b[0m | \u001b[0m 0.0921  \u001b[0m | \u001b[0m 5.216   \u001b[0m | \u001b[0m 9.31    \u001b[0m | \u001b[0m 265.8   \u001b[0m | \u001b[0m 15.9    \u001b[0m | \u001b[0m 0.5698  \u001b[0m |\n",
            "| \u001b[0m 83      \u001b[0m | \u001b[0m-0.01444 \u001b[0m | \u001b[0m 0.5     \u001b[0m | \u001b[0m 0.2     \u001b[0m | \u001b[0m 3.0     \u001b[0m | \u001b[0m 1.0     \u001b[0m | \u001b[0m 389.4   \u001b[0m | \u001b[0m 2.0     \u001b[0m | \u001b[0m 1.0     \u001b[0m |\n",
            "| \u001b[0m 84      \u001b[0m | \u001b[0m-0.009409\u001b[0m | \u001b[0m 0.5132  \u001b[0m | \u001b[0m 0.04158 \u001b[0m | \u001b[0m 3.022   \u001b[0m | \u001b[0m 8.697   \u001b[0m | \u001b[0m 493.6   \u001b[0m | \u001b[0m 15.92   \u001b[0m | \u001b[0m 0.7942  \u001b[0m |\n",
            "| \u001b[0m 85      \u001b[0m | \u001b[0m-0.5698  \u001b[0m | \u001b[0m 0.7759  \u001b[0m | \u001b[0m 0.002948\u001b[0m | \u001b[0m 3.856   \u001b[0m | \u001b[0m 1.493   \u001b[0m | \u001b[0m 246.2   \u001b[0m | \u001b[0m 15.45   \u001b[0m | \u001b[0m 0.8051  \u001b[0m |\n",
            "| \u001b[0m 86      \u001b[0m | \u001b[0m-1.786   \u001b[0m | \u001b[0m 0.5     \u001b[0m | \u001b[0m 0.0005  \u001b[0m | \u001b[0m 10.0    \u001b[0m | \u001b[0m 10.0    \u001b[0m | \u001b[0m 133.4   \u001b[0m | \u001b[0m 16.0    \u001b[0m | \u001b[0m 1.0     \u001b[0m |\n",
            "| \u001b[0m 87      \u001b[0m | \u001b[0m-0.01734 \u001b[0m | \u001b[0m 1.0     \u001b[0m | \u001b[0m 0.2     \u001b[0m | \u001b[0m 3.0     \u001b[0m | \u001b[0m 1.0     \u001b[0m | \u001b[0m 110.6   \u001b[0m | \u001b[0m 2.0     \u001b[0m | \u001b[0m 0.5     \u001b[0m |\n",
            "| \u001b[0m 88      \u001b[0m | \u001b[0m-0.00596 \u001b[0m | \u001b[0m 0.5523  \u001b[0m | \u001b[0m 0.112   \u001b[0m | \u001b[0m 9.748   \u001b[0m | \u001b[0m 9.809   \u001b[0m | \u001b[0m 920.8   \u001b[0m | \u001b[0m 15.7    \u001b[0m | \u001b[0m 0.8594  \u001b[0m |\n",
            "| \u001b[0m 89      \u001b[0m | \u001b[0m-0.008209\u001b[0m | \u001b[0m 0.5     \u001b[0m | \u001b[0m 0.2     \u001b[0m | \u001b[0m 3.0     \u001b[0m | \u001b[0m 1.0     \u001b[0m | \u001b[0m 162.8   \u001b[0m | \u001b[0m 16.0    \u001b[0m | \u001b[0m 0.5     \u001b[0m |\n",
            "| \u001b[0m 90      \u001b[0m | \u001b[0m-0.006197\u001b[0m | \u001b[0m 0.6616  \u001b[0m | \u001b[0m 0.1641  \u001b[0m | \u001b[0m 9.805   \u001b[0m | \u001b[0m 9.736   \u001b[0m | \u001b[0m 833.6   \u001b[0m | \u001b[0m 15.86   \u001b[0m | \u001b[0m 0.9018  \u001b[0m |\n",
            "| \u001b[0m 91      \u001b[0m | \u001b[0m-0.00627 \u001b[0m | \u001b[0m 0.6463  \u001b[0m | \u001b[0m 0.04216 \u001b[0m | \u001b[0m 4.662   \u001b[0m | \u001b[0m 1.147   \u001b[0m | \u001b[0m 947.8   \u001b[0m | \u001b[0m 13.56   \u001b[0m | \u001b[0m 0.7372  \u001b[0m |\n",
            "| \u001b[0m 92      \u001b[0m | \u001b[0m-1.134   \u001b[0m | \u001b[0m 0.5     \u001b[0m | \u001b[0m 0.0005  \u001b[0m | \u001b[0m 3.0     \u001b[0m | \u001b[0m 10.0    \u001b[0m | \u001b[0m 857.4   \u001b[0m | \u001b[0m 16.0    \u001b[0m | \u001b[0m 1.0     \u001b[0m |\n",
            "| \u001b[0m 93      \u001b[0m | \u001b[0m-0.01268 \u001b[0m | \u001b[0m 0.5099  \u001b[0m | \u001b[0m 0.1069  \u001b[0m | \u001b[0m 3.289   \u001b[0m | \u001b[0m 1.643   \u001b[0m | \u001b[0m 626.3   \u001b[0m | \u001b[0m 2.197   \u001b[0m | \u001b[0m 0.6268  \u001b[0m |\n",
            "| \u001b[0m 94      \u001b[0m | \u001b[0m-0.006357\u001b[0m | \u001b[0m 0.5     \u001b[0m | \u001b[0m 0.2     \u001b[0m | \u001b[0m 10.0    \u001b[0m | \u001b[0m 1.0     \u001b[0m | \u001b[0m 743.7   \u001b[0m | \u001b[0m 16.0    \u001b[0m | \u001b[0m 0.5     \u001b[0m |\n",
            "| \u001b[0m 95      \u001b[0m | \u001b[0m-1.659   \u001b[0m | \u001b[0m 1.0     \u001b[0m | \u001b[0m 0.0005  \u001b[0m | \u001b[0m 3.0     \u001b[0m | \u001b[0m 1.0     \u001b[0m | \u001b[0m 192.5   \u001b[0m | \u001b[0m 16.0    \u001b[0m | \u001b[0m 0.5     \u001b[0m |\n",
            "| \u001b[0m 96      \u001b[0m | \u001b[0m-0.01842 \u001b[0m | \u001b[0m 0.5381  \u001b[0m | \u001b[0m 0.118   \u001b[0m | \u001b[0m 5.844   \u001b[0m | \u001b[0m 9.987   \u001b[0m | \u001b[0m 179.6   \u001b[0m | \u001b[0m 2.057   \u001b[0m | \u001b[0m 0.5774  \u001b[0m |\n",
            "| \u001b[0m 97      \u001b[0m | \u001b[0m-0.008732\u001b[0m | \u001b[0m 0.6911  \u001b[0m | \u001b[0m 0.01127 \u001b[0m | \u001b[0m 4.363   \u001b[0m | \u001b[0m 9.638   \u001b[0m | \u001b[0m 783.5   \u001b[0m | \u001b[0m 15.88   \u001b[0m | \u001b[0m 0.8569  \u001b[0m |\n",
            "| \u001b[0m 98      \u001b[0m | \u001b[0m-1.181   \u001b[0m | \u001b[0m 1.0     \u001b[0m | \u001b[0m 0.0005  \u001b[0m | \u001b[0m 3.0     \u001b[0m | \u001b[0m 10.0    \u001b[0m | \u001b[0m 969.5   \u001b[0m | \u001b[0m 2.0     \u001b[0m | \u001b[0m 0.5     \u001b[0m |\n",
            "| \u001b[0m 99      \u001b[0m | \u001b[0m-0.006001\u001b[0m | \u001b[0m 0.6998  \u001b[0m | \u001b[0m 0.0515  \u001b[0m | \u001b[0m 8.684   \u001b[0m | \u001b[0m 2.038   \u001b[0m | \u001b[0m 993.1   \u001b[0m | \u001b[0m 15.29   \u001b[0m | \u001b[0m 0.7385  \u001b[0m |\n",
            "| \u001b[0m 100     \u001b[0m | \u001b[0m-0.005944\u001b[0m | \u001b[0m 0.5     \u001b[0m | \u001b[0m 0.2     \u001b[0m | \u001b[0m 3.0     \u001b[0m | \u001b[0m 1.0     \u001b[0m | \u001b[0m 1.013e+0\u001b[0m | \u001b[0m 16.0    \u001b[0m | \u001b[0m 1.0     \u001b[0m |\n",
            "| \u001b[0m 101     \u001b[0m | \u001b[0m-0.006319\u001b[0m | \u001b[0m 0.5991  \u001b[0m | \u001b[0m 0.1184  \u001b[0m | \u001b[0m 9.934   \u001b[0m | \u001b[0m 8.169   \u001b[0m | \u001b[0m 944.1   \u001b[0m | \u001b[0m 4.177   \u001b[0m | \u001b[0m 0.5954  \u001b[0m |\n",
            "| \u001b[0m 102     \u001b[0m | \u001b[0m-0.00662 \u001b[0m | \u001b[0m 0.5     \u001b[0m | \u001b[0m 0.2     \u001b[0m | \u001b[0m 3.0     \u001b[0m | \u001b[0m 10.0    \u001b[0m | \u001b[0m 461.9   \u001b[0m | \u001b[0m 16.0    \u001b[0m | \u001b[0m 0.5     \u001b[0m |\n",
            "| \u001b[0m 103     \u001b[0m | \u001b[0m-0.006358\u001b[0m | \u001b[0m 1.0     \u001b[0m | \u001b[0m 0.2     \u001b[0m | \u001b[0m 10.0    \u001b[0m | \u001b[0m 1.0     \u001b[0m | \u001b[0m 614.4   \u001b[0m | \u001b[0m 16.0    \u001b[0m | \u001b[0m 1.0     \u001b[0m |\n",
            "| \u001b[0m 104     \u001b[0m | \u001b[0m-1.902   \u001b[0m | \u001b[0m 0.5     \u001b[0m | \u001b[0m 0.0005  \u001b[0m | \u001b[0m 3.0     \u001b[0m | \u001b[0m 10.0    \u001b[0m | \u001b[0m 48.49   \u001b[0m | \u001b[0m 16.0    \u001b[0m | \u001b[0m 0.5     \u001b[0m |\n",
            "| \u001b[0m 105     \u001b[0m | \u001b[0m-0.01322 \u001b[0m | \u001b[0m 0.5     \u001b[0m | \u001b[0m 0.2     \u001b[0m | \u001b[0m 10.0    \u001b[0m | \u001b[0m 10.0    \u001b[0m | \u001b[0m 571.5   \u001b[0m | \u001b[0m 2.0     \u001b[0m | \u001b[0m 1.0     \u001b[0m |\n",
            "| \u001b[0m 106     \u001b[0m | \u001b[0m-0.006195\u001b[0m | \u001b[0m 0.5718  \u001b[0m | \u001b[0m 0.1968  \u001b[0m | \u001b[0m 9.471   \u001b[0m | \u001b[0m 9.608   \u001b[0m | \u001b[0m 887.0   \u001b[0m | \u001b[0m 15.42   \u001b[0m | \u001b[0m 0.743   \u001b[0m |\n",
            "| \u001b[0m 107     \u001b[0m | \u001b[0m-0.006396\u001b[0m | \u001b[0m 0.5     \u001b[0m | \u001b[0m 0.2     \u001b[0m | \u001b[0m 10.0    \u001b[0m | \u001b[0m 10.0    \u001b[0m | \u001b[0m 550.4   \u001b[0m | \u001b[0m 16.0    \u001b[0m | \u001b[0m 1.0     \u001b[0m |\n",
            "| \u001b[0m 108     \u001b[0m | \u001b[0m-0.01274 \u001b[0m | \u001b[0m 0.5     \u001b[0m | \u001b[0m 0.2     \u001b[0m | \u001b[0m 3.0     \u001b[0m | \u001b[0m 10.0    \u001b[0m | \u001b[0m 675.4   \u001b[0m | \u001b[0m 2.0     \u001b[0m | \u001b[0m 0.5     \u001b[0m |\n",
            "| \u001b[0m 109     \u001b[0m | \u001b[0m-0.8007  \u001b[0m | \u001b[0m 1.0     \u001b[0m | \u001b[0m 0.0005  \u001b[0m | \u001b[0m 10.0    \u001b[0m | \u001b[0m 10.0    \u001b[0m | \u001b[0m 979.4   \u001b[0m | \u001b[0m 16.0    \u001b[0m | \u001b[0m 1.0     \u001b[0m |\n",
            "| \u001b[0m 110     \u001b[0m | \u001b[0m-1.238   \u001b[0m | \u001b[0m 1.0     \u001b[0m | \u001b[0m 0.0005  \u001b[0m | \u001b[0m 10.0    \u001b[0m | \u001b[0m 1.0     \u001b[0m | \u001b[0m 497.8   \u001b[0m | \u001b[0m 16.0    \u001b[0m | \u001b[0m 1.0     \u001b[0m |\n",
            "| \u001b[0m 111     \u001b[0m | \u001b[0m-0.005884\u001b[0m | \u001b[0m 1.0     \u001b[0m | \u001b[0m 0.2     \u001b[0m | \u001b[0m 3.0     \u001b[0m | \u001b[0m 1.0     \u001b[0m | \u001b[0m 831.0   \u001b[0m | \u001b[0m 16.0    \u001b[0m | \u001b[0m 0.5     \u001b[0m |\n",
            "| \u001b[0m 112     \u001b[0m | \u001b[0m-1.202   \u001b[0m | \u001b[0m 1.0     \u001b[0m | \u001b[0m 0.0005  \u001b[0m | \u001b[0m 3.0     \u001b[0m | \u001b[0m 10.0    \u001b[0m | \u001b[0m 566.1   \u001b[0m | \u001b[0m 16.0    \u001b[0m | \u001b[0m 1.0     \u001b[0m |\n",
            "| \u001b[0m 113     \u001b[0m | \u001b[0m-0.00653 \u001b[0m | \u001b[0m 0.6319  \u001b[0m | \u001b[0m 0.1402  \u001b[0m | \u001b[0m 3.401   \u001b[0m | \u001b[0m 8.674   \u001b[0m | \u001b[0m 480.6   \u001b[0m | \u001b[0m 4.801   \u001b[0m | \u001b[0m 0.9572  \u001b[0m |\n",
            "| \u001b[0m 114     \u001b[0m | \u001b[0m-1.319   \u001b[0m | \u001b[0m 1.0     \u001b[0m | \u001b[0m 0.0005  \u001b[0m | \u001b[0m 10.0    \u001b[0m | \u001b[0m 1.0     \u001b[0m | \u001b[0m 730.1   \u001b[0m | \u001b[0m 2.0     \u001b[0m | \u001b[0m 0.5     \u001b[0m |\n",
            "| \u001b[0m 115     \u001b[0m | \u001b[0m-0.01012 \u001b[0m | \u001b[0m 0.506   \u001b[0m | \u001b[0m 0.05953 \u001b[0m | \u001b[0m 5.561   \u001b[0m | \u001b[0m 9.821   \u001b[0m | \u001b[0m 693.8   \u001b[0m | \u001b[0m 2.641   \u001b[0m | \u001b[0m 0.7968  \u001b[0m |\n",
            "| \u001b[0m 116     \u001b[0m | \u001b[0m-1.258   \u001b[0m | \u001b[0m 1.0     \u001b[0m | \u001b[0m 0.0005  \u001b[0m | \u001b[0m 3.0     \u001b[0m | \u001b[0m 10.0    \u001b[0m | \u001b[0m 829.6   \u001b[0m | \u001b[0m 2.0     \u001b[0m | \u001b[0m 0.5     \u001b[0m |\n",
            "| \u001b[0m 117     \u001b[0m | \u001b[0m-0.01646 \u001b[0m | \u001b[0m 1.0     \u001b[0m | \u001b[0m 0.2     \u001b[0m | \u001b[0m 3.0     \u001b[0m | \u001b[0m 1.0     \u001b[0m | \u001b[0m 124.3   \u001b[0m | \u001b[0m 2.0     \u001b[0m | \u001b[0m 0.5     \u001b[0m |\n",
            "| \u001b[0m 118     \u001b[0m | \u001b[0m-0.006395\u001b[0m | \u001b[0m 0.5     \u001b[0m | \u001b[0m 0.2     \u001b[0m | \u001b[0m 10.0    \u001b[0m | \u001b[0m 10.0    \u001b[0m | \u001b[0m 596.4   \u001b[0m | \u001b[0m 16.0    \u001b[0m | \u001b[0m 0.5     \u001b[0m |\n",
            "| \u001b[0m 119     \u001b[0m | \u001b[0m-0.006008\u001b[0m | \u001b[0m 0.5     \u001b[0m | \u001b[0m 0.2     \u001b[0m | \u001b[0m 3.0     \u001b[0m | \u001b[0m 10.0    \u001b[0m | \u001b[0m 907.6   \u001b[0m | \u001b[0m 16.0    \u001b[0m | \u001b[0m 1.0     \u001b[0m |\n",
            "| \u001b[0m 120     \u001b[0m | \u001b[0m-0.006175\u001b[0m | \u001b[0m 0.7754  \u001b[0m | \u001b[0m 0.1085  \u001b[0m | \u001b[0m 3.454   \u001b[0m | \u001b[0m 9.976   \u001b[0m | \u001b[0m 736.7   \u001b[0m | \u001b[0m 15.69   \u001b[0m | \u001b[0m 0.5089  \u001b[0m |\n",
            "| \u001b[0m 121     \u001b[0m | \u001b[0m-0.01519 \u001b[0m | \u001b[0m 0.5     \u001b[0m | \u001b[0m 0.2     \u001b[0m | \u001b[0m 3.0     \u001b[0m | \u001b[0m 1.0     \u001b[0m | \u001b[0m 328.1   \u001b[0m | \u001b[0m 2.0     \u001b[0m | \u001b[0m 0.5     \u001b[0m |\n",
            "| \u001b[0m 122     \u001b[0m | \u001b[0m-0.83    \u001b[0m | \u001b[0m 1.0     \u001b[0m | \u001b[0m 0.0005  \u001b[0m | \u001b[0m 10.0    \u001b[0m | \u001b[0m 10.0    \u001b[0m | \u001b[0m 939.0   \u001b[0m | \u001b[0m 16.0    \u001b[0m | \u001b[0m 1.0     \u001b[0m |\n",
            "| \u001b[0m 123     \u001b[0m | \u001b[0m-0.9457  \u001b[0m | \u001b[0m 1.0     \u001b[0m | \u001b[0m 0.0005  \u001b[0m | \u001b[0m 10.0    \u001b[0m | \u001b[0m 1.0     \u001b[0m | \u001b[0m 794.1   \u001b[0m | \u001b[0m 16.0    \u001b[0m | \u001b[0m 1.0     \u001b[0m |\n",
            "| \u001b[0m 124     \u001b[0m | \u001b[0m-0.01245 \u001b[0m | \u001b[0m 0.5     \u001b[0m | \u001b[0m 0.2     \u001b[0m | \u001b[0m 10.0    \u001b[0m | \u001b[0m 10.0    \u001b[0m | \u001b[0m 758.1   \u001b[0m | \u001b[0m 2.0     \u001b[0m | \u001b[0m 0.5     \u001b[0m |\n",
            "| \u001b[0m 125     \u001b[0m | \u001b[0m-0.006302\u001b[0m | \u001b[0m 0.5     \u001b[0m | \u001b[0m 0.2     \u001b[0m | \u001b[0m 3.0     \u001b[0m | \u001b[0m 10.0    \u001b[0m | \u001b[0m 613.5   \u001b[0m | \u001b[0m 16.0    \u001b[0m | \u001b[0m 0.5     \u001b[0m |\n",
            "| \u001b[0m 126     \u001b[0m | \u001b[0m-0.007005\u001b[0m | \u001b[0m 0.5     \u001b[0m | \u001b[0m 0.2     \u001b[0m | \u001b[0m 3.0     \u001b[0m | \u001b[0m 10.0    \u001b[0m | \u001b[0m 313.6   \u001b[0m | \u001b[0m 16.0    \u001b[0m | \u001b[0m 1.0     \u001b[0m |\n",
            "| \u001b[0m 127     \u001b[0m | \u001b[0m-1.335   \u001b[0m | \u001b[0m 0.5     \u001b[0m | \u001b[0m 0.0005  \u001b[0m | \u001b[0m 3.0     \u001b[0m | \u001b[0m 1.0     \u001b[0m | \u001b[0m 949.7   \u001b[0m | \u001b[0m 2.0     \u001b[0m | \u001b[0m 0.5     \u001b[0m |\n",
            "| \u001b[0m 128     \u001b[0m | \u001b[0m-0.006482\u001b[0m | \u001b[0m 1.0     \u001b[0m | \u001b[0m 0.2     \u001b[0m | \u001b[0m 10.0    \u001b[0m | \u001b[0m 1.0     \u001b[0m | \u001b[0m 958.0   \u001b[0m | \u001b[0m 16.0    \u001b[0m | \u001b[0m 1.0     \u001b[0m |\n",
            "| \u001b[0m 129     \u001b[0m | \u001b[0m-0.01369 \u001b[0m | \u001b[0m 1.0     \u001b[0m | \u001b[0m 0.2     \u001b[0m | \u001b[0m 10.0    \u001b[0m | \u001b[0m 10.0    \u001b[0m | \u001b[0m 242.7   \u001b[0m | \u001b[0m 2.0     \u001b[0m | \u001b[0m 0.5     \u001b[0m |\n",
            "| \u001b[0m 130     \u001b[0m | \u001b[0m-1.244   \u001b[0m | \u001b[0m 1.0     \u001b[0m | \u001b[0m 0.0005  \u001b[0m | \u001b[0m 10.0    \u001b[0m | \u001b[0m 1.0     \u001b[0m | \u001b[0m 854.2   \u001b[0m | \u001b[0m 2.0     \u001b[0m | \u001b[0m 0.5     \u001b[0m |\n",
            "| \u001b[0m 131     \u001b[0m | \u001b[0m-1.458   \u001b[0m | \u001b[0m 1.0     \u001b[0m | \u001b[0m 0.0005  \u001b[0m | \u001b[0m 10.0    \u001b[0m | \u001b[0m 1.0     \u001b[0m | \u001b[0m 319.9   \u001b[0m | \u001b[0m 16.0    \u001b[0m | \u001b[0m 0.5     \u001b[0m |\n",
            "| \u001b[0m 132     \u001b[0m | \u001b[0m-0.005863\u001b[0m | \u001b[0m 1.0     \u001b[0m | \u001b[0m 0.2     \u001b[0m | \u001b[0m 3.0     \u001b[0m | \u001b[0m 1.0     \u001b[0m | \u001b[0m 917.7   \u001b[0m | \u001b[0m 16.0    \u001b[0m | \u001b[0m 1.0     \u001b[0m |\n",
            "| \u001b[0m 133     \u001b[0m | \u001b[0m-0.006606\u001b[0m | \u001b[0m 1.0     \u001b[0m | \u001b[0m 0.2     \u001b[0m | \u001b[0m 3.0     \u001b[0m | \u001b[0m 1.0     \u001b[0m | \u001b[0m 296.6   \u001b[0m | \u001b[0m 16.0    \u001b[0m | \u001b[0m 0.5     \u001b[0m |\n",
            "| \u001b[0m 134     \u001b[0m | \u001b[0m-1.87    \u001b[0m | \u001b[0m 0.5     \u001b[0m | \u001b[0m 0.0005  \u001b[0m | \u001b[0m 10.0    \u001b[0m | \u001b[0m 10.0    \u001b[0m | \u001b[0m 107.8   \u001b[0m | \u001b[0m 2.0     \u001b[0m | \u001b[0m 1.0     \u001b[0m |\n",
            "| \u001b[0m 135     \u001b[0m | \u001b[0m-1.393   \u001b[0m | \u001b[0m 1.0     \u001b[0m | \u001b[0m 0.0005  \u001b[0m | \u001b[0m 10.0    \u001b[0m | \u001b[0m 10.0    \u001b[0m | \u001b[0m 616.9   \u001b[0m | \u001b[0m 2.0     \u001b[0m | \u001b[0m 0.5     \u001b[0m |\n",
            "| \u001b[0m 136     \u001b[0m | \u001b[0m-1.683   \u001b[0m | \u001b[0m 1.0     \u001b[0m | \u001b[0m 0.0005  \u001b[0m | \u001b[0m 10.0    \u001b[0m | \u001b[0m 10.0    \u001b[0m | \u001b[0m 164.8   \u001b[0m | \u001b[0m 16.0    \u001b[0m | \u001b[0m 1.0     \u001b[0m |\n",
            "| \u001b[0m 137     \u001b[0m | \u001b[0m-0.009468\u001b[0m | \u001b[0m 0.863   \u001b[0m | \u001b[0m 0.1701  \u001b[0m | \u001b[0m 6.795   \u001b[0m | \u001b[0m 1.392   \u001b[0m | \u001b[0m 145.9   \u001b[0m | \u001b[0m 2.986   \u001b[0m | \u001b[0m 0.5336  \u001b[0m |\n",
            "| \u001b[0m 138     \u001b[0m | \u001b[0m-0.00806 \u001b[0m | \u001b[0m 1.0     \u001b[0m | \u001b[0m 0.2     \u001b[0m | \u001b[0m 3.0     \u001b[0m | \u001b[0m 1.0     \u001b[0m | \u001b[0m 116.2   \u001b[0m | \u001b[0m 16.0    \u001b[0m | \u001b[0m 0.5     \u001b[0m |\n",
            "| \u001b[0m 139     \u001b[0m | \u001b[0m-0.02313 \u001b[0m | \u001b[0m 1.0     \u001b[0m | \u001b[0m 0.2     \u001b[0m | \u001b[0m 3.0     \u001b[0m | \u001b[0m 10.0    \u001b[0m | \u001b[0m 76.11   \u001b[0m | \u001b[0m 2.0     \u001b[0m | \u001b[0m 1.0     \u001b[0m |\n",
            "| \u001b[0m 140     \u001b[0m | \u001b[0m-0.01307 \u001b[0m | \u001b[0m 1.0     \u001b[0m | \u001b[0m 0.2     \u001b[0m | \u001b[0m 3.0     \u001b[0m | \u001b[0m 10.0    \u001b[0m | \u001b[0m 336.7   \u001b[0m | \u001b[0m 2.0     \u001b[0m | \u001b[0m 1.0     \u001b[0m |\n",
            "| \u001b[0m 141     \u001b[0m | \u001b[0m-1.361   \u001b[0m | \u001b[0m 0.5     \u001b[0m | \u001b[0m 0.0005  \u001b[0m | \u001b[0m 10.0    \u001b[0m | \u001b[0m 1.0     \u001b[0m | \u001b[0m 579.9   \u001b[0m | \u001b[0m 6.509   \u001b[0m | \u001b[0m 0.5     \u001b[0m |\n",
            "| \u001b[0m 142     \u001b[0m | \u001b[0m-1.572   \u001b[0m | \u001b[0m 1.0     \u001b[0m | \u001b[0m 0.0005  \u001b[0m | \u001b[0m 10.0    \u001b[0m | \u001b[0m 10.0    \u001b[0m | \u001b[0m 383.4   \u001b[0m | \u001b[0m 2.0     \u001b[0m | \u001b[0m 0.5     \u001b[0m |\n",
            "| \u001b[0m 143     \u001b[0m | \u001b[0m-0.01379 \u001b[0m | \u001b[0m 1.0     \u001b[0m | \u001b[0m 0.2     \u001b[0m | \u001b[0m 3.0     \u001b[0m | \u001b[0m 1.0     \u001b[0m | \u001b[0m 232.2   \u001b[0m | \u001b[0m 2.0     \u001b[0m | \u001b[0m 1.0     \u001b[0m |\n",
            "| \u001b[0m 144     \u001b[0m | \u001b[0m-0.006435\u001b[0m | \u001b[0m 0.814   \u001b[0m | \u001b[0m 0.1549  \u001b[0m | \u001b[0m 9.523   \u001b[0m | \u001b[0m 1.659   \u001b[0m | \u001b[0m 775.5   \u001b[0m | \u001b[0m 2.561   \u001b[0m | \u001b[0m 0.8253  \u001b[0m |\n",
            "| \u001b[0m 145     \u001b[0m | \u001b[0m-0.01005 \u001b[0m | \u001b[0m 0.8174  \u001b[0m | \u001b[0m 0.05641 \u001b[0m | \u001b[0m 9.938   \u001b[0m | \u001b[0m 1.057   \u001b[0m | \u001b[0m 270.7   \u001b[0m | \u001b[0m 3.144   \u001b[0m | \u001b[0m 0.8246  \u001b[0m |\n",
            "| \u001b[0m 146     \u001b[0m | \u001b[0m-0.01187 \u001b[0m | \u001b[0m 0.5     \u001b[0m | \u001b[0m 0.2     \u001b[0m | \u001b[0m 10.0    \u001b[0m | \u001b[0m 1.0     \u001b[0m | \u001b[0m 983.6   \u001b[0m | \u001b[0m 2.0     \u001b[0m | \u001b[0m 1.0     \u001b[0m |\n",
            "| \u001b[0m 147     \u001b[0m | \u001b[0m-0.00614 \u001b[0m | \u001b[0m 0.6909  \u001b[0m | \u001b[0m 0.1353  \u001b[0m | \u001b[0m 4.017   \u001b[0m | \u001b[0m 1.498   \u001b[0m | \u001b[0m 626.9   \u001b[0m | \u001b[0m 15.35   \u001b[0m | \u001b[0m 0.9462  \u001b[0m |\n",
            "| \u001b[0m 148     \u001b[0m | \u001b[0m-1.283   \u001b[0m | \u001b[0m 1.0     \u001b[0m | \u001b[0m 0.0005  \u001b[0m | \u001b[0m 10.0    \u001b[0m | \u001b[0m 1.0     \u001b[0m | \u001b[0m 459.4   \u001b[0m | \u001b[0m 16.0    \u001b[0m | \u001b[0m 1.0     \u001b[0m |\n",
            "| \u001b[0m 149     \u001b[0m | \u001b[0m-0.006661\u001b[0m | \u001b[0m 0.5     \u001b[0m | \u001b[0m 0.2     \u001b[0m | \u001b[0m 3.0     \u001b[0m | \u001b[0m 10.0    \u001b[0m | \u001b[0m 438.0   \u001b[0m | \u001b[0m 16.0    \u001b[0m | \u001b[0m 1.0     \u001b[0m |\n",
            "| \u001b[0m 150     \u001b[0m | \u001b[0m-0.007593\u001b[0m | \u001b[0m 0.6194  \u001b[0m | \u001b[0m 0.1346  \u001b[0m | \u001b[0m 4.6     \u001b[0m | \u001b[0m 9.883   \u001b[0m | \u001b[0m 451.8   \u001b[0m | \u001b[0m 3.319   \u001b[0m | \u001b[0m 0.7591  \u001b[0m |\n",
            "| \u001b[0m 151     \u001b[0m | \u001b[0m-0.006387\u001b[0m | \u001b[0m 1.0     \u001b[0m | \u001b[0m 0.2     \u001b[0m | \u001b[0m 3.0     \u001b[0m | \u001b[0m 1.0     \u001b[0m | \u001b[0m 365.5   \u001b[0m | \u001b[0m 16.0    \u001b[0m | \u001b[0m 0.5     \u001b[0m |\n",
            "| \u001b[0m 152     \u001b[0m | \u001b[0m-0.01955 \u001b[0m | \u001b[0m 0.5     \u001b[0m | \u001b[0m 0.2     \u001b[0m | \u001b[0m 10.0    \u001b[0m | \u001b[0m 1.0     \u001b[0m | \u001b[0m 176.8   \u001b[0m | \u001b[0m 2.0     \u001b[0m | \u001b[0m 0.5     \u001b[0m |\n",
            "| \u001b[0m 153     \u001b[0m | \u001b[0m-0.3917  \u001b[0m | \u001b[0m 0.6842  \u001b[0m | \u001b[0m 0.01281 \u001b[0m | \u001b[0m 9.97    \u001b[0m | \u001b[0m 1.251   \u001b[0m | \u001b[0m 76.69   \u001b[0m | \u001b[0m 13.45   \u001b[0m | \u001b[0m 0.739   \u001b[0m |\n",
            "| \u001b[0m 154     \u001b[0m | \u001b[0m-0.01428 \u001b[0m | \u001b[0m 0.5     \u001b[0m | \u001b[0m 0.2     \u001b[0m | \u001b[0m 3.0     \u001b[0m | \u001b[0m 1.0     \u001b[0m | \u001b[0m 407.4   \u001b[0m | \u001b[0m 2.0     \u001b[0m | \u001b[0m 1.0     \u001b[0m |\n",
            "| \u001b[0m 155     \u001b[0m | \u001b[0m-0.01185 \u001b[0m | \u001b[0m 0.5102  \u001b[0m | \u001b[0m 0.1391  \u001b[0m | \u001b[0m 3.386   \u001b[0m | \u001b[0m 9.732   \u001b[0m | \u001b[0m 794.2   \u001b[0m | \u001b[0m 2.378   \u001b[0m | \u001b[0m 0.8233  \u001b[0m |\n",
            "| \u001b[0m 156     \u001b[0m | \u001b[0m-0.03324 \u001b[0m | \u001b[0m 1.0     \u001b[0m | \u001b[0m 0.2     \u001b[0m | \u001b[0m 3.0     \u001b[0m | \u001b[0m 1.0     \u001b[0m | \u001b[0m 57.35   \u001b[0m | \u001b[0m 2.0     \u001b[0m | \u001b[0m 0.5     \u001b[0m |\n",
            "| \u001b[0m 157     \u001b[0m | \u001b[0m-0.007125\u001b[0m | \u001b[0m 0.5661  \u001b[0m | \u001b[0m 0.1284  \u001b[0m | \u001b[0m 3.113   \u001b[0m | \u001b[0m 1.138   \u001b[0m | \u001b[0m 274.3   \u001b[0m | \u001b[0m 15.61   \u001b[0m | \u001b[0m 0.6404  \u001b[0m |\n",
            "| \u001b[0m 158     \u001b[0m | \u001b[0m-1.098   \u001b[0m | \u001b[0m 1.0     \u001b[0m | \u001b[0m 0.0005  \u001b[0m | \u001b[0m 3.0     \u001b[0m | \u001b[0m 10.0    \u001b[0m | \u001b[0m 673.4   \u001b[0m | \u001b[0m 16.0    \u001b[0m | \u001b[0m 1.0     \u001b[0m |\n",
            "| \u001b[0m 159     \u001b[0m | \u001b[0m-0.01347 \u001b[0m | \u001b[0m 1.0     \u001b[0m | \u001b[0m 0.2     \u001b[0m | \u001b[0m 3.0     \u001b[0m | \u001b[0m 10.0    \u001b[0m | \u001b[0m 273.4   \u001b[0m | \u001b[0m 2.0     \u001b[0m | \u001b[0m 1.0     \u001b[0m |\n",
            "| \u001b[0m 160     \u001b[0m | \u001b[0m-0.0123  \u001b[0m | \u001b[0m 0.5     \u001b[0m | \u001b[0m 0.2     \u001b[0m | \u001b[0m 3.0     \u001b[0m | \u001b[0m 1.0     \u001b[0m | \u001b[0m 807.3   \u001b[0m | \u001b[0m 2.0     \u001b[0m | \u001b[0m 0.5     \u001b[0m |\n",
            "| \u001b[0m 161     \u001b[0m | \u001b[0m-1.116   \u001b[0m | \u001b[0m 1.0     \u001b[0m | \u001b[0m 0.0005  \u001b[0m | \u001b[0m 3.0     \u001b[0m | \u001b[0m 1.0     \u001b[0m | \u001b[0m 652.6   \u001b[0m | \u001b[0m 16.0    \u001b[0m | \u001b[0m 0.5     \u001b[0m |\n",
            "| \u001b[0m 162     \u001b[0m | \u001b[0m-0.9761  \u001b[0m | \u001b[0m 1.0     \u001b[0m | \u001b[0m 0.0005  \u001b[0m | \u001b[0m 10.0    \u001b[0m | \u001b[0m 1.0     \u001b[0m | \u001b[0m 758.5   \u001b[0m | \u001b[0m 16.0    \u001b[0m | \u001b[0m 1.0     \u001b[0m |\n",
            "| \u001b[0m 163     \u001b[0m | \u001b[0m-0.01147 \u001b[0m | \u001b[0m 1.0     \u001b[0m | \u001b[0m 0.2     \u001b[0m | \u001b[0m 10.0    \u001b[0m | \u001b[0m 1.0     \u001b[0m | \u001b[0m 926.4   \u001b[0m | \u001b[0m 2.0     \u001b[0m | \u001b[0m 1.0     \u001b[0m |\n",
            "| \u001b[0m 164     \u001b[0m | \u001b[0m-0.01276 \u001b[0m | \u001b[0m 0.5     \u001b[0m | \u001b[0m 0.2     \u001b[0m | \u001b[0m 3.0     \u001b[0m | \u001b[0m 1.0     \u001b[0m | \u001b[0m 668.2   \u001b[0m | \u001b[0m 2.0     \u001b[0m | \u001b[0m 0.5     \u001b[0m |\n",
            "| \u001b[0m 165     \u001b[0m | \u001b[0m-0.00619 \u001b[0m | \u001b[0m 0.5     \u001b[0m | \u001b[0m 0.2     \u001b[0m | \u001b[0m 3.0     \u001b[0m | \u001b[0m 1.0     \u001b[0m | \u001b[0m 702.5   \u001b[0m | \u001b[0m 16.0    \u001b[0m | \u001b[0m 0.5     \u001b[0m |\n",
            "| \u001b[0m 166     \u001b[0m | \u001b[0m-0.0141  \u001b[0m | \u001b[0m 1.0     \u001b[0m | \u001b[0m 0.2     \u001b[0m | \u001b[0m 10.0    \u001b[0m | \u001b[0m 10.0    \u001b[0m | \u001b[0m 201.6   \u001b[0m | \u001b[0m 2.0     \u001b[0m | \u001b[0m 0.5     \u001b[0m |\n",
            "| \u001b[0m 167     \u001b[0m | \u001b[0m-0.03686 \u001b[0m | \u001b[0m 0.5     \u001b[0m | \u001b[0m 0.2     \u001b[0m | \u001b[0m 3.0     \u001b[0m | \u001b[0m 1.0     \u001b[0m | \u001b[0m 81.23   \u001b[0m | \u001b[0m 2.0     \u001b[0m | \u001b[0m 1.0     \u001b[0m |\n",
            "| \u001b[0m 168     \u001b[0m | \u001b[0m-0.006094\u001b[0m | \u001b[0m 1.0     \u001b[0m | \u001b[0m 0.2     \u001b[0m | \u001b[0m 3.0     \u001b[0m | \u001b[0m 1.0     \u001b[0m | \u001b[0m 525.8   \u001b[0m | \u001b[0m 16.0    \u001b[0m | \u001b[0m 1.0     \u001b[0m |\n",
            "| \u001b[0m 169     \u001b[0m | \u001b[0m-0.006266\u001b[0m | \u001b[0m 1.0     \u001b[0m | \u001b[0m 0.2     \u001b[0m | \u001b[0m 3.0     \u001b[0m | \u001b[0m 1.0     \u001b[0m | \u001b[0m 420.5   \u001b[0m | \u001b[0m 16.0    \u001b[0m | \u001b[0m 1.0     \u001b[0m |\n",
            "| \u001b[0m 170     \u001b[0m | \u001b[0m-0.0179  \u001b[0m | \u001b[0m 0.5     \u001b[0m | \u001b[0m 0.2     \u001b[0m | \u001b[0m 3.0     \u001b[0m | \u001b[0m 1.0     \u001b[0m | \u001b[0m 213.3   \u001b[0m | \u001b[0m 2.0     \u001b[0m | \u001b[0m 1.0     \u001b[0m |\n",
            "| \u001b[0m 171     \u001b[0m | \u001b[0m-0.00677 \u001b[0m | \u001b[0m 0.5     \u001b[0m | \u001b[0m 0.2     \u001b[0m | \u001b[0m 3.0     \u001b[0m | \u001b[0m 1.0     \u001b[0m | \u001b[0m 390.8   \u001b[0m | \u001b[0m 16.0    \u001b[0m | \u001b[0m 0.5     \u001b[0m |\n",
            "| \u001b[0m 172     \u001b[0m | \u001b[0m-0.0129  \u001b[0m | \u001b[0m 0.5     \u001b[0m | \u001b[0m 0.2     \u001b[0m | \u001b[0m 10.0    \u001b[0m | \u001b[0m 1.0     \u001b[0m | \u001b[0m 636.0   \u001b[0m | \u001b[0m 2.0     \u001b[0m | \u001b[0m 0.5     \u001b[0m |\n",
            "| \u001b[0m 173     \u001b[0m | \u001b[0m-0.005947\u001b[0m | \u001b[0m 0.8126  \u001b[0m | \u001b[0m 0.1923  \u001b[0m | \u001b[0m 3.365   \u001b[0m | \u001b[0m 9.781   \u001b[0m | \u001b[0m 768.3   \u001b[0m | \u001b[0m 15.68   \u001b[0m | \u001b[0m 0.8605  \u001b[0m |\n",
            "| \u001b[0m 174     \u001b[0m | \u001b[0m-1.879   \u001b[0m | \u001b[0m 0.5     \u001b[0m | \u001b[0m 0.0005  \u001b[0m | \u001b[0m 10.0    \u001b[0m | \u001b[0m 10.0    \u001b[0m | \u001b[0m 64.6    \u001b[0m | \u001b[0m 9.077   \u001b[0m | \u001b[0m 0.5     \u001b[0m |\n",
            "| \u001b[0m 175     \u001b[0m | \u001b[0m-0.006271\u001b[0m | \u001b[0m 0.648   \u001b[0m | \u001b[0m 0.08437 \u001b[0m | \u001b[0m 9.586   \u001b[0m | \u001b[0m 1.091   \u001b[0m | \u001b[0m 543.1   \u001b[0m | \u001b[0m 15.86   \u001b[0m | \u001b[0m 0.8119  \u001b[0m |\n",
            "| \u001b[0m 176     \u001b[0m | \u001b[0m-1.542   \u001b[0m | \u001b[0m 1.0     \u001b[0m | \u001b[0m 0.0005  \u001b[0m | \u001b[0m 3.0     \u001b[0m | \u001b[0m 10.0    \u001b[0m | \u001b[0m 418.7   \u001b[0m | \u001b[0m 2.0     \u001b[0m | \u001b[0m 1.0     \u001b[0m |\n",
            "| \u001b[0m 177     \u001b[0m | \u001b[0m-0.006117\u001b[0m | \u001b[0m 0.5     \u001b[0m | \u001b[0m 0.2     \u001b[0m | \u001b[0m 3.0     \u001b[0m | \u001b[0m 1.0     \u001b[0m | \u001b[0m 780.0   \u001b[0m | \u001b[0m 9.555   \u001b[0m | \u001b[0m 0.5     \u001b[0m |\n",
            "| \u001b[0m 178     \u001b[0m | \u001b[0m-0.00636 \u001b[0m | \u001b[0m 0.5     \u001b[0m | \u001b[0m 0.2     \u001b[0m | \u001b[0m 10.0    \u001b[0m | \u001b[0m 1.0     \u001b[0m | \u001b[0m 821.1   \u001b[0m | \u001b[0m 16.0    \u001b[0m | \u001b[0m 1.0     \u001b[0m |\n",
            "| \u001b[0m 179     \u001b[0m | \u001b[0m-0.01361 \u001b[0m | \u001b[0m 0.5     \u001b[0m | \u001b[0m 0.2     \u001b[0m | \u001b[0m 3.0     \u001b[0m | \u001b[0m 10.0    \u001b[0m | \u001b[0m 499.6   \u001b[0m | \u001b[0m 2.0     \u001b[0m | \u001b[0m 0.5     \u001b[0m |\n",
            "| \u001b[0m 180     \u001b[0m | \u001b[0m-0.1035  \u001b[0m | \u001b[0m 0.9269  \u001b[0m | \u001b[0m 0.172   \u001b[0m | \u001b[0m 9.972   \u001b[0m | \u001b[0m 9.817   \u001b[0m | \u001b[0m 31.76   \u001b[0m | \u001b[0m 2.22    \u001b[0m | \u001b[0m 0.9406  \u001b[0m |\n",
            "| \u001b[0m 181     \u001b[0m | \u001b[0m-0.006359\u001b[0m | \u001b[0m 0.5     \u001b[0m | \u001b[0m 0.2     \u001b[0m | \u001b[0m 10.0    \u001b[0m | \u001b[0m 1.0     \u001b[0m | \u001b[0m 713.6   \u001b[0m | \u001b[0m 16.0    \u001b[0m | \u001b[0m 0.5     \u001b[0m |\n",
            "| \u001b[0m 182     \u001b[0m | \u001b[0m-0.006653\u001b[0m | \u001b[0m 1.0     \u001b[0m | \u001b[0m 0.2     \u001b[0m | \u001b[0m 3.0     \u001b[0m | \u001b[0m 10.0    \u001b[0m | \u001b[0m 281.9   \u001b[0m | \u001b[0m 16.0    \u001b[0m | \u001b[0m 1.0     \u001b[0m |\n",
            "| \u001b[0m 183     \u001b[0m | \u001b[0m-0.006019\u001b[0m | \u001b[0m 1.0     \u001b[0m | \u001b[0m 0.2     \u001b[0m | \u001b[0m 10.0    \u001b[0m | \u001b[0m 1.0     \u001b[0m | \u001b[0m 836.1   \u001b[0m | \u001b[0m 9.912   \u001b[0m | \u001b[0m 1.0     \u001b[0m |\n",
            "| \u001b[0m 184     \u001b[0m | \u001b[0m-0.006354\u001b[0m | \u001b[0m 0.5     \u001b[0m | \u001b[0m 0.2     \u001b[0m | \u001b[0m 10.0    \u001b[0m | \u001b[0m 10.0    \u001b[0m | \u001b[0m 701.5   \u001b[0m | \u001b[0m 16.0    \u001b[0m | \u001b[0m 0.5     \u001b[0m |\n",
            "| \u001b[0m 185     \u001b[0m | \u001b[0m-1.718   \u001b[0m | \u001b[0m 1.0     \u001b[0m | \u001b[0m 0.0005  \u001b[0m | \u001b[0m 3.0     \u001b[0m | \u001b[0m 10.0    \u001b[0m | \u001b[0m 224.4   \u001b[0m | \u001b[0m 2.0     \u001b[0m | \u001b[0m 0.5     \u001b[0m |\n",
            "| \u001b[0m 186     \u001b[0m | \u001b[0m-0.01454 \u001b[0m | \u001b[0m 0.7309  \u001b[0m | \u001b[0m 0.08551 \u001b[0m | \u001b[0m 9.369   \u001b[0m | \u001b[0m 1.384   \u001b[0m | \u001b[0m 248.6   \u001b[0m | \u001b[0m 2.001   \u001b[0m | \u001b[0m 0.8862  \u001b[0m |\n",
            "| \u001b[0m 187     \u001b[0m | \u001b[0m-0.006404\u001b[0m | \u001b[0m 1.0     \u001b[0m | \u001b[0m 0.2     \u001b[0m | \u001b[0m 10.0    \u001b[0m | \u001b[0m 1.0     \u001b[0m | \u001b[0m 261.1   \u001b[0m | \u001b[0m 16.0    \u001b[0m | \u001b[0m 1.0     \u001b[0m |\n",
            "| \u001b[0m 188     \u001b[0m | \u001b[0m-0.006354\u001b[0m | \u001b[0m 1.0     \u001b[0m | \u001b[0m 0.2     \u001b[0m | \u001b[0m 3.0     \u001b[0m | \u001b[0m 10.0    \u001b[0m | \u001b[0m 372.4   \u001b[0m | \u001b[0m 16.0    \u001b[0m | \u001b[0m 1.0     \u001b[0m |\n",
            "| \u001b[0m 189     \u001b[0m | \u001b[0m-0.0116  \u001b[0m | \u001b[0m 0.6649  \u001b[0m | \u001b[0m 0.1866  \u001b[0m | \u001b[0m 9.954   \u001b[0m | \u001b[0m 9.459   \u001b[0m | \u001b[0m 803.9   \u001b[0m | \u001b[0m 2.086   \u001b[0m | \u001b[0m 0.8189  \u001b[0m |\n",
            "| \u001b[0m 190     \u001b[0m | \u001b[0m-0.006328\u001b[0m | \u001b[0m 0.5     \u001b[0m | \u001b[0m 0.2     \u001b[0m | \u001b[0m 10.0    \u001b[0m | \u001b[0m 1.0     \u001b[0m | \u001b[0m 1.024e+0\u001b[0m | \u001b[0m 16.0    \u001b[0m | \u001b[0m 0.5     \u001b[0m |\n",
            "| \u001b[0m 191     \u001b[0m | \u001b[0m-0.009064\u001b[0m | \u001b[0m 1.0     \u001b[0m | \u001b[0m 0.2     \u001b[0m | \u001b[0m 10.0    \u001b[0m | \u001b[0m 1.0     \u001b[0m | \u001b[0m 39.65   \u001b[0m | \u001b[0m 16.0    \u001b[0m | \u001b[0m 0.5     \u001b[0m |\n",
            "| \u001b[0m 192     \u001b[0m | \u001b[0m-0.006884\u001b[0m | \u001b[0m 0.8434  \u001b[0m | \u001b[0m 0.06888 \u001b[0m | \u001b[0m 3.471   \u001b[0m | \u001b[0m 9.142   \u001b[0m | \u001b[0m 635.5   \u001b[0m | \u001b[0m 5.3     \u001b[0m | \u001b[0m 0.5162  \u001b[0m |\n",
            "| \u001b[0m 193     \u001b[0m | \u001b[0m-0.005751\u001b[0m | \u001b[0m 1.0     \u001b[0m | \u001b[0m 0.2     \u001b[0m | \u001b[0m 3.0     \u001b[0m | \u001b[0m 1.0     \u001b[0m | \u001b[0m 992.4   \u001b[0m | \u001b[0m 4.388   \u001b[0m | \u001b[0m 1.0     \u001b[0m |\n",
            "| \u001b[0m 194     \u001b[0m | \u001b[0m-0.01237 \u001b[0m | \u001b[0m 0.5     \u001b[0m | \u001b[0m 0.2     \u001b[0m | \u001b[0m 10.0    \u001b[0m | \u001b[0m 10.0    \u001b[0m | \u001b[0m 783.0   \u001b[0m | \u001b[0m 2.0     \u001b[0m | \u001b[0m 0.5     \u001b[0m |\n",
            "| \u001b[0m 195     \u001b[0m | \u001b[0m-0.01086 \u001b[0m | \u001b[0m 0.8091  \u001b[0m | \u001b[0m 0.09562 \u001b[0m | \u001b[0m 4.007   \u001b[0m | \u001b[0m 1.351   \u001b[0m | \u001b[0m 475.1   \u001b[0m | \u001b[0m 2.422   \u001b[0m | \u001b[0m 0.5869  \u001b[0m |\n",
            "| \u001b[0m 196     \u001b[0m | \u001b[0m-0.9188  \u001b[0m | \u001b[0m 1.0     \u001b[0m | \u001b[0m 0.0005  \u001b[0m | \u001b[0m 3.0     \u001b[0m | \u001b[0m 1.0     \u001b[0m | \u001b[0m 886.3   \u001b[0m | \u001b[0m 16.0    \u001b[0m | \u001b[0m 0.5     \u001b[0m |\n",
            "| \u001b[0m 197     \u001b[0m | \u001b[0m-0.006575\u001b[0m | \u001b[0m 0.5     \u001b[0m | \u001b[0m 0.2     \u001b[0m | \u001b[0m 3.0     \u001b[0m | \u001b[0m 1.0     \u001b[0m | \u001b[0m 483.6   \u001b[0m | \u001b[0m 16.0    \u001b[0m | \u001b[0m 0.5     \u001b[0m |\n",
            "| \u001b[0m 198     \u001b[0m | \u001b[0m-0.01537 \u001b[0m | \u001b[0m 1.0     \u001b[0m | \u001b[0m 0.2     \u001b[0m | \u001b[0m 3.0     \u001b[0m | \u001b[0m 10.0    \u001b[0m | \u001b[0m 145.5   \u001b[0m | \u001b[0m 2.0     \u001b[0m | \u001b[0m 1.0     \u001b[0m |\n",
            "| \u001b[0m 199     \u001b[0m | \u001b[0m-0.006361\u001b[0m | \u001b[0m 0.5     \u001b[0m | \u001b[0m 0.2     \u001b[0m | \u001b[0m 10.0    \u001b[0m | \u001b[0m 10.0    \u001b[0m | \u001b[0m 723.3   \u001b[0m | \u001b[0m 16.0    \u001b[0m | \u001b[0m 0.5     \u001b[0m |\n",
            "| \u001b[0m 200     \u001b[0m | \u001b[0m-0.0187  \u001b[0m | \u001b[0m 0.5     \u001b[0m | \u001b[0m 0.2     \u001b[0m | \u001b[0m 3.0     \u001b[0m | \u001b[0m 10.0    \u001b[0m | \u001b[0m 193.2   \u001b[0m | \u001b[0m 2.0     \u001b[0m | \u001b[0m 1.0     \u001b[0m |\n",
            "| \u001b[0m 201     \u001b[0m | \u001b[0m-0.005963\u001b[0m | \u001b[0m 0.5     \u001b[0m | \u001b[0m 0.2     \u001b[0m | \u001b[0m 3.0     \u001b[0m | \u001b[0m 1.0     \u001b[0m | \u001b[0m 985.5   \u001b[0m | \u001b[0m 16.0    \u001b[0m | \u001b[0m 1.0     \u001b[0m |\n",
            "| \u001b[0m 202     \u001b[0m | \u001b[0m-0.06123 \u001b[0m | \u001b[0m 0.5     \u001b[0m | \u001b[0m 0.2     \u001b[0m | \u001b[0m 10.0    \u001b[0m | \u001b[0m 1.0     \u001b[0m | \u001b[0m 49.9    \u001b[0m | \u001b[0m 2.0     \u001b[0m | \u001b[0m 1.0     \u001b[0m |\n",
            "| \u001b[0m 203     \u001b[0m | \u001b[0m-0.006105\u001b[0m | \u001b[0m 1.0     \u001b[0m | \u001b[0m 0.2     \u001b[0m | \u001b[0m 3.0     \u001b[0m | \u001b[0m 10.0    \u001b[0m | \u001b[0m 517.3   \u001b[0m | \u001b[0m 16.0    \u001b[0m | \u001b[0m 0.5     \u001b[0m |\n",
            "| \u001b[0m 204     \u001b[0m | \u001b[0m-0.01648 \u001b[0m | \u001b[0m 0.5     \u001b[0m | \u001b[0m 0.2     \u001b[0m | \u001b[0m 10.0    \u001b[0m | \u001b[0m 10.0    \u001b[0m | \u001b[0m 262.5   \u001b[0m | \u001b[0m 2.0     \u001b[0m | \u001b[0m 1.0     \u001b[0m |\n",
            "| \u001b[0m 205     \u001b[0m | \u001b[0m-0.005823\u001b[0m | \u001b[0m 1.0     \u001b[0m | \u001b[0m 0.2     \u001b[0m | \u001b[0m 3.0     \u001b[0m | \u001b[0m 10.0    \u001b[0m | \u001b[0m 1.001e+0\u001b[0m | \u001b[0m 16.0    \u001b[0m | \u001b[0m 1.0     \u001b[0m |\n",
            "| \u001b[0m 206     \u001b[0m | \u001b[0m-1.793   \u001b[0m | \u001b[0m 0.5     \u001b[0m | \u001b[0m 0.0005  \u001b[0m | \u001b[0m 10.0    \u001b[0m | \u001b[0m 1.0     \u001b[0m | \u001b[0m 204.9   \u001b[0m | \u001b[0m 2.0     \u001b[0m | \u001b[0m 1.0     \u001b[0m |\n",
            "| \u001b[0m 207     \u001b[0m | \u001b[0m-1.299   \u001b[0m | \u001b[0m 1.0     \u001b[0m | \u001b[0m 0.0005  \u001b[0m | \u001b[0m 3.0     \u001b[0m | \u001b[0m 10.0    \u001b[0m | \u001b[0m 475.1   \u001b[0m | \u001b[0m 16.0    \u001b[0m | \u001b[0m 1.0     \u001b[0m |\n",
            "| \u001b[0m 208     \u001b[0m | \u001b[0m-0.006261\u001b[0m | \u001b[0m 0.5456  \u001b[0m | \u001b[0m 0.1341  \u001b[0m | \u001b[0m 9.657   \u001b[0m | \u001b[0m 9.083   \u001b[0m | \u001b[0m 486.1   \u001b[0m | \u001b[0m 6.136   \u001b[0m | \u001b[0m 0.9397  \u001b[0m |\n",
            "| \u001b[0m 209     \u001b[0m | \u001b[0m-0.00747 \u001b[0m | \u001b[0m 0.7666  \u001b[0m | \u001b[0m 0.1087  \u001b[0m | \u001b[0m 9.839   \u001b[0m | \u001b[0m 9.783   \u001b[0m | \u001b[0m 185.5   \u001b[0m | \u001b[0m 8.709   \u001b[0m | \u001b[0m 0.8169  \u001b[0m |\n",
            "| \u001b[0m 210     \u001b[0m | \u001b[0m-1.52    \u001b[0m | \u001b[0m 1.0     \u001b[0m | \u001b[0m 0.0005  \u001b[0m | \u001b[0m 10.0    \u001b[0m | \u001b[0m 10.0    \u001b[0m | \u001b[0m 274.9   \u001b[0m | \u001b[0m 16.0    \u001b[0m | \u001b[0m 0.5     \u001b[0m |\n",
            "=============================================================================================================\n"
          ],
          "name": "stdout"
        }
      ]
    },
    {
      "cell_type": "code",
      "metadata": {
        "colab": {
          "base_uri": "https://localhost:8080/"
        },
        "id": "A-pWf8i1mJ4W",
        "outputId": "ca6183dc-c186-431b-f491-22ab82f55ab1"
      },
      "source": [
        "#bayesian optimization을 통해 도출한 최적의 parameter\n",
        "\n",
        "BO_lgbm.max"
      ],
      "execution_count": 54,
      "outputs": [
        {
          "output_type": "execute_result",
          "data": {
            "text/plain": [
              "{'params': {'colsample_bytree': 0.6402219960322026,\n",
              "  'learning_rate': 0.15796122602607196,\n",
              "  'max_depth': 3.7225820460434944,\n",
              "  'min_child_weight': 5.0310417355831465,\n",
              "  'n_estimators': 931.8642671178403,\n",
              "  'num_leaves': 6.110598077231513,\n",
              "  'subsample': 0.6438876692931743},\n",
              " 'target': -0.005710574688479369}"
            ]
          },
          "metadata": {
            "tags": []
          },
          "execution_count": 54
        }
      ]
    },
    {
      "cell_type": "code",
      "metadata": {
        "id": "bOVgLGPeo66K"
      },
      "source": [
        "#정수값으로 입력되어야 하는 parameter 반올림\n",
        "\n",
        "params_lgbm = BO_lgbm.max['params']\n",
        "params_lgbm['max_depth'] = int(round(params_lgbm['max_depth']))\n",
        "params_lgbm['n_estimators'] = int(round(params_lgbm['n_estimators']))\n",
        "params_lgbm['num_leaves'] = int(round(params_lgbm['num_leaves']))"
      ],
      "execution_count": 55,
      "outputs": []
    },
    {
      "cell_type": "code",
      "metadata": {
        "id": "yFn84uF-o7Xa",
        "colab": {
          "base_uri": "https://localhost:8080/"
        },
        "outputId": "343f8fb0-cc6b-40cd-fdc1-1bab8c9741a8"
      },
      "source": [
        "#LGBM 모델 적합\n",
        "\n",
        "lgbm = LGBMRegressor(seed = 10, **params_lgbm)\n",
        "lgbm.fit(train_x, train_y)"
      ],
      "execution_count": 56,
      "outputs": [
        {
          "output_type": "execute_result",
          "data": {
            "text/plain": [
              "LGBMRegressor(boosting_type='gbdt', class_weight=None,\n",
              "              colsample_bytree=0.6402219960322026, importance_type='split',\n",
              "              learning_rate=0.15796122602607196, max_depth=4,\n",
              "              min_child_samples=20, min_child_weight=5.0310417355831465,\n",
              "              min_split_gain=0.0, n_estimators=932, n_jobs=-1, num_leaves=6,\n",
              "              objective=None, random_state=None, reg_alpha=0.0, reg_lambda=0.0,\n",
              "              seed=10, silent=True, subsample=0.6438876692931743,\n",
              "              subsample_for_bin=200000, subsample_freq=0)"
            ]
          },
          "metadata": {
            "tags": []
          },
          "execution_count": 56
        }
      ]
    },
    {
      "cell_type": "code",
      "metadata": {
        "id": "4Aq-uN9CpOsP"
      },
      "source": [
        "#적합된 LGBM 모델의 예측값 계산\n",
        "#모델을 적합할 때 종속변수인 'value'를 로그변환 했으므로 exp함수를 통해 원래의 'value'값 예측\n",
        "\n",
        "lgbm_pred_train = np.expm1(lgbm.predict(train_x))\n",
        "lgbm_pred_test = np.expm1(lgbm.predict(test_x))"
      ],
      "execution_count": 57,
      "outputs": []
    },
    {
      "cell_type": "code",
      "metadata": {
        "colab": {
          "base_uri": "https://localhost:8080/"
        },
        "id": "siKBxt7Ir6TW",
        "outputId": "fb5a2c78-18d1-49da-a27e-3305af38cc8f"
      },
      "source": [
        "#train RMSE, test RMSE\n",
        "\n",
        "np.sqrt(metrics.mean_squared_error(np.expm1(train_y), lgbm_pred_train)), np.sqrt(metrics.mean_squared_error(np.expm1(test_y), lgbm_pred_test))"
      ],
      "execution_count": 58,
      "outputs": [
        {
          "output_type": "execute_result",
          "data": {
            "text/plain": [
              "(580778.1221243952, 501206.05004378135)"
            ]
          },
          "metadata": {
            "tags": []
          },
          "execution_count": 58
        }
      ]
    },
    {
      "cell_type": "markdown",
      "metadata": {
        "id": "UYpUGo4UK2lx"
      },
      "source": [
        "__train RMSE: 580778, test RMSE: 501206으로 Random Forest모델보다 조금 더 좋은 예측 성능을 보이고 있다.  \n",
        "또한, LGBM모델에서는 과적합 문제도 없는 것으로 보인다.__"
      ]
    },
    {
      "cell_type": "markdown",
      "metadata": {
        "id": "1GzTPW6vLPpj"
      },
      "source": [
        "># __정리__\n",
        "\n",
        ">__지금까지 해외 축구선수 이적료라는 종속변수를 예측하기 위해 다양한 독립변수를 활용하여 OLS, Random Forest, LGBM모델을 살펴봤다.__\n",
        "\n",
        ">__OLS모형은 해석력은 뛰어나지만, 예측은 다른 머신러닝 모델에 비해 부족하다. 따라서 종속변수의 예측이라는 해당 과제의 최종 모델로 적합하지 않다.__\n",
        "\n",
        ">__Random Forest모델은 parameter tunning을 통해 최적의 parameter로 모형을 적합했음에도 불구하고, 과적합의 문제가 발생했다. \n",
        "위 분석과정에 포함되어 있지는 않지만, 두 번째로 좋은 parameter를 활용했을 때는 과적합 문제는 없지만 RMSE값이 1000000보다 커지면서 예측 성능이 현저하게 떨어졌으며, parameter tunning에서 bound를 넓혔을 때는 더 심한 과적합이 발생했음을 확인했다.  \n",
        "따라서, Random Forest모델은 해당 과제 해결을 위한 최종 모델로 적합하지 않다.__\n",
        "\n",
        ">__LGBM모형은 세 가지 모형 중에서 가장 좋은 예측 성능을 보여줬으며, 과적합 문제 또한 발생하지 않았다.__  \n",
        "## __따라서 해외 축구선수 이적료를 예측하기 위한 최종 모델로 LGBM을 사용한다.__"
      ]
    },
    {
      "cell_type": "markdown",
      "metadata": {
        "id": "hi6k7oG7T9yI"
      },
      "source": [
        "# __번외__"
      ]
    },
    {
      "cell_type": "code",
      "metadata": {
        "colab": {
          "base_uri": "https://localhost:8080/",
          "height": 402
        },
        "id": "hU52SfpJP5i1",
        "outputId": "9e3b288d-7525-46c7-dee2-00eb536dda46"
      },
      "source": [
        "#LGBM모델을 통해 대회에서 주어진 test data를 활용하여 예측값을 계산한다.\n",
        "#이 값을 대회에 제출하기 위해 csv파일로 저장한다.\n",
        "\n",
        "final_pred_test = np.expm1(lgbm.predict(final_test_x))\n",
        "\n",
        "final_pred_test = pd.DataFrame(final_pred_test)\n",
        "\n",
        "final_pred_test = final_pred_test.rename(columns = {0:'value'})\n",
        "\n",
        "final_pred_test.to_csv('result.csv')\n",
        "\n",
        "final_pred_test"
      ],
      "execution_count": 59,
      "outputs": [
        {
          "output_type": "execute_result",
          "data": {
            "text/html": [
              "<div>\n",
              "<style scoped>\n",
              "    .dataframe tbody tr th:only-of-type {\n",
              "        vertical-align: middle;\n",
              "    }\n",
              "\n",
              "    .dataframe tbody tr th {\n",
              "        vertical-align: top;\n",
              "    }\n",
              "\n",
              "    .dataframe thead th {\n",
              "        text-align: right;\n",
              "    }\n",
              "</style>\n",
              "<table border=\"1\" class=\"dataframe\">\n",
              "  <thead>\n",
              "    <tr style=\"text-align: right;\">\n",
              "      <th></th>\n",
              "      <th>value</th>\n",
              "    </tr>\n",
              "  </thead>\n",
              "  <tbody>\n",
              "    <tr>\n",
              "      <th>0</th>\n",
              "      <td>4.772702e+07</td>\n",
              "    </tr>\n",
              "    <tr>\n",
              "      <th>1</th>\n",
              "      <td>8.454216e+07</td>\n",
              "    </tr>\n",
              "    <tr>\n",
              "      <th>2</th>\n",
              "      <td>7.365841e+07</td>\n",
              "    </tr>\n",
              "    <tr>\n",
              "      <th>3</th>\n",
              "      <td>8.613785e+07</td>\n",
              "    </tr>\n",
              "    <tr>\n",
              "      <th>4</th>\n",
              "      <td>5.012954e+07</td>\n",
              "    </tr>\n",
              "    <tr>\n",
              "      <th>...</th>\n",
              "      <td>...</td>\n",
              "    </tr>\n",
              "    <tr>\n",
              "      <th>3823</th>\n",
              "      <td>5.674293e+04</td>\n",
              "    </tr>\n",
              "    <tr>\n",
              "      <th>3824</th>\n",
              "      <td>5.005278e+04</td>\n",
              "    </tr>\n",
              "    <tr>\n",
              "      <th>3825</th>\n",
              "      <td>5.767936e+04</td>\n",
              "    </tr>\n",
              "    <tr>\n",
              "      <th>3826</th>\n",
              "      <td>4.851603e+04</td>\n",
              "    </tr>\n",
              "    <tr>\n",
              "      <th>3827</th>\n",
              "      <td>4.874896e+04</td>\n",
              "    </tr>\n",
              "  </tbody>\n",
              "</table>\n",
              "<p>3828 rows × 1 columns</p>\n",
              "</div>"
            ],
            "text/plain": [
              "             value\n",
              "0     4.772702e+07\n",
              "1     8.454216e+07\n",
              "2     7.365841e+07\n",
              "3     8.613785e+07\n",
              "4     5.012954e+07\n",
              "...            ...\n",
              "3823  5.674293e+04\n",
              "3824  5.005278e+04\n",
              "3825  5.767936e+04\n",
              "3826  4.851603e+04\n",
              "3827  4.874896e+04\n",
              "\n",
              "[3828 rows x 1 columns]"
            ]
          },
          "metadata": {
            "tags": []
          },
          "execution_count": 59
        }
      ]
    },
    {
      "cell_type": "markdown",
      "metadata": {
        "id": "ADwdml--T15Z"
      },
      "source": [
        "__위의 최종 예측값을 제출한 결과 RMSE: 192513.6361206429라는 결과를 얻었다.  \n",
        "이는 위에서 계산했던 lgbm모델의 train RMSE, test RMSE보다 훨씬 좋은 예측 결과이다.  \n",
        "RMSE score 계산에 오류가 의심되지만 해당 대회의 RMSE score 계산을 위한 식이나, 주어진 test data의 종속변수 값을 알 수 없기 때문에 RMSE 계산에 오류 여부를 확인할 수 없다.  \n",
        "혹은 training에 사용된 데이터가 7145, validation에 사용된 데이터가 1787로 주어진 데이터가 매우 적어서 발생한 문제라고 의심해 볼 수 있다.  \n",
        "또한, 독립변수가 좀 더 다양하게 주어졌다면 더 정확한 예측을 할 수 있었을 것이다.__\n"
      ]
    },
    {
      "cell_type": "markdown",
      "metadata": {
        "id": "wmjMqMK9bvA1"
      },
      "source": [
        "__마지막으로, 근거가 부족해 분석과정에 포함하지 않았지만,  \n",
        "만약 age, stat_potential 변수도 로그변환을 한 뒤, 위의 과정을 진행한다면 RMSE: 187783.23158로 더 좋은 결과를 얻을 수 있다.  \n",
        "RMSE값이 다소 커보이지만 이 값이 5위임을 고려한다면 상당히 좋은 결과라고 볼 수 있다.__"
      ]
    }
  ]
}