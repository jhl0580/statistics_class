{
  "nbformat": 4,
  "nbformat_minor": 0,
  "metadata": {
    "colab": {
      "name": "Untitled0.ipynb",
      "provenance": [],
      "authorship_tag": "ABX9TyOdTiMBqme3zBPasLPxmUAC",
      "include_colab_link": true
    },
    "kernelspec": {
      "name": "python3",
      "display_name": "Python 3"
    }
  },
  "cells": [
    {
      "cell_type": "markdown",
      "metadata": {
        "id": "view-in-github",
        "colab_type": "text"
      },
      "source": [
        "<a href=\"https://colab.research.google.com/github/jhl0580/statistics_class/blob/main/colab_test.ipynb\" target=\"_parent\"><img src=\"https://colab.research.google.com/assets/colab-badge.svg\" alt=\"Open In Colab\"/></a>"
      ]
    },
    {
      "cell_type": "code",
      "metadata": {
        "colab": {
          "base_uri": "https://localhost:8080/"
        },
        "id": "JDQ1yHyrs7zJ",
        "outputId": "f73d9c43-747c-42c8-cc89-5ff2981174b4"
      },
      "source": [
        "import numpy as np\r\n",
        "\r\n",
        "x = np.array([1,2,3])\r\n",
        "y = np.array([2,3,4])\r\n",
        "\r\n",
        "np.dot(x, y.T)"
      ],
      "execution_count": 7,
      "outputs": [
        {
          "output_type": "execute_result",
          "data": {
            "text/plain": [
              "20"
            ]
          },
          "metadata": {
            "tags": []
          },
          "execution_count": 7
        }
      ]
    },
    {
      "cell_type": "code",
      "metadata": {
        "id": "SWSWj-HBtGtf"
      },
      "source": [
        "class test:\r\n",
        "  def __init__(self, first_dim, second_dim, third_dim):\r\n",
        "    self.x = np.random.randn(first_dim, second_dim)\r\n",
        "    self.y = np.random.randn(second_dim, third_dim)\r\n",
        "  \r\n",
        "  def forward(self):\r\n",
        "    self.z = np.matmul(self.x, self.y)\r\n",
        "\r\n",
        "    return self.z"
      ],
      "execution_count": 35,
      "outputs": []
    },
    {
      "cell_type": "code",
      "metadata": {
        "id": "EyVOFzI7tJGa"
      },
      "source": [
        "test = test(first_dim=4, second_dim=5, third_dim=6)"
      ],
      "execution_count": 36,
      "outputs": []
    },
    {
      "cell_type": "code",
      "metadata": {
        "colab": {
          "base_uri": "https://localhost:8080/"
        },
        "id": "MT11J6hytJi9",
        "outputId": "494541bd-8bf8-4dac-c1fe-1bbd5dd5fbf8"
      },
      "source": [
        "np.matmul(test.x, test.y)"
      ],
      "execution_count": 27,
      "outputs": [
        {
          "output_type": "execute_result",
          "data": {
            "text/plain": [
              "array([[-0.99688061, -0.3246694 , -2.99660354, -4.38908084,  2.32402001,\n",
              "         1.8193654 ],\n",
              "       [-0.06900139,  3.42239335, -1.34847281,  0.9482093 , -1.48191431,\n",
              "        -0.22682121],\n",
              "       [-0.07334703,  2.18478842,  0.20590759,  0.01370216, -1.38462572,\n",
              "        -2.25671118],\n",
              "       [-0.15677331, -4.12719395, -0.13310788, -1.9170048 ,  3.65727   ,\n",
              "         1.49376174]])"
            ]
          },
          "metadata": {
            "tags": []
          },
          "execution_count": 27
        }
      ]
    },
    {
      "cell_type": "code",
      "metadata": {
        "id": "c1zs8nlxtJ8E"
      },
      "source": [
        "result = test.forward()"
      ],
      "execution_count": 38,
      "outputs": []
    },
    {
      "cell_type": "code",
      "metadata": {
        "colab": {
          "base_uri": "https://localhost:8080/"
        },
        "id": "_v5_zVABtJ-0",
        "outputId": "ff5104c9-e9de-4764-beb9-f9eb0bc44a80"
      },
      "source": [
        "result"
      ],
      "execution_count": 39,
      "outputs": [
        {
          "output_type": "execute_result",
          "data": {
            "text/plain": [
              "array([[-0.8016976 ,  0.58489528,  0.80427874,  0.74840457,  1.87509098,\n",
              "        -0.98780139],\n",
              "       [-0.66231085,  0.30672164,  0.03750368,  1.29803874,  0.17185016,\n",
              "         1.56859947],\n",
              "       [ 0.61290366,  0.94210672, -0.29584223, -1.95920572,  1.03968665,\n",
              "        -1.79212173],\n",
              "       [-0.06851592, -2.26539598,  0.34955677,  1.62525183, -1.81359579,\n",
              "         1.20129703]])"
            ]
          },
          "metadata": {
            "tags": []
          },
          "execution_count": 39
        }
      ]
    },
    {
      "cell_type": "code",
      "metadata": {
        "colab": {
          "base_uri": "https://localhost:8080/"
        },
        "id": "RkKzjPvHtKBr",
        "outputId": "ff873bc4-14aa-40f5-8588-a56eb5968eb4"
      },
      "source": [
        "x = 0\r\n",
        "\r\n",
        "for i in range(10):\r\n",
        "  x = x + i \r\n",
        "\r\n",
        "print(x)"
      ],
      "execution_count": 41,
      "outputs": [
        {
          "output_type": "stream",
          "text": [
            "45\n"
          ],
          "name": "stdout"
        }
      ]
    },
    {
      "cell_type": "code",
      "metadata": {
        "id": "YymPf3YltKEk"
      },
      "source": [
        ""
      ],
      "execution_count": null,
      "outputs": []
    }
  ]
}