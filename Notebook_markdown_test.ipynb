{
  "nbformat": 4,
  "nbformat_minor": 0,
  "metadata": {
    "colab": {
      "name": "Notebook_markdown_test.ipynb",
      "provenance": [],
      "authorship_tag": "ABX9TyNO8r3WCqkVwYlqGpwLsZ7C",
      "include_colab_link": true
    },
    "kernelspec": {
      "name": "python3",
      "display_name": "Python 3"
    }
  },
  "cells": [
    {
      "cell_type": "markdown",
      "metadata": {
        "id": "view-in-github",
        "colab_type": "text"
      },
      "source": [
        "<a href=\"https://colab.research.google.com/github/jhl0580/prac_class/blob/main/Notebook_markdown_test.ipynb\" target=\"_parent\"><img src=\"https://colab.research.google.com/assets/colab-badge.svg\" alt=\"Open In Colab\"/></a>"
      ]
    },
    {
      "cell_type": "markdown",
      "metadata": {
        "id": "BGFaxeyFyQmD"
      },
      "source": [
        "# first title\r\n",
        "## second\r\n",
        "### third"
      ]
    },
    {
      "cell_type": "markdown",
      "metadata": {
        "id": "glyl1HBfyQoj"
      },
      "source": [
        "i can move to another line  \r\n",
        "like this"
      ]
    },
    {
      "cell_type": "markdown",
      "metadata": {
        "id": "z15NxyEOyQrL"
      },
      "source": [
        "[go_to_google](www.google.com)"
      ]
    },
    {
      "cell_type": "markdown",
      "metadata": {
        "id": "5Exxx5hUyQuA"
      },
      "source": [
        "**bold**  \r\n",
        "_italic_  \r\n",
        "**_bold and italic_**"
      ]
    },
    {
      "cell_type": "markdown",
      "metadata": {
        "id": "TAH250KTyOG7"
      },
      "source": [
        ""
      ]
    }
  ]
}